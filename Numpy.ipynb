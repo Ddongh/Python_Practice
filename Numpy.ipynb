{
 "cells": [
  {
   "cell_type": "code",
   "execution_count": null,
   "id": "cf77a1f2",
   "metadata": {},
   "outputs": [],
   "source": [
    "list_data = [1, 2, 3]\n",
    "print(list_data)"
   ]
  },
  {
   "cell_type": "code",
   "execution_count": null,
   "id": "b1e4d784",
   "metadata": {},
   "outputs": [],
   "source": [
    "import numpy as np\n",
    "\n",
    "list_data = [1, 2, 3]\n",
    "array = np.array(list_data)\n",
    "\n",
    "print(list_data)\n",
    "print(array)\n",
    "print(array.size)\n",
    "print(array.dtype)\n",
    "print(array[2])"
   ]
  },
  {
   "cell_type": "code",
   "execution_count": null,
   "id": "ad7e4bac",
   "metadata": {},
   "outputs": [],
   "source": [
    "print(np.sqrt(2))\n",
    "print(2 ** (1/2))\n",
    "print(np.pi)\n",
    "print(np.sin(0))"
   ]
  },
  {
   "cell_type": "code",
   "execution_count": null,
   "id": "8901ddb1",
   "metadata": {},
   "outputs": [],
   "source": [
    "a = np.random.rand(5)\n",
    "print(a)\n",
    "print(type(a))"
   ]
  },
  {
   "cell_type": "code",
   "execution_count": null,
   "id": "6c213fb0",
   "metadata": {},
   "outputs": [],
   "source": [
    "a = np.random.choice(6, 3, replace = False, p = [0.1, 0.1, 0.2, 0.3, 0.1, 0.2])\n",
    "print(a)"
   ]
  },
  {
   "cell_type": "code",
   "execution_count": 2,
   "id": "65d3b24b",
   "metadata": {},
   "outputs": [],
   "source": [
    "from jupyterthemes import jtplot\n",
    "jtplot.style(theme = 'monokai')\n",
    "import matplotlib.pyplot as plt\n",
    "from matplotlib import rc\n",
    "rc('font', family='AppleGothic')\n",
    "plt.rcParams['axes.unicode_minus'] = False"
   ]
  },
  {
   "cell_type": "code",
   "execution_count": null,
   "id": "4500d598",
   "metadata": {},
   "outputs": [],
   "source": [
    "\n",
    "\n",
    "import matplotlib.pyplot as plt\n",
    "\n",
    "a = np.random.choice(6, 1000, replace = True)\n",
    "\n",
    "plt.hist(a + 1, bins = 6)\n",
    "plt.show()"
   ]
  },
  {
   "cell_type": "code",
   "execution_count": null,
   "id": "1f836e1a",
   "metadata": {},
   "outputs": [],
   "source": [
    "a = np.random.choice(6, 10000, replace = True, p = [0.1, 0.2, 0.3, 0.25, 0.1, 0.05])\n",
    "plt.hist(a + 1,  bins = 6)\n",
    "plt.show()"
   ]
  },
  {
   "cell_type": "code",
   "execution_count": null,
   "id": "96cd3cc5",
   "metadata": {},
   "outputs": [],
   "source": [
    "def make_lotto(count):\n",
    "    lotto_num = []\n",
    "    for i in range(count):\n",
    "        for j in range(6):\n",
    "            lotto_num = np.random.choice(range(1, 46), 6, replace = False)\n",
    "        lotto_num.sort()\n",
    "        print('{} 로또 번호 : {} :' .format(i+1, lotto_num) )\n",
    "count = int(input('로또 번호 생성 개수 : '))\n",
    "make_lotto(count)"
   ]
  },
  {
   "cell_type": "code",
   "execution_count": null,
   "id": "700d2529",
   "metadata": {},
   "outputs": [],
   "source": [
    "a = [1, 2, '3', 4]\n",
    "print(a)\n",
    "a = np.array([1, 2, '3', 4])\n",
    "print(a)"
   ]
  },
  {
   "cell_type": "code",
   "execution_count": null,
   "id": "c5052a7d",
   "metadata": {},
   "outputs": [],
   "source": [
    "a = np.zeros(10)\n",
    "print(a)"
   ]
  },
  {
   "cell_type": "code",
   "execution_count": null,
   "id": "37dd432e",
   "metadata": {},
   "outputs": [],
   "source": [
    "a = np.ones(10)\n",
    "print(a)"
   ]
  },
  {
   "cell_type": "code",
   "execution_count": null,
   "id": "e9041c82",
   "metadata": {},
   "outputs": [],
   "source": [
    "a = np.eye(3)\n",
    "print(a)"
   ]
  },
  {
   "cell_type": "code",
   "execution_count": null,
   "id": "661e7e7b",
   "metadata": {},
   "outputs": [],
   "source": [
    "print(np.arange(3))\n",
    "print(np.arange(1, 11))\n",
    "print(np.arange(1, 11, 2))"
   ]
  },
  {
   "cell_type": "code",
   "execution_count": null,
   "id": "516598d9",
   "metadata": {},
   "outputs": [],
   "source": [
    "a = np.zeros(10) + 5\n",
    "print(a)"
   ]
  },
  {
   "cell_type": "code",
   "execution_count": null,
   "id": "16fdc341",
   "metadata": {},
   "outputs": [],
   "source": [
    "a = np.arange(-np.pi, np.pi, np.pi/100)\n",
    "plt.plot(a, np.sin(a), label = 'sin')\n",
    "plt.plot(a, np.cos(a), label = 'cos')\n",
    "#plt.plot(a, np.tan(a), label = 'tan')\n",
    "plt.legend()\n",
    "plt.show()"
   ]
  },
  {
   "cell_type": "code",
   "execution_count": null,
   "id": "08be754f",
   "metadata": {},
   "outputs": [],
   "source": [
    "a = np.arange(-5, 5)\n",
    "print(a)\n",
    "print(a < 0)"
   ]
  },
  {
   "cell_type": "code",
   "execution_count": null,
   "id": "dd65918e",
   "metadata": {},
   "outputs": [],
   "source": [
    "mask1 = abs(a) > 3\n",
    "mask2 = abs(a) % 2 == 0\n",
    "print(mask1 + mask2) # mask1 or mask2\n",
    "print(a[mask1 + mask2])\n",
    "print()\n",
    "print(mask1 * mask2) # mask1 and mask2\n",
    "print(a[mask1 * mask2])\n",
    "print()\n",
    "\n",
    "print(a[mask1])\n",
    "print(a[mask2])"
   ]
  },
  {
   "cell_type": "code",
   "execution_count": null,
   "id": "3ce99c2b",
   "metadata": {},
   "outputs": [],
   "source": [
    "x = np.random.randint(-100, 100, 1000)\n",
    "y = np.random.randint(-100, 100, 1000)\n",
    "\n",
    "mask1 = abs(x) > 50 # x에 저장된 값 중에서 50보다 큰 값\n",
    "mask2 = abs(y) > 50 # y에 저장된 값 중에서 50보다 큰 값\n",
    "\n",
    "#print(x[mask1])\n",
    "#print(y[mask2])\n",
    "\n",
    "x = x[mask1 + mask2]\n",
    "y = y[mask1 + mask2]\n",
    "#print(x)\n",
    "#print(y)\n",
    "plt.scatter(x, y, c = x, cmap = 'jet', alpha = 0.7)\n",
    "plt.colorbar()\n",
    "plt.show()"
   ]
  },
  {
   "cell_type": "code",
   "execution_count": null,
   "id": "241a7732",
   "metadata": {},
   "outputs": [],
   "source": [
    "import csv\n",
    "\n",
    "f = open('age.csv', encoding = 'cp949')\n",
    "data = csv.reader(f)\n",
    "\n",
    "next(data)\n",
    "\n",
    "home = []\n",
    "\n",
    "name = input('지역의 이름을 입력해주세요. : ')\n",
    "\n",
    "for row in data:\n",
    "    if (name in row[0]):\n",
    "        for i in row[3 : ]:\n",
    "            home.append(int(i))\n",
    "print(home)"
   ]
  },
  {
   "cell_type": "code",
   "execution_count": null,
   "id": "eba9fdaa",
   "metadata": {},
   "outputs": [],
   "source": [
    "import csv\n",
    "import numpy as np\n",
    "import matplotlib.pyplot as plt\n",
    "\n",
    "f = open('age.csv', encoding = 'cp949')\n",
    "data = csv.reader(f)\n",
    "\n",
    "next(data)\n",
    "\n",
    "#home = []\n",
    "\n",
    "#name = input('지역의 이름을 입력해주세요. : ')\n",
    "name = '대연제3동'\n",
    "for row in data:\n",
    "    if (name in row[0]):\n",
    "#         for i in row[3 : ]:\n",
    "#             home.append(int(i))\n",
    "        home = np.array(row[3 : ], dtype = int)\n",
    "print(home)\n",
    "\n",
    "from jupyterthemes import jtplot\n",
    "jtplot.style(theme = 'monokai')\n",
    "from matplotlib import rc\n",
    "rc('font', family='AppleGothic')\n",
    "plt.rcParams['axes.unicode_minus'] = False\n",
    "\n",
    "\n",
    "\n",
    "\n",
    "plt.title(name + ' 지역의 인구 구조')\n",
    "plt.plot(home)\n",
    "plt.show()\n",
    "\n",
    "home_1 = pd.Series(home)\n",
    "print(home_1.skew())"
   ]
  },
  {
   "cell_type": "code",
   "execution_count": null,
   "id": "68369191",
   "metadata": {},
   "outputs": [],
   "source": [
    "import csv\n",
    "import numpy as np\n",
    "import matplotlib.pyplot as plt\n",
    "\n",
    "f = open('age.csv', encoding = 'cp949')\n",
    "data = csv.reader(f)\n",
    "\n",
    "next(data)\n",
    "data = list(data)\n",
    "print(data[0])\n",
    "\n",
    "\n",
    "#name = input('지역의 이름을 입력해주세요. : ')\n",
    "name = '대연제3동'\n",
    "for row in data:\n",
    "    if (name in row[0]):\n",
    "        home = np.array(row[3 : ], dtype = int) / int(row[2].replace(',', ''))\n",
    "\n",
    "\n",
    "plt.title(name + ' 지역의 인구 구조')\n",
    "plt.plot(home)\n",
    "\n",
    "#name2 = input('지역 이름 입력')\n",
    "name2 = '화촌면'\n",
    "for row in data:\n",
    "    if (name2 in row[0]):\n",
    "        home2 = np.array(row[3 : ], dtype = int)\n",
    "plt.plot(home2)\n",
    "\n",
    "plt.show()\n",
    "\n",
    "home_1 = pd.Series(home)\n",
    "home_2 = pd.Series(home2)\n",
    "print(home_1.skew())\n",
    "print(home_2.skew())"
   ]
  },
  {
   "cell_type": "code",
   "execution_count": null,
   "id": "d576eedb",
   "metadata": {},
   "outputs": [],
   "source": [
    "import csv\n",
    "import numpy as np\n",
    "import matplotlib.pyplot as plt\n",
    "\n",
    "f = open('age.csv', encoding = 'cp949')\n",
    "data = csv.reader(f)\n",
    "\n",
    "next(data)\n",
    "data = list(data)\n",
    "\n",
    "#name = input('지역의 이름을 입력해주세요. : ')\n",
    "name = '대연제1동'\n",
    "for row in data:\n",
    "    for i in range(1, len(row)):\n",
    "        row[i] = int(row[i].replace(',', ''))\n",
    "    if (name in row[0]):\n",
    "        home = np.array(row[3 : ], dtype = int) / row[2]\n",
    "\n",
    "for row in data:\n",
    "    away = np.array(row[3:], dtype = int) / row[2]\n",
    "    print(np.sum(home - away))\n",
    "\n"
   ]
  },
  {
   "cell_type": "code",
   "execution_count": null,
   "id": "494e632f",
   "metadata": {},
   "outputs": [],
   "source": [
    "import csv\n",
    "import numpy as np\n",
    "import matplotlib.pyplot as plt\n",
    "\n",
    "f = open('age.csv', encoding = 'cp949')\n",
    "data = csv.reader(f)\n",
    "\n",
    "next(data)\n",
    "\n",
    "for row in data:\n",
    "    for i in range(1, len(row)):\n",
    "        row[i] = int(row[i].replace(',', ''))\n",
    "        print(type(row[i]))\n",
    "        \n",
    " "
   ]
  },
  {
   "cell_type": "code",
   "execution_count": null,
   "id": "99ebe2bb",
   "metadata": {},
   "outputs": [],
   "source": [
    "range(len(row))"
   ]
  },
  {
   "cell_type": "code",
   "execution_count": 18,
   "id": "445cc9d7",
   "metadata": {},
   "outputs": [
    {
     "data": {
      "image/png": "[encoded data removed]",
      "text/plain": [
       "<Figure size 460.8x403.2 with 1 Axes>"
      ]
     },
     "metadata": {},
     "output_type": "display_data"
    },
    {
     "name": "stdout",
     "output_type": "stream",
     "text": [
      "0.0001792549086118657\n"
     ]
    }
   ],
   "source": [
    "import csv\n",
    "import numpy as np\n",
    "import matplotlib.pyplot as plt\n",
    "\n",
    "f = open('age.csv', encoding = 'cp949')\n",
    "data = csv.reader(f)\n",
    "\n",
    "next(data)\n",
    "data = list(data)\n",
    "\n",
    "mn = 10\n",
    "result_name = ''\n",
    "result = 0\n",
    "\n",
    "#name = input('지역의 이름을 입력해주세요. : ')\n",
    "name = '강남'\n",
    "for row in data:\n",
    "    for i in range(1, len(row)):\n",
    "        row[i] = int(row[i].replace(',', ''))\n",
    "    if (name in row[0]):\n",
    "        home = np.array(row[3 : ], dtype = int) / row[2]\n",
    "\n",
    "for row in data:\n",
    "    away = np.array(row[3:], dtype = int) / row[2]\n",
    "    s = np.sum((home - away) ** 2)\n",
    "    \n",
    "    if s < mn and name not in row[0]:\n",
    "        mn = s\n",
    "        result_name = row[0]\n",
    "        result = away\n",
    "\n",
    "#plt.title(name + ' 지역의 인구 구조')\n",
    "plt.title(name + ' 지역과 가장 비슷한 인구 구조를 가진 지역')\n",
    "plt.plot(home, label = name)\n",
    "plt.plot(result, label = result_name)\n",
    "plt.legend()\n",
    "plt.show()\n",
    "\n",
    "print(mn)"
   ]
  },
  {
   "cell_type": "code",
   "execution_count": 14,
   "id": "f86d70f9",
   "metadata": {},
   "outputs": [
    {
     "data": {
      "image/png": "[encoded data removed]",
      "text/plain": [
       "<Figure size 460.8x403.2 with 1 Axes>"
      ]
     },
     "metadata": {},
     "output_type": "display_data"
    },
    {
     "name": "stdout",
     "output_type": "stream",
     "text": [
      "0.00016382343888387315\n"
     ]
    }
   ],
   "source": [
    "import csv\n",
    "import numpy as np\n",
    "import matplotlib.pyplot as plt\n",
    "\n",
    "f = open('age1.csv', encoding = 'cp949')\n",
    "data = csv.reader(f)\n",
    "\n",
    "next(data)\n",
    "data = list(data)\n",
    "\n",
    "mn = 1\n",
    "result_name = ''\n",
    "result = 0\n",
    "\n",
    "#name = input('지역의 이름을 입력해주세요. : ')\n",
    "name = '대연제1동'\n",
    "\n",
    "for row in data:\n",
    "    if (name in row[0]):\n",
    "        home = np.array(row[3 : ], dtype = int) / int(row[2])\n",
    "\n",
    "for row in data:\n",
    "    away = np.array(row[3:], dtype = int) / int(row[2])\n",
    "    s = np.sum((home - away) ** 2)\n",
    "    \n",
    "    if s < mn and name not in row[0]:\n",
    "        mn = s\n",
    "        result_name = row[0]\n",
    "        result = away\n",
    "plt.title(name + ' 지역과 가장 비슷한 인구 구조를 가진 지역')\n",
    "plt.plot(home, label = name)\n",
    "plt.plot(result, label = result_name)\n",
    "plt.legend()\n",
    "plt.show()\n",
    "\n",
    "print(mn)"
   ]
  },
  {
   "cell_type": "code",
   "execution_count": 16,
   "id": "14b96c61",
   "metadata": {},
   "outputs": [
    {
     "data": {
      "text/plain": [
       "-3.165137797042441e-05"
      ]
     },
     "execution_count": 16,
     "metadata": {},
     "output_type": "execute_result"
    }
   ],
   "source": [
    "0.00016382343888387315 - 0.00019547481685429756"
   ]
  },
  {
   "cell_type": "code",
   "execution_count": null,
   "id": "d4dc5e5b",
   "metadata": {},
   "outputs": [],
   "source": []
  }
 ],
 "metadata": {
  "kernelspec": {
   "display_name": "Python 3 (ipykernel)",
   "language": "python",
   "name": "python3"
  },
  "language_info": {
   "codemirror_mode": {
    "name": "ipython",
    "version": 3
   },
   "file_extension": ".py",
   "mimetype": "text/x-python",
   "name": "python",
   "nbconvert_exporter": "python",
   "pygments_lexer": "ipython3",
   "version": "3.8.8"
  }
 },
 "nbformat": 4,
 "nbformat_minor": 5
}
