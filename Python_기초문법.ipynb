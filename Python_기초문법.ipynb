{
 "cells": [
  {
   "cell_type": "code",
   "execution_count": null,
   "id": "6f53007d",
   "metadata": {},
   "outputs": [],
   "source": [
    "print(\"Hello World\")\n",
    "print(\"Hello World\")\n",
    "print(\"Hello World\")\n",
    "print(\"Hello World\")\n",
    "print(\"Hello World\")"
   ]
  },
  {
   "cell_type": "code",
   "execution_count": null,
   "id": "76563457",
   "metadata": {},
   "outputs": [],
   "source": [
    "for i in range(5):\n",
    "    {\n",
    "        print(\"Hello World\")\n",
    "    }"
   ]
  },
  {
   "cell_type": "code",
   "execution_count": null,
   "id": "dfad0170",
   "metadata": {},
   "outputs": [],
   "source": [
    "value = 100;\n",
    "print(value);\n",
    "value = 200;\n",
    "print(value);\n",
    "value = 'Hello';\n",
    "print(value);"
   ]
  },
  {
   "cell_type": "code",
   "execution_count": null,
   "id": "b0b3d47b",
   "metadata": {},
   "outputs": [],
   "source": [
    "print(type(100))\n",
    "print(type(\"Hello\"))\n",
    "print(type(3.14))"
   ]
  },
  {
   "cell_type": "code",
   "execution_count": null,
   "id": "1fdf4075",
   "metadata": {},
   "outputs": [],
   "source": [
    "width = 10\n",
    "height = 20\n",
    "print('사각형의 넓이는 ', width * height, '이다')"
   ]
  },
  {
   "cell_type": "code",
   "execution_count": null,
   "id": "b138513c",
   "metadata": {},
   "outputs": [],
   "source": [
    "i = 0\n",
    "while (i < 100):\n",
    "    print(i)\n",
    "    i += 1\n",
    "    if (i == 10):\n",
    "        break\n",
    "        \n",
    "    "
   ]
  },
  {
   "cell_type": "code",
   "execution_count": null,
   "id": "533e01cc",
   "metadata": {},
   "outputs": [],
   "source": [
    "import numpy as np\n",
    "radius = 5\n",
    "area = radius ** 2 * np.pi\n",
    "print('원의 넓이는', round(area, 2))"
   ]
  },
  {
   "cell_type": "code",
   "execution_count": null,
   "id": "31f52b91",
   "metadata": {},
   "outputs": [],
   "source": [
    "print(type('abcd'))\n",
    "print('12345')\n",
    "print(type('12345'))"
   ]
  },
  {
   "cell_type": "code",
   "execution_count": null,
   "id": "4274d7c1",
   "metadata": {},
   "outputs": [],
   "source": [
    "def f(x):\n",
    "    return x**2\n",
    "print(f(2))"
   ]
  },
  {
   "cell_type": "code",
   "execution_count": null,
   "id": "d0fa8205",
   "metadata": {},
   "outputs": [],
   "source": [
    "print('A')\n",
    "print('B')\n",
    "print(ord('A'))\n",
    "print(ord('B'))\n",
    "print(chr(65))\n",
    "print(chr(66))\n",
    "print(chr(67))\n",
    "print(chr(68))\n",
    "\n",
    "\n"
   ]
  },
  {
   "cell_type": "code",
   "execution_count": null,
   "id": "2b4048f7",
   "metadata": {},
   "outputs": [],
   "source": [
    "i = 0\n",
    "while (i < 1000):\n",
    "    print(chr(i), '$$$', i)\n",
    "    i += 1"
   ]
  },
  {
   "cell_type": "code",
   "execution_count": null,
   "id": "f4b63907",
   "metadata": {},
   "outputs": [],
   "source": [
    "print(chr(337))"
   ]
  },
  {
   "cell_type": "code",
   "execution_count": null,
   "id": "81be3c3c",
   "metadata": {},
   "outputs": [],
   "source": [
    "print('개행문자 사용하지 않은 경우')\n",
    "print('죽는 날까지 하늘을 우러러 한 점 부끄럼 없기를 잎새에 이는 바람에도 나는 괴로웠다')\n",
    "print('개행문자 사용한 경우')\n",
    "print('죽는 날까지 하늘을 우러러 \\n한 점 부끄럼 없기를 \\n잎새에 이는 바람에도 나는 괴로웠다')"
   ]
  },
  {
   "cell_type": "code",
   "execution_count": null,
   "id": "74d6e250",
   "metadata": {},
   "outputs": [],
   "source": [
    "strVAl = 'She's gone'\n",
    "print(strVAL)"
   ]
  },
  {
   "cell_type": "code",
   "execution_count": null,
   "id": "60969d9b",
   "metadata": {},
   "outputs": [],
   "source": [
    "strVAL = \"She's gone\"\n",
    "print(strVAL)"
   ]
  },
  {
   "cell_type": "code",
   "execution_count": null,
   "id": "93cbf81c",
   "metadata": {},
   "outputs": [],
   "source": [
    "s"
   ]
  },
  {
   "cell_type": "code",
   "execution_count": null,
   "id": "b87fe335",
   "metadata": {},
   "outputs": [],
   "source": [
    "strVAl = 'She said \"goodbye\"'\n",
    "print(strVAL)"
   ]
  },
  {
   "cell_type": "code",
   "execution_count": null,
   "id": "16156bd4",
   "metadata": {},
   "outputs": [],
   "source": [
    "strVAL = input('좋아하는 과일은 무엇인가요?')\n",
    "print(strVAL + '을(를) 좋아합니다.')"
   ]
  },
  {
   "cell_type": "code",
   "execution_count": null,
   "id": "3d83a0f0",
   "metadata": {},
   "outputs": [],
   "source": [
    "strID = input('아이디를 입력하세요')\n",
    "strPW = input('비밀번호를 입력하세요')\n",
    "print('입력한 ID는' + strID + '입니다.')\n",
    "print('입력한 PW는' + strPW + '입니다.')"
   ]
  },
  {
   "cell_type": "code",
   "execution_count": null,
   "id": "75441786",
   "metadata": {},
   "outputs": [],
   "source": [
    "strnum1 = input('첫 번째 숫자를 입력하세요')\n",
    "strnum2 = input('두 번재 숫자를 입력하세요')\n",
    "strnum1 = int(strnum1)\n",
    "strnum2 = int(strnum2)\n",
    "print('두 수의 합은' , strnum1 + strnum2, '입니다.')\n"
   ]
  },
  {
   "cell_type": "code",
   "execution_count": null,
   "id": "4b7a51ed",
   "metadata": {},
   "outputs": [],
   "source": [
    "strnum1 = input('첫 번째 숫자를 입력하세요')\n",
    "print(type(strnum1))\n",
    "strnum1 = int(strnum1)\n",
    "print(type(strnum1))"
   ]
  },
  {
   "cell_type": "code",
   "execution_count": null,
   "id": "9640cb8b",
   "metadata": {},
   "outputs": [],
   "source": [
    "num = 300\n",
    "strnum1 = input('첫 번째 숫자를 입력하세요')\n",
    "Total = num + int(strnum1)\n",
    "print('두 수의 합은', Total, '입니다.')"
   ]
  },
  {
   "cell_type": "code",
   "execution_count": null,
   "id": "ca326466",
   "metadata": {},
   "outputs": [],
   "source": [
    "# ctrl + / : 주석으로 변경\n",
    "# code #\n",
    "'''code'''\n",
    "\"\"\"code\"\"\"\n",
    "\n",
    "# 주석 관련 파이썬 예제\n",
    "fruit1 = '수박'\n",
    "fruit2 = '포도'\n",
    "fruit3 = '키위'\n",
    "myfavorite = '' # 좋아하는 과일의 목록\n",
    "\n",
    "myfavorite += fruit1\n",
    "myfavorite += fruit2\n",
    "myfavorite += fruit3\n",
    "\n",
    "print(myfavorite)"
   ]
  },
  {
   "cell_type": "code",
   "execution_count": null,
   "id": "13f6cca2",
   "metadata": {},
   "outputs": [],
   "source": [
    "a = 5\n",
    "b = 3\n",
    "\n",
    "print(a + b)\n",
    "print(a / b)\n",
    "print(a // b)\n",
    "print(a % b)\n",
    "print(a * b)\n",
    "print(a ** b)\n"
   ]
  },
  {
   "cell_type": "code",
   "execution_count": null,
   "id": "5e1e49e2",
   "metadata": {},
   "outputs": [],
   "source": [
    "a = 5\n",
    "b = 3\n",
    "a += b\n",
    "print(a)\n",
    "\n",
    "a = 5\n",
    "b = 3\n",
    "a -= b\n",
    "print(a)\n",
    "\n",
    "a = 5\n",
    "b = 3\n",
    "a *= b\n",
    "print(a)\n",
    "\n",
    "a = 5\n",
    "b = 3\n",
    "a /= b\n",
    "print(a)\n",
    "\n",
    "a = 5\n",
    "b = 3\n",
    "a //= b\n",
    "print(a)\n",
    "\n",
    "a = 5\n",
    "b = 3\n",
    "a %= b\n",
    "print(a)\n",
    "\n",
    "a = 5\n",
    "b = 3\n",
    "a **= b\n",
    "print(a)"
   ]
  },
  {
   "cell_type": "code",
   "execution_count": null,
   "id": "8eab23a8",
   "metadata": {},
   "outputs": [],
   "source": [
    "money = int(input('돈을 넣어주세요.'))\n",
    "count = int(input('몇 장 드릴까요?'))\n",
    "ticket = 1200\n",
    "money -= (ticket * count)\n",
    "print('거스름돈', money)"
   ]
  },
  {
   "cell_type": "code",
   "execution_count": null,
   "id": "776ecc6f",
   "metadata": {},
   "outputs": [],
   "source": [
    "a = 10\n",
    "b = 11\n",
    "c = 12\n",
    "d = 10\n",
    "\n",
    "print('a == b : ', a == b)\n",
    "print('a < b : ', a < b)\n",
    "print('a >= c : ', a >= c)\n",
    "print('a == d : ', a == d)"
   ]
  },
  {
   "cell_type": "code",
   "execution_count": null,
   "id": "c2299cfb",
   "metadata": {},
   "outputs": [],
   "source": [
    "print('a == b : ', a == b)\n",
    "print('not(a == b) : ', not(a == b))\n",
    "print('(a == b) and (a == d) : ', (a == b) and (a == d))\n",
    "print('(a == b) or (a == d) : ', (a == b) or (a == d))"
   ]
  },
  {
   "cell_type": "code",
   "execution_count": null,
   "id": "e0483efe",
   "metadata": {},
   "outputs": [],
   "source": [
    "money = int(input('돈을 넣어주세요.'))\n",
    "count = int(input('몇 장 드릴까요?'))\n",
    "ticket = 1200\n",
    "money -= (ticket * count)\n",
    "\n",
    "result = money < 0 and '잔액이 부족합니다. 금액을 투입해주세요. ' + '부족금액 : ', abs(money) or '거스름돈 : ' + str(money) \n",
    "print(result)"
   ]
  },
  {
   "cell_type": "code",
   "execution_count": null,
   "id": "c5604fc7",
   "metadata": {},
   "outputs": [],
   "source": [
    "a = 11\n",
    "if (a > 10):\n",
    "    print('a는 10 보다 큽니다.')\n",
    "    print('콘솔에 출력됩니다.')\n",
    "    print('조건문 참 쉽죠.')\n",
    "    \n",
    "    "
   ]
  },
  {
   "cell_type": "code",
   "execution_count": null,
   "id": "876df510",
   "metadata": {},
   "outputs": [],
   "source": [
    "a = int(input('정수를 입력하세요. : '))\n",
    "if (a > 10):\n",
    "    print('a는 10보다 큽니다.')\n",
    "else:\n",
    "    print('a는 10보다 작거나 같습니다.')"
   ]
  },
  {
   "cell_type": "code",
   "execution_count": null,
   "id": "0455183c",
   "metadata": {},
   "outputs": [],
   "source": [
    "ID = \"jamsuham\"\n",
    "PW = \"1234\"\n",
    "\n",
    "userID = input('사용자 ID : ')\n",
    "userPW = input('사용자 PW : ')\n",
    "\n",
    "if (userID == ID):\n",
    "    if (userPW == PW):\n",
    "        print('로그인 완료')\n",
    "    else:\n",
    "        print('password를 확인해주세요')\n",
    "else:\n",
    "    print('ID를 확인해주세요.')\n",
    "    "
   ]
  },
  {
   "cell_type": "code",
   "execution_count": null,
   "id": "bbc1f50a",
   "metadata": {},
   "outputs": [],
   "source": [
    "subject = input('favorite subject')\n",
    "\n",
    "if (subject == \"python\"):\n",
    "    print('내가 가장 좋아하는 과목은 파이썬입니다.')\n",
    "elif (subject == \"java\"):\n",
    "    print('내가 가장 좋아하는 과목은 자바입니다.')\n",
    "elif (subject == \"c#\"):\n",
    "    print('내가 가장 좋아하는 과목은 C#입니다.')\n",
    "else:\n",
    "    print('내가 좋아하는 과목은 없습니다.')"
   ]
  },
  {
   "cell_type": "code",
   "execution_count": null,
   "id": "1130fe6d",
   "metadata": {},
   "outputs": [],
   "source": [
    "shortcut = int(input('단축키를 입력하세요 : '))\n",
    "\n",
    "if (shortcut == 1):\n",
    "    print('엄마 : 010 - xxxx')\n",
    "elif (shortcut == 2):\n",
    "    print('아빠 : 010 - xxxx')\n",
    "elif (shortcut == 3):\n",
    "    print('형 : 010 - xxxx')\n",
    "elif (shortcut == 4):\n",
    "    print('동생 : 010 - xxxx')\n",
    "else:\n",
    "    print('해당 단축키가 없습니다.')"
   ]
  },
  {
   "cell_type": "code",
   "execution_count": null,
   "id": "6b6f199b",
   "metadata": {},
   "outputs": [],
   "source": [
    "month = int(input('월 입력 : '))\n",
    "\n",
    "if ((month >= 3) and (month <= 5)):\n",
    "    print('봄')\n",
    "elif ((month >= 6) and (month <= 8)):\n",
    "    print('여름')\n",
    "elif ((month >= 9) and (month <= 11)):\n",
    "    print('가을')\n",
    "elif ((month == 12) or (month == 1) or (month ==2)):\n",
    "    print('겨울')\n",
    "else:\n",
    "    print('잘못된 입력값입니다.')"
   ]
  },
  {
   "cell_type": "code",
   "execution_count": null,
   "id": "4ba8c6d1",
   "metadata": {},
   "outputs": [],
   "source": [
    "score = int(input('점수를 입력하세요. : '))\n",
    "\n",
    "if ((score > 90) and (score <= 100)):\n",
    "    print('A')\n",
    "elif ((score > 80) and (score <= 90)):\n",
    "    print('B')\n",
    "elif ((score > 70) and (score <= 80)):\n",
    "    print('C')\n",
    "elif ((score > 60) and (score <= 70)):\n",
    "    print('D')\n",
    "elif ((score >= 0) and (score <= 60)):\n",
    "    print('F')\n",
    "else:\n",
    "    print('잘못된 입력값입니다.')\n",
    "\n"
   ]
  },
  {
   "cell_type": "code",
   "execution_count": null,
   "id": "b7347e14",
   "metadata": {},
   "outputs": [],
   "source": [
    "print('====== 자판기 ======')\n",
    "print ('1. 비타500 \\n2.초코송이 \\n3. 자일리톨')\n",
    "print()\n",
    "\n",
    "snack = 2000\n",
    "drink = 1000\n",
    "ggum = 500\n",
    "\n",
    "money = int(input('Insert Coin : '))\n",
    "\n",
    "if (money >= snack):\n",
    "    print('비타500, 초코송이, 자일리톨 구매 가능')\n",
    "elif ((money >= drink) and (money < snack)):\n",
    "    print('비타500, 자일리톨 구매 가능')\n",
    "elif ((money >= ggum) and (money < drink)):\n",
    "    print('자일리톨 구매 가능')\n",
    "else:\n",
    "    print('잔액 부족')\n",
    "    \n"
   ]
  },
  {
   "cell_type": "code",
   "execution_count": null,
   "id": "54a41fb1",
   "metadata": {},
   "outputs": [],
   "source": [
    "idnum = int(input('나이를 입력하세요. : '))\n",
    "\n",
    "if (idnum >= 19):\n",
    "    pass\n",
    "else:\n",
    "    print(\"신분증을 제시하세요.\")"
   ]
  },
  {
   "cell_type": "code",
   "execution_count": null,
   "id": "f5135b36",
   "metadata": {},
   "outputs": [],
   "source": [
    "import pandas as pd\n",
    "pd.DataFrame({\"a\" : [1,2,3], \"b\" : [4,5,6]})"
   ]
  },
  {
   "cell_type": "code",
   "execution_count": null,
   "id": "5f45c324",
   "metadata": {},
   "outputs": [],
   "source": [
    "pd.DataFrame([[1,2,3], [4,5,6], [7,8,9]], columns = [\"A\", \"B\", \"C\"])"
   ]
  },
  {
   "cell_type": "code",
   "execution_count": null,
   "id": "7b379b16",
   "metadata": {},
   "outputs": [],
   "source": [
    "pd.Series([1,2,3])"
   ]
  },
  {
   "cell_type": "code",
   "execution_count": null,
   "id": "fcd1d548",
   "metadata": {},
   "outputs": [],
   "source": [
    "pd.Series({\"a\" : [1,2,3]})"
   ]
  },
  {
   "cell_type": "code",
   "execution_count": null,
   "id": "e751e028",
   "metadata": {},
   "outputs": [],
   "source": [
    "range(5)"
   ]
  },
  {
   "cell_type": "code",
   "execution_count": null,
   "id": "922f7ffa",
   "metadata": {},
   "outputs": [],
   "source": [
    "for i in range(5):\n",
    "    print(i)"
   ]
  },
  {
   "cell_type": "code",
   "execution_count": null,
   "id": "62674682",
   "metadata": {},
   "outputs": [],
   "source": [
    "for i in range(2,5):\n",
    "    print(i)"
   ]
  },
  {
   "cell_type": "code",
   "execution_count": null,
   "id": "b99e7b5b",
   "metadata": {},
   "outputs": [],
   "source": [
    "i = float(i)\n",
    "for i in range(0, 20, 3):\n",
    "    print(i)"
   ]
  },
  {
   "cell_type": "code",
   "execution_count": null,
   "id": "6668f1f5",
   "metadata": {},
   "outputs": [],
   "source": [
    "for i in range(0, 5, 1):\n",
    "    print(i + 1, 'Programming')"
   ]
  },
  {
   "cell_type": "code",
   "execution_count": null,
   "id": "90d50220",
   "metadata": {},
   "outputs": [],
   "source": [
    "a = []\n",
    "a.append(1)\n",
    "print(a)\n",
    "a.append(2)\n",
    "print(a)"
   ]
  },
  {
   "cell_type": "code",
   "execution_count": null,
   "id": "ec242664",
   "metadata": {},
   "outputs": [],
   "source": [
    "a = []\n",
    "a.extend(\"1\")\n",
    "print(a)\n",
    "a.append(\"2\")\n",
    "print(a)"
   ]
  },
  {
   "cell_type": "code",
   "execution_count": null,
   "id": "0fbecd6a",
   "metadata": {},
   "outputs": [],
   "source": [
    "a = int(input('자연수 :'))\n",
    "s = 0\n",
    "for i in range(a + 1):\n",
    "    s += i\n",
    "print(s)"
   ]
  },
  {
   "cell_type": "code",
   "execution_count": null,
   "id": "ba1fa937",
   "metadata": {},
   "outputs": [],
   "source": [
    "for i in range(1, 366, 1):\n",
    "    print(i, '일 지났습니다.')"
   ]
  },
  {
   "cell_type": "code",
   "execution_count": null,
   "id": "5606ea04",
   "metadata": {},
   "outputs": [],
   "source": [
    "a = int(input('자연수 :'))\n",
    "n = int(input('배수 :'))\n",
    "s = 0\n",
    "for i in range(0, a + 1, n):\n",
    "    #print(i)\n",
    "    s += i\n",
    "print('자연수 중', a, '이하의', n, '배수의 합 : ', s)"
   ]
  },
  {
   "cell_type": "code",
   "execution_count": null,
   "id": "6915bfc5",
   "metadata": {},
   "outputs": [],
   "source": [
    "fav = int(input('가장 좋아하는 숫자 : '))\n",
    "start = int(input('범위 시작값 : '))\n",
    "end = int(input('범위 끝값 : '))\n",
    "\n",
    "for i in range(start, end, 1):\n",
    "    if (fav == i):\n",
    "        print('내가 가장 좋아하는 숫자가 있습니다.')"
   ]
  },
  {
   "cell_type": "code",
   "execution_count": null,
   "id": "8d7f2277",
   "metadata": {},
   "outputs": [],
   "source": [
    "n = int(input('단수 : '))\n",
    "print()\n",
    "\n",
    "for i in range (1, 10, 1):\n",
    "    print(n, '*', i, '=', n * i)"
   ]
  },
  {
   "cell_type": "code",
   "execution_count": null,
   "id": "23b01851",
   "metadata": {},
   "outputs": [],
   "source": [
    "n = int(input('단수 : '))\n",
    "print()\n",
    "\n",
    "for i in range (1, 10, 1):\n",
    "    print('%d * %d = %d' %(n, i, n * i))"
   ]
  },
  {
   "cell_type": "code",
   "execution_count": null,
   "id": "9797b386",
   "metadata": {},
   "outputs": [],
   "source": [
    "for i in range(2, 10, 1):\n",
    "    print(i, '단')\n",
    "    for j in range(1, 10, 1):\n",
    "        print('%d * %d = %d' %(i, j, i * j))\n",
    "    print()"
   ]
  },
  {
   "cell_type": "code",
   "execution_count": null,
   "id": "a0c03077",
   "metadata": {},
   "outputs": [],
   "source": [
    "for i in range(2, 10, 1):\n",
    "    print(i, '단')\n",
    "    for j in range(1, 10, 1):\n",
    "        print('%d * %d = %d' %(i, j, i * j), end = \" \")\n",
    "    print()"
   ]
  },
  {
   "cell_type": "code",
   "execution_count": null,
   "id": "f2894164",
   "metadata": {},
   "outputs": [],
   "source": [
    "for i in range(10):\n",
    "    print(i, end = \" \")"
   ]
  },
  {
   "cell_type": "code",
   "execution_count": null,
   "id": "290bbe2f",
   "metadata": {},
   "outputs": [],
   "source": [
    "for j in range(1, 6, 1):\n",
    "    for i in range(j):\n",
    "        print('*', end = \"\")\n",
    "    print()\n",
    "    "
   ]
  },
  {
   "cell_type": "code",
   "execution_count": null,
   "id": "619c2352",
   "metadata": {},
   "outputs": [],
   "source": [
    "iloop = 0\n",
    "while (iloop < 5):\n",
    "    print('Programming')\n",
    "    iloop += 1"
   ]
  },
  {
   "cell_type": "code",
   "execution_count": null,
   "id": "befd790a",
   "metadata": {},
   "outputs": [],
   "source": [
    "i = 1\n",
    "sum = 0\n",
    "while (i < 11):\n",
    "    sum += i\n",
    "    i += 1\n",
    "print(sum)"
   ]
  },
  {
   "cell_type": "code",
   "execution_count": null,
   "id": "432a2cc1",
   "metadata": {},
   "outputs": [],
   "source": [
    "i = 1\n",
    "sum = 0\n",
    "while (i < 100):\n",
    "    sum += i\n",
    "    i += 2\n",
    "print(sum)"
   ]
  },
  {
   "cell_type": "code",
   "execution_count": null,
   "id": "94d36225",
   "metadata": {},
   "outputs": [],
   "source": [
    "i = 1\n",
    "while (i < 10):\n",
    "    print('2 * %d = %d' %(i, 2 * i))\n",
    "    i += 1"
   ]
  },
  {
   "cell_type": "code",
   "execution_count": null,
   "id": "43e3c1db",
   "metadata": {},
   "outputs": [],
   "source": [
    "d = int(input('단수를 입력하세요. : '))\n",
    "i = 1\n",
    "while (i < 10):\n",
    "    print('%d * %d = %d' %(d, i, 2 * i))\n",
    "    i += 1"
   ]
  },
  {
   "cell_type": "code",
   "execution_count": null,
   "id": "ae8fea57",
   "metadata": {},
   "outputs": [],
   "source": [
    "i = 1\n",
    "j = 2\n",
    "while (j < 10):\n",
    "    while (i < 10):\n",
    "        print('%d * %d = %d' %(j, i, j * i))\n",
    "        i += 1\n",
    "    j += 1"
   ]
  },
  {
   "cell_type": "code",
   "execution_count": null,
   "id": "773229da",
   "metadata": {},
   "outputs": [],
   "source": [
    "j = 2\n",
    "while (j < 10):\n",
    "    i = 1\n",
    "    while (i < 10):\n",
    "        print('%d * %d = %d' %(j, i, j * i))\n",
    "        i += 1\n",
    "    print()\n",
    "    j += 1"
   ]
  },
  {
   "cell_type": "code",
   "execution_count": null,
   "id": "15a67adf",
   "metadata": {},
   "outputs": [],
   "source": [
    "hap = 0\n",
    "inum = 0\n",
    "\n",
    "while (True):\n",
    "    inum = int(input('정수를 입력하세요. :'))\n",
    "    hap += inum\n",
    "    print(\"누적합 : %d\" %(hap))"
   ]
  },
  {
   "cell_type": "code",
   "execution_count": null,
   "id": "8e7384ef",
   "metadata": {},
   "outputs": [],
   "source": [
    "a = 0\n",
    "\n",
    "while (True):\n",
    "    if (a > 100):\n",
    "        break\n",
    "    print('a의 값은 %d' %(a))\n",
    "    a += 1\n",
    "print('a는 100 보다 크다.')"
   ]
  },
  {
   "cell_type": "code",
   "execution_count": null,
   "id": "3cd87997",
   "metadata": {},
   "outputs": [],
   "source": [
    "a = 0\n",
    "\n",
    "while (a < 20):\n",
    "    a += 1\n",
    "    if ((a > 8) and (a < 12)):\n",
    "        continue\n",
    "    print('a의 값은 : %d' %(a))"
   ]
  },
  {
   "cell_type": "code",
   "execution_count": null,
   "id": "892f6640",
   "metadata": {},
   "outputs": [],
   "source": [
    "def plus(a, b):\n",
    "    return a + b\n",
    "def minus(a, b):\n",
    "    return a - b\n",
    "def multiple(a, b):\n",
    "    return a * b\n",
    "def devide(a, b):\n",
    "    return a / b\n",
    "\n",
    "i = int(input())\n",
    "j = int(input())\n",
    "print()\n",
    "print(plus(i, j))\n",
    "print(minus(i, j))\n",
    "print(multiple(i, j))\n",
    "print(devide(i, j))"
   ]
  },
  {
   "cell_type": "code",
   "execution_count": null,
   "id": "86d07538",
   "metadata": {},
   "outputs": [],
   "source": [
    "def gg(a):\n",
    "    for i in range(1, 10, 1):\n",
    "        print('%d * %d = %d' %(a, i, a * i))\n",
    "\n",
    "g = int(input('단수를 입력하세요. : '))\n",
    "gg(g)"
   ]
  },
  {
   "cell_type": "code",
   "execution_count": null,
   "id": "346354c6",
   "metadata": {},
   "outputs": [],
   "source": [
    "id = \"jamsuham\"\n",
    "pw = \"1234\"\n",
    "userid = input(\"아이디\")\n",
    "userpw = input(\"비밀번호\")\n",
    "\n",
    "def account(i, p):\n",
    "    if (id == i):\n",
    "        if (pw == p):\n",
    "            print(\"로그인 되었습니다.\")\n",
    "        else:\n",
    "            print(\"패스워드가 틀렸습니다.\")\n",
    "    else:\n",
    "        print(\"아이디가 틀렸습니다.\")\n",
    "        \n",
    "account(userid, userpw)"
   ]
  },
  {
   "cell_type": "code",
   "execution_count": null,
   "id": "45ae67e7",
   "metadata": {},
   "outputs": [],
   "source": [
    "coffee = ''\n",
    "\n",
    "coffee = input('커피를 선택하시오(아메리카노, 카페라떼, 카페모카) : ')\n",
    "print()\n",
    "\n",
    "print('물을 준비한다.')\n",
    "print('컵을 준비한다.')\n",
    "\n",
    "if (coffee == '아메리카노'):\n",
    "    print('3. 아메리카노를 탄다.')\n",
    "elif (coffee == '카페라떼'):\n",
    "    print('3. 카페라떼를 탄다.')\n",
    "elif (coffee == '카페모카'):\n",
    "    print('3. 카페모카를 탄다.')\n",
    "else:\n",
    "    print('아무거나 탄다.')\n",
    "    \n",
    "print('4. 물을 붓는다.')\n",
    "print()\n",
    "print(coffee, '한잔 서비스 완료')"
   ]
  },
  {
   "cell_type": "code",
   "execution_count": null,
   "id": "35b7a58e",
   "metadata": {},
   "outputs": [],
   "source": [
    "coffee = ''\n",
    "\n",
    "coffee = input('커피를 선택하시오(아메리카노, 카페라떼, 카페모카) : ')\n",
    "print()\n",
    "\n",
    "def coffee_machine(c):\n",
    "    print('1. 물을 준비한다.')\n",
    "    print('2. 컵을 준비한다.')\n",
    "\n",
    "    if (c == '아메리카노'):\n",
    "        print('3. 아메리카노를 탄다.')\n",
    "    elif (c == '카페라떼'):\n",
    "        print('3. 카페라떼를 탄다.')\n",
    "    elif (c == '카페모카'):\n",
    "        print('3. 카페모카를 탄다.')\n",
    "    else:\n",
    "        print('3. 아무거나 탄다.')\n",
    "    \n",
    "    print('4. 물을 붓는다.')\n",
    "    print()\n",
    "    print(c, '한잔 서비스 완료')\n",
    "    \n",
    "coffee_machine(coffee)\n"
   ]
  },
  {
   "cell_type": "code",
   "execution_count": null,
   "id": "35704128",
   "metadata": {},
   "outputs": [],
   "source": [
    "def f():\n",
    "    a = input()\n",
    "    print(a)\n",
    "    f()\n",
    "f()"
   ]
  },
  {
   "cell_type": "code",
   "execution_count": null,
   "id": "ded05939",
   "metadata": {},
   "outputs": [],
   "source": [
    "\n",
    "def coffee_machine(c):\n",
    "    print('1. 물을 준비한다.')\n",
    "    print('2. 컵을 준비한다.')\n",
    "\n",
    "    if (c == '아메리카노'):\n",
    "        print('3. 아메리카노를 탄다.')\n",
    "    elif (c == '카페라떼'):\n",
    "        print('3. 카페라떼를 탄다.')\n",
    "    elif (c == '카페모카'):\n",
    "        print('3. 카페모카를 탄다.')\n",
    "    else:\n",
    "        print('3. 아무거나 탄다.')\n",
    "    \n",
    "    print('4. 물을 붓는다.')\n",
    "    print()\n",
    "    print(c, '한잔 서비스 완료')\n",
    "\n",
    "coffee = input('커피를 선택하시오(아메리카노, 카페라떼, 카페모카) : ')\n",
    "coffee_machine(coffee)\n",
    "coffee = input('커피를 선택하시오(아메리카노, 카페라떼, 카페모카) : ')\n",
    "coffee_machine(coffee)\n",
    "coffee = input('커피를 선택하시오(아메리카노, 카페라떼, 카페모카) : ')\n",
    "coffee_machine(coffee)\n"
   ]
  },
  {
   "cell_type": "code",
   "execution_count": null,
   "id": "22c3d38f",
   "metadata": {},
   "outputs": [],
   "source": [
    "def coffee_machine():\n",
    "    c = input('커피를 선택하시오(아메리카노, 카페라떼, 카페모카) : ')\n",
    "    print()\n",
    "    print('1. 물을 준비한다.')\n",
    "    print('2. 컵을 준비한다.')\n",
    "\n",
    "    if (c == '아메리카노'):\n",
    "        print('3. 아메리카노를 탄다.')\n",
    "    elif (c == '카페라떼'):\n",
    "        print('3. 카페라떼를 탄다.')\n",
    "    elif (c == '카페모카'):\n",
    "        print('3. 카페모카를 탄다.')\n",
    "    else:\n",
    "        print('3. 아무거나 탄다.')\n",
    "    \n",
    "    print('4. 물을 붓는다.')\n",
    "    print()\n",
    "    print(c, '한잔 서비스 완료')\n",
    "    \n",
    "    coffee_machine()\n",
    "    \n",
    "coffee_machine()\n"
   ]
  },
  {
   "cell_type": "code",
   "execution_count": null,
   "id": "5bbed384",
   "metadata": {},
   "outputs": [],
   "source": [
    "def k():\n",
    "    print('2. lee = 10 변수를 메모리에 적재합니다.')\n",
    "    lee = 10\n",
    "    print('3. j() 함수를 호출하였습니다.')\n",
    "    j()\n",
    "    print('6. lee = 10변수를 메모리에서 소멸합니다.')\n",
    "    \n",
    "def j():\n",
    "    print('4. lee = 20 변수를 메모리에 적재합니다.')\n",
    "    lee = 20\n",
    "    print('5. lee = 20 변수를 메로리에 소멸합니다.')\n",
    "    \n",
    "print('1. k() 함수를 호출하였습니다.')\n",
    "k()"
   ]
  },
  {
   "cell_type": "code",
   "execution_count": null,
   "id": "1927773f",
   "metadata": {},
   "outputs": [],
   "source": [
    "h = 100\n",
    "\n",
    "def sum(value):\n",
    "    h = 20\n",
    "    h += value\n",
    "    print('h 출력 : %d' %(h))\n",
    "    \n",
    "sum(10)\n",
    "print('h 출력 : %d' %(h))"
   ]
  },
  {
   "cell_type": "code",
   "execution_count": null,
   "id": "fbcc8a1d",
   "metadata": {},
   "outputs": [],
   "source": [
    "h = 100\n",
    "\n",
    "def sum(value):\n",
    "    global h\n",
    "    h += value\n",
    "    print('h 출력 : %d' %(h))\n",
    "    \n",
    "sum(10)\n",
    "print('h 출력 : %d' %(h))"
   ]
  },
  {
   "cell_type": "code",
   "execution_count": null,
   "id": "6b8f5b65",
   "metadata": {},
   "outputs": [],
   "source": [
    "k = [1, 2, 3]\n",
    "sum = k[0] + k[1] + k[2]\n",
    "print(sum)"
   ]
  },
  {
   "cell_type": "code",
   "execution_count": null,
   "id": "deb97d7c",
   "metadata": {},
   "outputs": [],
   "source": [
    "k = [1, 2, 3, 4, 5, 6, 7, 8, 9, 10]\n",
    "sum = k[0] + k[1] + k[2] + k[3] + k[4] + k[5] + k[6] + k[7] + k[8] + k[9]\n",
    "print(sum)"
   ]
  },
  {
   "cell_type": "code",
   "execution_count": null,
   "id": "b33ea722",
   "metadata": {},
   "outputs": [],
   "source": [
    "k = [1, 2, 3, 4, 5, 6, 7, 8, 9, 10]\n",
    "sum = 0\n",
    "for i in range(10):\n",
    "    sum += k[i] \n",
    "print(sum)"
   ]
  },
  {
   "cell_type": "code",
   "execution_count": null,
   "id": "1b2d6548",
   "metadata": {},
   "outputs": [],
   "source": [
    "del(sum)\n",
    "sum(k)"
   ]
  },
  {
   "cell_type": "code",
   "execution_count": null,
   "id": "e78b8c48",
   "metadata": {},
   "outputs": [],
   "source": [
    "sum_ = 0\n",
    "k = []\n",
    "\n",
    "k.append(1)\n",
    "k.append(2)\n",
    "k.append(3)\n",
    "k.append(4)\n",
    "k.append(5)\n",
    "\n",
    "for i in range(5):\n",
    "    sum_ += k[i]\n",
    "    \n",
    "print(sum_)\n"
   ]
  },
  {
   "cell_type": "code",
   "execution_count": null,
   "id": "e8d948ee",
   "metadata": {},
   "outputs": [],
   "source": [
    "sum_ = 0\n",
    "k = []\n",
    "\n",
    "for i in range(1, 6, 1):\n",
    "    k.append(i)\n",
    "\n",
    "for i in range(5):\n",
    "    sum_ += k[i]\n",
    "    \n",
    "print(sum_)\n"
   ]
  },
  {
   "cell_type": "code",
   "execution_count": null,
   "id": "6f253f5d",
   "metadata": {},
   "outputs": [],
   "source": [
    "sum_ = 0\n",
    "k = []\n",
    "\n",
    "for i in range(1, 1001, 1):\n",
    "    k.append(i)\n",
    "\n",
    "for i in range(1000):\n",
    "    sum_ += k[i]\n",
    "    \n",
    "print(sum_)\n"
   ]
  },
  {
   "cell_type": "code",
   "execution_count": null,
   "id": "b0cda680",
   "metadata": {},
   "outputs": [],
   "source": [
    "%reset"
   ]
  },
  {
   "cell_type": "code",
   "execution_count": null,
   "id": "66f201a5",
   "metadata": {},
   "outputs": [],
   "source": [
    "k = [1, 2, 3, 4, 5, 6, 7]\n",
    "print(k[0 : 2])\n",
    "print(k[0 : 5])\n",
    "print(k[0 : 6])"
   ]
  },
  {
   "cell_type": "code",
   "execution_count": null,
   "id": "9a1300ae",
   "metadata": {},
   "outputs": [],
   "source": [
    "k = [10, 20, 30]\n",
    "t = [40, 50, 60]\n",
    "\n",
    "print(k + t)\n",
    "print(k * 3)"
   ]
  },
  {
   "cell_type": "code",
   "execution_count": null,
   "id": "3f7a4fea",
   "metadata": {},
   "outputs": [],
   "source": [
    "k = [1, 2, 3, 4]\n",
    "k[0] = 10\n",
    "k[2] = 30\n",
    "print(k)"
   ]
  },
  {
   "cell_type": "code",
   "execution_count": null,
   "id": "3c75bd6d",
   "metadata": {},
   "outputs": [],
   "source": [
    "k = [1, 2, 3, 4]\n",
    "k[2:] = [30, 31, 32]\n",
    "print(k)"
   ]
  },
  {
   "cell_type": "code",
   "execution_count": null,
   "id": "36d88760",
   "metadata": {},
   "outputs": [],
   "source": [
    "k = [1, 2, 3, 4]\n",
    "del(k[2])\n",
    "print(k)"
   ]
  },
  {
   "cell_type": "code",
   "execution_count": null,
   "id": "097431b1",
   "metadata": {},
   "outputs": [],
   "source": [
    "k = [1, 2, 3, 4]\n",
    "k[1:3] = []\n",
    "print(k)"
   ]
  },
  {
   "cell_type": "code",
   "execution_count": null,
   "id": "acd0453b",
   "metadata": {},
   "outputs": [],
   "source": [
    "k = [1, 2, 3, 4]\n",
    "del(k[1:3])\n",
    "print(k)"
   ]
  },
  {
   "cell_type": "code",
   "execution_count": null,
   "id": "6d7bfa1b",
   "metadata": {},
   "outputs": [],
   "source": [
    "k = [1, 2, 3, 4, 5, 6]\n",
    "a = [1000, 2000]\n",
    "print('k : ', k)\n",
    "\n",
    "k.append(50) # 항목추가\n",
    "print('append(50) : ', k)\n",
    "k.pop() # 끝 항목 삭제\n",
    "print('pop() : ', k)\n",
    "k.reverse() # 역순정렬\n",
    "print('reverse() : ', k)\n",
    "k.sort() # 오름차순 정렬\n",
    "print('k.sort() : ', k)\n",
    "k.remove(2) # 요소 삭제(요소로 접근)\n",
    "print('k.remove(2) : ', k)\n",
    "del(k[2]) # 요소 삭제(인덱스로 접근)\n",
    "print('del(k[2]) : ', k)\n",
    "k.insert(1, 3) # 지정한 위치에 값 삽입\n",
    "print('k.insert(1, 3) : ', k)\n",
    "k.extend(a) # 리스트와 리스트 더하기\n",
    "print('k.extend(a) : ', k)\n",
    "k.count(3) # 특정 값의 개수\n",
    "print('k.count(3) : ', k.count(3))\n",
    "len(k) # 리스트 길이\n",
    "print('len(k) : ', len(k))\n",
    "k.index(5) # 특정 값의 인덱스\n",
    "print('index(5) : ', k.index(5))\n"
   ]
  },
  {
   "cell_type": "code",
   "execution_count": null,
   "id": "fcd74c99",
   "metadata": {},
   "outputs": [],
   "source": [
    "tp1 = (1, 2, 3, 4)\n",
    "tp2 = 1, 2, 3, 4\n",
    "print(tp1)\n",
    "print(tp2)\n",
    "\n",
    "tp3 = (10,)\n",
    "tp4 = (10)\n",
    "tp5 = 10,\n",
    "print(tp3)\n",
    "print(tp4)\n",
    "print(tp5)\n"
   ]
  },
  {
   "cell_type": "code",
   "execution_count": null,
   "id": "557917a9",
   "metadata": {},
   "outputs": [],
   "source": [
    "tp = (1, 2, 3, 4)\n",
    "print('tp[1] : ', tp[1])\n",
    "print('tp[3] : ', tp[3])\n",
    "\n",
    "sum_ = tp[0] + tp[1] + tp[2] + tp[3]\n",
    "print('sum_ : ', sum_ )"
   ]
  },
  {
   "cell_type": "code",
   "execution_count": null,
   "id": "f453aec0",
   "metadata": {},
   "outputs": [],
   "source": [
    "tp = (1, 2, 3, 4)\n",
    "print(tp[1:3])\n",
    "print(tp[1:])\n",
    "print(tp[:3])"
   ]
  },
  {
   "cell_type": "code",
   "execution_count": null,
   "id": "2bbbc8b3",
   "metadata": {},
   "outputs": [],
   "source": [
    "tp1 = (1, 2)\n",
    "tp2 = ('짝',)\n",
    "print(tp1 + tp2)\n",
    "print(tp2 * 3)"
   ]
  },
  {
   "cell_type": "code",
   "execution_count": null,
   "id": "2c73dd67",
   "metadata": {},
   "outputs": [],
   "source": [
    "mytp = ('나 혼자', '파이썬')\n",
    "print('mytp : ',mytp)\n",
    "print('type(mytp) : ',type(mytp))\n",
    "print()\n",
    "\n",
    "mylist = list(mytp)\n",
    "print('mylist : ', mylist)\n",
    "print('type(mylist)', type(mylist))\n",
    "print()\n",
    "\n",
    "mylist[0] = '다 함께'\n",
    "print('mylist[0] = \"다 함께\" 변경 후 : ', mylist)\n",
    "print()\n",
    "\n",
    "mytp = tuple(mylist)\n",
    "print('mytp : ', mytp)\n",
    "print('type(mytp) : ',type(mytp))"
   ]
  },
  {
   "cell_type": "code",
   "execution_count": null,
   "id": "8da47cbf",
   "metadata": {},
   "outputs": [],
   "source": [
    "p = {'컵라면' : 800, '삼각김밥' : 1000, '소세지' : 1500}\n",
    "w = {'boy' : '소년', 'girl' : '소녀', 'family' : '가족'}\n",
    "\n",
    "print(p)\n",
    "print(w)"
   ]
  },
  {
   "cell_type": "code",
   "execution_count": null,
   "id": "56575d24",
   "metadata": {},
   "outputs": [],
   "source": [
    "p = {'컵라면' : 800, '삼각김밥' : 1000, '소세지' : 1500}\n",
    "\n",
    "p['오뎅'] = 2000\n",
    "p['닭다리'] = 3000\n",
    "p['아이스크림'] = 1000\n",
    "print(p)"
   ]
  },
  {
   "cell_type": "code",
   "execution_count": null,
   "id": "3fc9d15a",
   "metadata": {},
   "outputs": [],
   "source": [
    "p = {'컵라면' : 800, '삼각김밥' : 1000, '소세지' : 1500}\n",
    "\n",
    "del(p['컵라면'])\n",
    "del(p['소세지'])\n",
    "\n",
    "print(p)"
   ]
  },
  {
   "cell_type": "code",
   "execution_count": null,
   "id": "6da04618",
   "metadata": {},
   "outputs": [],
   "source": [
    "p = {'컵라면' : 800, '삼각김밥' : 1000, '소세지' : 1500}\n",
    "print(p.get('삼각김밥'))\n",
    "print(p.keys())\n",
    "print(p.values())"
   ]
  },
  {
   "cell_type": "code",
   "execution_count": null,
   "id": "f26d1f59",
   "metadata": {},
   "outputs": [],
   "source": [
    "p = {'컵라면' : 800, '삼각김밥' : 1000, '소세지' : 1500}\n",
    "p_k = list(p.keys())\n",
    "print(p_k)\n",
    "p_v = list(p.values())\n",
    "print(p_v)"
   ]
  },
  {
   "cell_type": "code",
   "execution_count": null,
   "id": "368d170a",
   "metadata": {},
   "outputs": [],
   "source": [
    "'컵라면' in p"
   ]
  },
  {
   "cell_type": "code",
   "execution_count": null,
   "id": "d532a044",
   "metadata": {},
   "outputs": [],
   "source": [
    "'치킨' in p"
   ]
  },
  {
   "cell_type": "code",
   "execution_count": null,
   "id": "629f69d0",
   "metadata": {},
   "outputs": [],
   "source": [
    "p = {'컵라면' : 800, '삼각김밥' : 1000, '소세지' : 1500}\n",
    "item = input('상품을 입력하세요. :')\n",
    "\n",
    "if (item in p):\n",
    "    print('편의점에 상품이 있습니다.')\n",
    "else:\n",
    "    print('편의점에 존재하지 않는 상품입니다.')"
   ]
  },
  {
   "cell_type": "code",
   "execution_count": null,
   "id": "41dec3d8",
   "metadata": {},
   "outputs": [],
   "source": [
    "capital = {'네팔' : '카트만두',\n",
    "          '대한민국' : '서울',\n",
    "          '일본' : '도쿄',\n",
    "          '중국' : '베이징',\n",
    "          '이탈리아' : '로마',\n",
    "          '러시아' : '모스크바',\n",
    "          '독일' : '베를린',\n",
    "          '미국' : '워싱턴',\n",
    "          '프랑스' : '파리',\n",
    "          '영국' : '런던'}\n",
    "while (True):\n",
    "    contry = input(str(list(capital.keys())) + \"나라의 수도는 무엇일까요? \")\n",
    "    if (contry in capital):\n",
    "        print(contry, '의 수도는', capital.get(contry), '입니다.')\n",
    "    elif (contry == \"exit\"):\n",
    "        break\n",
    "    else:\n",
    "        print('그런 나라 없습니다.')"
   ]
  },
  {
   "cell_type": "code",
   "execution_count": null,
   "id": "ea64f796",
   "metadata": {},
   "outputs": [],
   "source": [
    "arr_list = [1, 2, 3, 4, 5]\n",
    "if (9 not in arr_list):\n",
    "    print('9가 없다.')\n",
    "else:\n",
    "    print('9가 있다.')"
   ]
  },
  {
   "cell_type": "code",
   "execution_count": null,
   "id": "fae2875d",
   "metadata": {},
   "outputs": [],
   "source": [
    "str_ = 'Hello'\n",
    "if ('a' not in str_):\n",
    "    print('a가 문자열 안에 없다.')\n",
    "else:\n",
    "    print('a가 문자열 안에 있다.')"
   ]
  },
  {
   "cell_type": "code",
   "execution_count": null,
   "id": "6826f43a",
   "metadata": {},
   "outputs": [],
   "source": [
    "df_list = ['kim_a', 'kim_b', 'kim_c', 'seo_a', 'seo_b', 'seo_c']\n",
    "for col in df_list:\n",
    "    if ('kim' not in col):\n",
    "        print(col)"
   ]
  },
  {
   "cell_type": "code",
   "execution_count": null,
   "id": "e2aaf010",
   "metadata": {},
   "outputs": [],
   "source": [
    "df_list = ['kim_a', 'kim_b', 'kim_c', 'seo_a', 'seo_b', 'seo_c']\n",
    "unselect_list = ['kim_a', 'seo_a']\n",
    "\n",
    "for col in df_list:\n",
    "    if (col not in unselect_list):\n",
    "        print(col)\n",
    "        "
   ]
  },
  {
   "cell_type": "code",
   "execution_count": null,
   "id": "45ef2e5a",
   "metadata": {},
   "outputs": [],
   "source": [
    "df_list = ['c programming', 'python programming', 'mysql', 'jquery']\n",
    "\n",
    "for col in df_list:\n",
    "    if ('pro' not in col):\n",
    "        print(col)"
   ]
  },
  {
   "cell_type": "code",
   "execution_count": null,
   "id": "b1857143",
   "metadata": {},
   "outputs": [],
   "source": [
    "print('i' + ' love' + ' you')\n",
    "\n",
    "str1 = 'i'\n",
    "str2 = ' love'\n",
    "str3 = ' you'\n",
    "print(str1 + str2 + str3)"
   ]
  },
  {
   "cell_type": "code",
   "execution_count": null,
   "id": "a0f86578",
   "metadata": {},
   "outputs": [],
   "source": [
    "print('-' * 30)\n",
    "print('i ' + 'love ' * 3 + 'you')\n",
    "print('-' * 30)"
   ]
  },
  {
   "cell_type": "code",
   "execution_count": null,
   "id": "3f922001",
   "metadata": {},
   "outputs": [],
   "source": [
    "str = '답은 정해져 있어 너는 대답만 해'\n",
    "print(str[0], end = '')\n",
    "print(str[3], end = '')\n",
    "print(str[10], end = '')"
   ]
  },
  {
   "cell_type": "code",
   "execution_count": null,
   "id": "317be477",
   "metadata": {},
   "outputs": [],
   "source": [
    "str1 = '다시 합창 합시다'\n",
    "print(str1)\n",
    "str2 = ''\n",
    "\n",
    "count = len(str1)\n",
    "\n",
    "for i in range(0, count):\n",
    "    str2 += str1[count - (i + 1)]\n",
    "print('str1 : ', str1)\n",
    "print('str2 : ', str2)"
   ]
  },
  {
   "cell_type": "code",
   "execution_count": null,
   "id": "a7c88c1d",
   "metadata": {},
   "outputs": [],
   "source": [
    "str = 'To be or not to be'\n",
    "\n",
    "print(str[0] + str[1] + str[2] + str[3] +str[4])\n",
    "print(str[0:5])\n",
    "print(str[6:8])\n",
    "print(str[9:16])"
   ]
  },
  {
   "cell_type": "code",
   "execution_count": null,
   "id": "7012d158",
   "metadata": {},
   "outputs": [],
   "source": [
    "str = 'To be or not to be'\n",
    "\n",
    "print(str[0:])\n",
    "print(str[:8])\n",
    "print(str[:])"
   ]
  },
  {
   "cell_type": "code",
   "execution_count": null,
   "id": "967ed89f",
   "metadata": {},
   "outputs": [],
   "source": [
    "value = int(input('정수값을 입력하세요. : '))\n",
    "print('현재 시간은 %d시 입니다.' % (value))\n",
    "\n",
    "value = float(input('실수값을 입력하세요. : '))\n",
    "print('현재 체온은 %.1f도 입니다.' % (value))\n",
    "\n",
    "value = input('문자열을 입력하세요. : ')\n",
    "print('나는 %s에 살고 있습니다.' % (value))\n",
    "\n"
   ]
  },
  {
   "cell_type": "code",
   "execution_count": null,
   "id": "f9ba13f5",
   "metadata": {},
   "outputs": [],
   "source": [
    "print('강수 확률은 %d%%입니다.' % 60)"
   ]
  },
  {
   "cell_type": "code",
   "execution_count": null,
   "id": "5f4f0616",
   "metadata": {},
   "outputs": [],
   "source": [
    "'현재 시간은 {0}시 입니다.' .format(3)"
   ]
  },
  {
   "cell_type": "code",
   "execution_count": null,
   "id": "0af35486",
   "metadata": {},
   "outputs": [],
   "source": [
    "'나는 {0}에 살고 있습니다.' .format('수원')"
   ]
  },
  {
   "cell_type": "code",
   "execution_count": null,
   "id": "683c44b8",
   "metadata": {},
   "outputs": [],
   "source": [
    "'현재 시간은 {0}시 {1}분 입니다.' .format(12, 30)"
   ]
  },
  {
   "cell_type": "code",
   "execution_count": null,
   "id": "adcb991c",
   "metadata": {},
   "outputs": [],
   "source": [
    "print('현재 시간은 {0}시 {1}분 입니다.' .format(12, 30))"
   ]
  },
  {
   "cell_type": "code",
   "execution_count": null,
   "id": "c0ae67e5",
   "metadata": {},
   "outputs": [],
   "source": [
    "print('현재 기온은 %d' %(40))"
   ]
  },
  {
   "cell_type": "code",
   "execution_count": null,
   "id": "02af8883",
   "metadata": {},
   "outputs": [],
   "source": [
    "'현재 기온은 %d' %(40)"
   ]
  },
  {
   "cell_type": "code",
   "execution_count": null,
   "id": "0cab323f",
   "metadata": {},
   "outputs": [],
   "source": [
    "value = int(input('정수값을 입력하세요. : '))\n",
    "print('현재 시간은 {0}시 입니다.' .format(value))\n",
    "\n",
    "value = input('문자열을 입력하세요. : ')\n",
    "print('나는 {0}에 살고 있습니다.' .format(value))\n",
    "      \n",
    "value1 = int(input('첫 번째정수값을 입력하세요. : '))\n",
    "value2 = int(input('두 번째정수값을 입력하세요. : '))\n",
    "print('현재 시간은 {0}시 {1}분 입니다' .format(12, 30))\n",
    "      \n",
    "\n",
    "\n"
   ]
  },
  {
   "cell_type": "code",
   "execution_count": null,
   "id": "9c977e68",
   "metadata": {},
   "outputs": [],
   "source": [
    "str1 = '간장 공장 공장장은 강 공장장이고 된장 공장 공장장은 공 공장장이다.'\n",
    "\n",
    "chr1 = str1.count('공')\n",
    "chr2 = str1.count('장')\n",
    "\n",
    "print('\"공\"의 개수 : %d' % chr1)\n",
    "print('\"장\"의 개수 : %d' % chr2)\n",
    "\n",
    "str2 = '내가 그린 기린 그림은 잘 그린 기린 그림이고 네가 그린 기린 그림은 잘 못 그린 기린 그림이다.'\n",
    "\n",
    "str2_1 = str2.count('그린')\n",
    "str2_2 = str2.count('기린')\n",
    "str2_3 = str2.count('그림')\n",
    "\n",
    "print('\"그린\"의 개수 : %d' % (str2_1))\n",
    "print('\"기린\"의 개수 : %d' % (str2_2))\n",
    "print('\"그림\"의 개수 : %d' % (str2_3))\n"
   ]
  },
  {
   "cell_type": "code",
   "execution_count": null,
   "id": "515b4fa7",
   "metadata": {},
   "outputs": [],
   "source": [
    "str1 = '간장 공장 공장장은 강 공장장이고 된장 공장 공장장은 공 공장장이다.'\n",
    "\n",
    "chr1 = str1.find('공')\n",
    "chr2 = str1.index('장')\n",
    "\n",
    "print('\"공\"의 위치 : %d' % (chr1))\n",
    "print('\"장\"의 위치 : %d' % (chr2))\n",
    "\n",
    "str2 = '내가 그린 기린 그림은 잘 그린 기린 그림이고 네가 그린 기린 그림은 잘 못 그린 기린 그림이다.'\n",
    "\n",
    "str2_1 = str2.find('그린')\n",
    "str2_2 = str2.index('기린')\n",
    "str2_3 = str2.find('음악')\n",
    "\n",
    "print('\"그린\"의 위치 : %d' % (str2_1))\n",
    "print('\"기린\"의 위치 : %d' % (str2_2))\n",
    "print('\"음악\"의 위치 : %d' % (str2_3))"
   ]
  },
  {
   "cell_type": "code",
   "execution_count": null,
   "id": "b48f7634",
   "metadata": {},
   "outputs": [],
   "source": [
    "train_str = '칙칙폭폭'\n",
    "num_str = '123456789'\n",
    "\n",
    "div_str1 = '-'.join(train_str)\n",
    "div_str2 = ':'.join(num_str)\n",
    "\n",
    "print(div_str1)\n",
    "print(div_str2)"
   ]
  },
  {
   "cell_type": "code",
   "execution_count": null,
   "id": "ffdba219",
   "metadata": {},
   "outputs": [],
   "source": [
    "ani_list = ['강아지', '고양이', '원숭이', '코끼리']\n",
    "time_list = ['12', '30', '55']\n",
    "\n",
    "ani_str = '+'.join(ani_list)\n",
    "time_str = ':'.join(time_list)\n",
    "\n",
    "print(ani_str)\n",
    "print(time_str)"
   ]
  },
  {
   "cell_type": "code",
   "execution_count": null,
   "id": "73236165",
   "metadata": {},
   "outputs": [],
   "source": [
    "planet_str = '수성-금성-지구-화성-목성-토성-천왕성-해왕성'\n",
    "time_str = '12시:30분:55초'\n",
    "\n",
    "planet_list = planet_str.split('-')\n",
    "time_list = time_str.split(':')\n",
    "\n",
    "print(planet_list)\n",
    "print(time_list)"
   ]
  },
  {
   "cell_type": "code",
   "execution_count": null,
   "id": "c03cefce",
   "metadata": {},
   "outputs": [],
   "source": [
    "eng_str = input('영문자를 입력하세요. : ')\n",
    "\n",
    "upper_str = eng_str.upper()\n",
    "lower_str = eng_str.lower()\n",
    "\n",
    "print('대문자로 변환 : %s' % (upper_str))\n",
    "print('소문자로 변환 : %s' % (lower_str))"
   ]
  },
  {
   "cell_type": "code",
   "execution_count": null,
   "id": "83e87e63",
   "metadata": {},
   "outputs": [],
   "source": [
    "str1 = ' 죽는 날까지 하늘을 우러러'\n",
    "str2 = '한점 부끄럼이 없기를 '\n",
    "str3 = ' 잎새에 이는 바람에도 '\n",
    "\n",
    "lstrip_str = str1.lstrip()\n",
    "rstrip_str = str1.rstrip()\n",
    "strip_str = str1.strip()\n",
    "\n",
    "print('str1 : %s' % (str1))\n",
    "print('str2 : %s' % (str2))\n",
    "print('str3 : %s' % (str3))\n",
    "\n",
    "print()\n",
    "print('왼쪽 공백 없애기 : %s' %(lstrip_str))\n",
    "print('오른쪽 공백 없애기 : %s' %(rstrip_str))\n",
    "print('양쪽 공백 없애기 : %s' %(strip_str))\n",
    "\n"
   ]
  },
  {
   "cell_type": "code",
   "execution_count": null,
   "id": "a8aa4f02",
   "metadata": {},
   "outputs": [],
   "source": [
    "while (True):\n",
    "    str_ = input('문자열을 입력하세요. :')\n",
    "    \n",
    "    if (str_.isdigit()):  # 숫자로 구성되어 있는가\n",
    "        print('문자열은 숫자로 구성되어 있습니다.')\n",
    "    elif (str_.isalpha()): # 문자로 구성되어 있는가 \n",
    "        print('문자열은 글자로 구성되어 있습니다.')\n",
    "        if (str_.isupper()): # 대문자로 구성되어 있는가\n",
    "            print('문자열은 대문자로 구성되어 있습니다.')\n",
    "        elif (str_.islower()): # 소문자로 구성되어 있는가\n",
    "            print('문자열은 소문자로 구성되어 있습니다.')\n",
    "    elif (str_.isspace()): # 공백으로 구성되어 있는가\n",
    "        print('문자열은 공백으로 구성되어 있습니다.')\n",
    "        break\n",
    "    else:\n",
    "        print('모르겠습니다.')"
   ]
  },
  {
   "cell_type": "code",
   "execution_count": null,
   "id": "596b4cba",
   "metadata": {},
   "outputs": [],
   "source": [
    "a = list(range(1, 26, 1))\n",
    "print(a)\n",
    "\n",
    "print(a[12])\n",
    "print(a[-13])"
   ]
  },
  {
   "cell_type": "code",
   "execution_count": null,
   "id": "06185768",
   "metadata": {},
   "outputs": [],
   "source": [
    "import os\n",
    "os.getcwd()"
   ]
  },
  {
   "cell_type": "code",
   "execution_count": null,
   "id": "4aeec983",
   "metadata": {},
   "outputs": [],
   "source": [
    "fName = 'poem.txt'\n",
    "fp = open(fName, \"rt\")\n",
    "print(fp.read())\n",
    "fp.close()"
   ]
  },
  {
   "cell_type": "code",
   "execution_count": null,
   "id": "599120f6",
   "metadata": {},
   "outputs": [],
   "source": [
    "fName = 'poem.txt'\n",
    "fp = open(fName, \"rt\")\n",
    "\n",
    "strline = fp.readline()\n",
    "print(strline)\n",
    "\n",
    "strline = fp.readline()\n",
    "print(strline)\n",
    "\n",
    "strline = fp.readline()\n",
    "print(strline)\n",
    "\n",
    "strline = fp.readline()\n",
    "print(strline)\n",
    "\n",
    "\n",
    "\n",
    "fp.close()"
   ]
  },
  {
   "cell_type": "code",
   "execution_count": null,
   "id": "6736d22a",
   "metadata": {},
   "outputs": [],
   "source": [
    "fName = 'poem.txt'\n",
    "fp = open(fName, \"rt\")\n",
    "\n",
    "while (True):\n",
    "    strline = fp.readline()\n",
    "    if (strline ==''):\n",
    "        break\n",
    "    print(strline)\n",
    "\n",
    "\n",
    "\n",
    "fp.close()"
   ]
  },
  {
   "cell_type": "code",
   "execution_count": null,
   "id": "88a4eff0",
   "metadata": {},
   "outputs": [],
   "source": [
    "fName = 'poem.txt'\n",
    "fp = open(fName, \"rt\")\n",
    "\n",
    "strline = fp.readlines()\n",
    "print(strline)\n",
    "\n",
    "fp.close()"
   ]
  },
  {
   "cell_type": "code",
   "execution_count": null,
   "id": "bef4f359",
   "metadata": {},
   "outputs": [],
   "source": [
    "fName = 'poem.txt'\n",
    "fp = open(fName, \"rt\")\n",
    "\n",
    "strline = fp.readlines()\n",
    "\n",
    "for strlist in strline:\n",
    "    print(strlist)\n",
    "\n",
    "fp.close()"
   ]
  },
  {
   "cell_type": "code",
   "execution_count": null,
   "id": "ac20aff3",
   "metadata": {},
   "outputs": [],
   "source": [
    "import os\n",
    "fName = input('파일명을 입력하세요. : ')\n",
    "print()\n",
    "\n",
    "if (os.path.exists(fName)):\n",
    "    with open(fName, \"r\") as fp:\n",
    "        strline = fp.readlines()\n",
    "        for strlist in strline:\n",
    "            print(strlist)\n",
    "else:\n",
    "    print('%s 파일은 존재하지 않습니다.' % (fName))"
   ]
  },
  {
   "cell_type": "code",
   "execution_count": null,
   "id": "37ca0947",
   "metadata": {},
   "outputs": [],
   "source": [
    "fName = 'file.txt'\n",
    "\n",
    "with open(fName, 'w') as fp:\n",
    "    while (True):\n",
    "        instr = input('데이터 입력 : ')\n",
    "        \n",
    "        if (instr == '\\q'):\n",
    "            break\n",
    "        fp.writelines(instr + '\\n')\n",
    "with open(fName, 'r') as fp:\n",
    "    strline = fp.readlines()\n",
    "    print()\n",
    "    print('<출력>')\n",
    "    for strlist in strline:\n",
    "        print(strlist)\n",
    "    "
   ]
  },
  {
   "cell_type": "code",
   "execution_count": null,
   "id": "ab1397c3",
   "metadata": {},
   "outputs": [],
   "source": [
    "srcfile = 'file.txt'\n",
    "destfile = 'destFile.txt'\n",
    "\n",
    "sfp = open(srcfile, 'r')\n",
    "dfp = open(destfile, 'w')\n",
    "\n",
    "slist = sfp.readlines()\n",
    "for instr in slist:\n",
    "    dfp.writelines(instr)\n",
    "    \n",
    "sfp.close()\n",
    "dfp.close()\n",
    "\n",
    "print('file.text 파일에서 destfile.txt로 복사하였습니다.')"
   ]
  },
  {
   "cell_type": "code",
   "execution_count": null,
   "id": "1dfcfb95",
   "metadata": {},
   "outputs": [],
   "source": [
    "srcfile = 'sea.jpg'\n",
    "destfile = 'seacpy.jpg'\n",
    "\n",
    "sfp = open(srcfile, 'rb')\n",
    "dfp = open(destfile, 'wb')\n",
    "\n",
    "while (True):\n",
    "    sbyte = sfp.read()\n",
    "    if (not sbyte):\n",
    "        break\n",
    "    dfp.write(sbyte)\n",
    "    \n",
    "sfp.close()\n",
    "dfp.close()\n",
    "\n",
    "print('sea.jpg 파일에서 seacpy.jpg로 복사하였습니다.')"
   ]
  },
  {
   "cell_type": "code",
   "execution_count": null,
   "id": "2842a185",
   "metadata": {},
   "outputs": [],
   "source": [
    "import os \n",
    "\n",
    "srcfile = 'SleepAway.mp3'\n",
    "\n",
    "if (os.path.exists(srcfile)):\n",
    "    sfp = open(srcfile, 'rb')\n",
    "    \n",
    "    sfp.seek(-128, 2)\n",
    "    tdata = sfp.read(128)\n",
    "    \n",
    "    title = tdata[3:33].decode()\n",
    "    print('제목 : ', title)\n",
    "    \n",
    "    artist = tdata[33:63].decode()\n",
    "    print('가수 : ', artist)\n",
    "    \n",
    "    mdate = tdata[93:97].decode()\n",
    "    print('출시년도 : ', mdate)\n",
    "    \n",
    "    etc = tdata[97:127].decode()\n",
    "    print('기타정보 : ', etc)\n",
    "    \n",
    "    sfp.close()\n",
    "    print('\\n 음악 파일 정보를 정상적으로 출력하였습니다.')"
   ]
  },
  {
   "cell_type": "markdown",
   "id": "e17f2473",
   "metadata": {},
   "source": [
    "# DataBase"
   ]
  },
  {
   "cell_type": "code",
   "execution_count": 1,
   "id": "3b5904a6",
   "metadata": {},
   "outputs": [
    {
     "name": "stdout",
     "output_type": "stream",
     "text": [
      "1. DB연결성공\n"
     ]
    }
   ],
   "source": [
    "import sqlite3\n",
    "conn = sqlite3.connect('bookStoreDB')\n",
    "print('1. DB연결성공')"
   ]
  },
  {
   "cell_type": "code",
   "execution_count": 2,
   "id": "3bcc944c",
   "metadata": {},
   "outputs": [
    {
     "name": "stdout",
     "output_type": "stream",
     "text": [
      "2. 커서 생성 성공\n"
     ]
    }
   ],
   "source": [
    "cur = conn.cursor()\n",
    "print('2. 커서 생성 성공')"
   ]
  },
  {
   "cell_type": "code",
   "execution_count": 3,
   "id": "6914727b",
   "metadata": {},
   "outputs": [
    {
     "name": "stdout",
     "output_type": "stream",
     "text": [
      "3. 테이블 생성\n"
     ]
    }
   ],
   "source": [
    "cur.execute('create table if not exists bookItem (item char(100), author char(50), publisher char(50), stock int)')\n",
    "print('3. 테이블 생성')"
   ]
  },
  {
   "cell_type": "code",
   "execution_count": null,
   "id": "2d726eb7",
   "metadata": {},
   "outputs": [],
   "source": [
    "# cur.execute(\"delete from bookItem\")\n",
    "# conn.commit()"
   ]
  },
  {
   "cell_type": "code",
   "execution_count": 4,
   "id": "b2b50048",
   "metadata": {},
   "outputs": [
    {
     "name": "stdout",
     "output_type": "stream",
     "text": [
      "4. 데이터 입력\n"
     ]
    }
   ],
   "source": [
    "cur.execute(\"insert into bookItem values('C programming', 'lee', 'digitalbooks', '100')\")\n",
    "cur.execute(\"insert into bookItem values('Python', 'lee', 'digitalbooks', '50')\")\n",
    "cur.execute(\"insert into bookItem values('Javascript', 'lee', 'hyejiwon', '300')\")\n",
    "cur.execute(\"insert into bookItem values('Django', 'kim', 'hyejiwon', '30')\")\n",
    "print('4. 데이터 입력')"
   ]
  },
  {
   "cell_type": "code",
   "execution_count": 5,
   "id": "fe788ecb",
   "metadata": {},
   "outputs": [
    {
     "name": "stdout",
     "output_type": "stream",
     "text": [
      "5.데이터 저장\n"
     ]
    }
   ],
   "source": [
    "conn.commit()\n",
    "print('5.데이터 저장')"
   ]
  },
  {
   "cell_type": "code",
   "execution_count": 6,
   "id": "52ae0808",
   "metadata": {
    "scrolled": true
   },
   "outputs": [
    {
     "name": "stdout",
     "output_type": "stream",
     "text": [
      "6. 데이터 조회\n"
     ]
    }
   ],
   "source": [
    "cur.execute(\"select * from bookItem;\")\n",
    "print('6. 데이터 조회')"
   ]
  },
  {
   "cell_type": "code",
   "execution_count": 7,
   "id": "3d5530d5",
   "metadata": {},
   "outputs": [],
   "source": [
    "# row = cur.fetchall()\n",
    "# print(row)\n",
    "# print('\\n7. 데이터 출력')"
   ]
  },
  {
   "cell_type": "code",
   "execution_count": 8,
   "id": "98a874a7",
   "metadata": {},
   "outputs": [],
   "source": [
    "# row = cur.fetchmany(5)\n",
    "# print(row)\n",
    "# print('\\n7. 데이터 출력')"
   ]
  },
  {
   "cell_type": "code",
   "execution_count": 9,
   "id": "509eb36d",
   "metadata": {},
   "outputs": [
    {
     "name": "stdout",
     "output_type": "stream",
     "text": [
      "('C programming', 'lee', 'digitalbooks', 100)\n",
      "('Python', 'lee', 'digitalbooks', 50)\n",
      "('Javascript', 'lee', 'hyejiwon', 300)\n",
      "('Django', 'kim', 'hyejiwon', 30)\n",
      "\n",
      "7. 데이터 출력\n"
     ]
    }
   ],
   "source": [
    "while (True):\n",
    "    row = cur.fetchone()\n",
    "    if (row == None):\n",
    "        break\n",
    "    print(row)\n",
    "print('\\n7. 데이터 출력')"
   ]
  },
  {
   "cell_type": "code",
   "execution_count": null,
   "id": "dada4d32",
   "metadata": {},
   "outputs": [],
   "source": [
    "conn.close()\n",
    "print('8. DB연결 종료')"
   ]
  },
  {
   "cell_type": "markdown",
   "id": "d9939714",
   "metadata": {},
   "source": [
    "# Class"
   ]
  },
  {
   "cell_type": "code",
   "execution_count": 40,
   "id": "73e00205",
   "metadata": {},
   "outputs": [
    {
     "name": "stdout",
     "output_type": "stream",
     "text": [
      "자동차1의 정보 :  초록색 30 전진\n",
      "자동차2의 정보 :  빨강색 60 후진\n",
      "자동차3의 정보 :  노랑색 100 전진\n"
     ]
    }
   ],
   "source": [
    "class Car:\n",
    "    \n",
    "    def __init__(self, c_value, s_value, d_value):\n",
    "        # 자동차의 멤버 변수\n",
    "        self.__color = c_value\n",
    "        self.__speed = s_value\n",
    "        self.__direction = d_value\n",
    "    \n",
    "    # 자동차의 메소드\n",
    "    def set_Speed(self, s_value):\n",
    "        self.__speed = s_value\n",
    "        \n",
    "    def set_Direction(self, d_value):\n",
    "        self.__direction = d_value\n",
    "    \n",
    "    def set_Color(self, c_value):\n",
    "        self.__color = c_value\n",
    "        \n",
    "    def get_Speed(self):\n",
    "        return self.__speed\n",
    "        \n",
    "    def get_Direction(self):\n",
    "        return self.__direction\n",
    "    \n",
    "    def get_Color(self):\n",
    "        return self.__color\n",
    "    \n",
    "\n",
    "        \n",
    "mycar1 = Car('초록색', 30, '전진')\n",
    "mycar2 = Car('빨강색', 60, '후진')\n",
    "mycar3 = Car('노랑색', 100, '전진')\n",
    "\n",
    "# mycar1.set_Color(\"초록색\")\n",
    "# mycar1.set_Speed(30)\n",
    "# mycar1.set_Direction(\"전진\")\n",
    "\n",
    "# mycar2.__color = \"빨강색\"\n",
    "# mycar2.__speed = 60\n",
    "# mycar2.__direction = \"후진\"\n",
    "\n",
    "# mycar3.__color = \"노랑색\"\n",
    "# mycar3.__speed = 100\n",
    "# mycar3.__direction = \"전진\"\n",
    "\n",
    "print('자동차1의 정보 : ', mycar1.get_Color(), mycar1.get_Speed(), mycar1.get_Direction())\n",
    "print('자동차2의 정보 : ', mycar2.get_Color(), mycar2.get_Speed(), mycar2.get_Direction())\n",
    "print('자동차3의 정보 : ', mycar3.get_Color(), mycar3.get_Speed(), mycar3.get_Direction())\n",
    "        "
   ]
  },
  {
   "cell_type": "code",
   "execution_count": 44,
   "id": "22838964",
   "metadata": {},
   "outputs": [
    {
     "name": "stdout",
     "output_type": "stream",
     "text": [
      "승용차의 정보 :  초록색 30 전진 100\n",
      "승용차의 정보 :  빨강색 60 후진 100\n"
     ]
    }
   ],
   "source": [
    "class Sedan(Car):\n",
    "    gasoline = 100\n",
    "    \n",
    "    def get_Gasoline(self):\n",
    "        return self.gasoline\n",
    "    \n",
    "class Suv(Car):\n",
    "    diesel = 60\n",
    "    \n",
    "    def get_Diesel(self):\n",
    "        return self.diesel\n",
    "    \n",
    "sedan = Sedan('초록색', 30, '전진')\n",
    "print('승용차의 정보 : ', sedan.get_Color(), sedan.get_Speed(), sedan.get_Direction(), sedan.get_Gasoline())\n",
    "\n",
    "suv = Sedan('빨강색', 60, '후진')\n",
    "print('승용차의 정보 : ', suv.get_Color(), suv.get_Speed(), suv.get_Direction(), suv.get_Gasoline())"
   ]
  },
  {
   "cell_type": "code",
   "execution_count": 21,
   "id": "ec4382c7",
   "metadata": {},
   "outputs": [
    {
     "name": "stdout",
     "output_type": "stream",
     "text": [
      "Once deleted, variables cannot be recovered. Proceed (y/[n])? y\n"
     ]
    }
   ],
   "source": [
    "%reset"
   ]
  },
  {
   "cell_type": "code",
   "execution_count": 29,
   "id": "88b7efd0",
   "metadata": {},
   "outputs": [],
   "source": [
    "del(Car)"
   ]
  },
  {
   "cell_type": "code",
   "execution_count": 56,
   "id": "0bfdcd89",
   "metadata": {},
   "outputs": [
    {
     "data": {
      "text/plain": [
       "24"
      ]
     },
     "execution_count": 56,
     "metadata": {},
     "output_type": "execute_result"
    }
   ],
   "source": [
    "def factorial(n):\n",
    "    ret = 1\n",
    "    i = 1\n",
    "    while (i < n + 1):\n",
    "        ret *= i\n",
    "        i += 1\n",
    "    return ret\n",
    "\n",
    "factorial(4)"
   ]
  },
  {
   "cell_type": "code",
   "execution_count": 58,
   "id": "ffa0954b",
   "metadata": {},
   "outputs": [
    {
     "data": {
      "text/plain": [
       "120"
      ]
     },
     "execution_count": 58,
     "metadata": {},
     "output_type": "execute_result"
    }
   ],
   "source": [
    "def factorial(n):\n",
    "    ret = 1\n",
    "    for i in range(1, n + 1, 1):\n",
    "        ret *= i\n",
    "    return ret\n",
    "\n",
    "factorial(5)"
   ]
  },
  {
   "cell_type": "code",
   "execution_count": 62,
   "id": "1a4c4a31",
   "metadata": {},
   "outputs": [
    {
     "data": {
      "text/plain": [
       "120"
      ]
     },
     "execution_count": 62,
     "metadata": {},
     "output_type": "execute_result"
    }
   ],
   "source": [
    "def factorial(n):\n",
    "    if (n > 1):\n",
    "        return n * factorial(n - 1)\n",
    "    else:\n",
    "        return 1\n",
    "    \n",
    "factorial(5)"
   ]
  },
  {
   "cell_type": "code",
   "execution_count": 1,
   "id": "96bc643f",
   "metadata": {},
   "outputs": [
    {
     "data": {
      "text/plain": [
       "1.0212781429290771"
      ]
     },
     "execution_count": 1,
     "metadata": {},
     "output_type": "execute_result"
    }
   ],
   "source": [
    "import time\n",
    "start = time.time()\n",
    "\n",
    "for i in range(10000000):\n",
    "  i *= (i + 1)\n",
    "\n",
    "end = time.time()\n",
    "\n",
    "end - start"
   ]
  },
  {
   "cell_type": "code",
   "execution_count": null,
   "id": "fc0d8fdc",
   "metadata": {},
   "outputs": [],
   "source": []
  }
 ],
 "metadata": {
  "kernelspec": {
   "display_name": "Python 3 (ipykernel)",
   "language": "python",
   "name": "python3"
  },
  "language_info": {
   "codemirror_mode": {
    "name": "ipython",
    "version": 3
   },
   "file_extension": ".py",
   "mimetype": "text/x-python",
   "name": "python",
   "nbconvert_exporter": "python",
   "pygments_lexer": "ipython3",
   "version": "3.8.8"
  }
 },
 "nbformat": 4,
 "nbformat_minor": 5
}
