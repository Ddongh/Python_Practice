{
 "cells": [
  {
   "cell_type": "code",
   "execution_count": null,
   "id": "a61bcf0e",
   "metadata": {},
   "outputs": [],
   "source": [
    "%pip uninstall pandas --y"
   ]
  },
  {
   "cell_type": "code",
   "execution_count": null,
   "id": "61cc197d",
   "metadata": {},
   "outputs": [],
   "source": [
    "Y"
   ]
  },
  {
   "cell_type": "code",
   "execution_count": null,
   "id": "0f1d87cf",
   "metadata": {},
   "outputs": [],
   "source": [
    "%pip install pandas "
   ]
  },
  {
   "cell_type": "code",
   "execution_count": null,
   "id": "e2feb3a8",
   "metadata": {},
   "outputs": [],
   "source": [
    "%pip install --upgrade pandas "
   ]
  },
  {
   "cell_type": "code",
   "execution_count": null,
   "id": "019198ec",
   "metadata": {},
   "outputs": [],
   "source": [
    "%pip uninstall lxml --yes"
   ]
  },
  {
   "cell_type": "code",
   "execution_count": null,
   "id": "2ae87731",
   "metadata": {},
   "outputs": [],
   "source": [
    "%pip install lxml"
   ]
  },
  {
   "cell_type": "code",
   "execution_count": 8,
   "id": "327b9e16",
   "metadata": {
    "scrolled": true
   },
   "outputs": [
    {
     "data": {
      "text/html": [
       "<div>\n",
       "<style scoped>\n",
       "    .dataframe tbody tr th:only-of-type {\n",
       "        vertical-align: middle;\n",
       "    }\n",
       "\n",
       "    .dataframe tbody tr th {\n",
       "        vertical-align: top;\n",
       "    }\n",
       "\n",
       "    .dataframe thead tr th {\n",
       "        text-align: left;\n",
       "    }\n",
       "</style>\n",
       "<table border=\"1\" class=\"dataframe\">\n",
       "  <thead>\n",
       "    <tr>\n",
       "      <th></th>\n",
       "      <th>Team</th>\n",
       "      <th colspan=\"5\" halign=\"left\">Summer Olympic Games</th>\n",
       "      <th colspan=\"5\" halign=\"left\">Winter Olympic Games</th>\n",
       "      <th colspan=\"5\" halign=\"left\">Combined total</th>\n",
       "    </tr>\n",
       "    <tr>\n",
       "      <th></th>\n",
       "      <th>Team (IOC code)</th>\n",
       "      <th>№</th>\n",
       "      <th>Unnamed: 2_level_1</th>\n",
       "      <th>Unnamed: 3_level_1</th>\n",
       "      <th>Unnamed: 4_level_1</th>\n",
       "      <th>Total</th>\n",
       "      <th>№</th>\n",
       "      <th>Unnamed: 7_level_1</th>\n",
       "      <th>Unnamed: 8_level_1</th>\n",
       "      <th>Unnamed: 9_level_1</th>\n",
       "      <th>Total</th>\n",
       "      <th>№</th>\n",
       "      <th>Unnamed: 12_level_1</th>\n",
       "      <th>Unnamed: 13_level_1</th>\n",
       "      <th>Unnamed: 14_level_1</th>\n",
       "      <th>Total</th>\n",
       "    </tr>\n",
       "  </thead>\n",
       "  <tbody>\n",
       "    <tr>\n",
       "      <th>0</th>\n",
       "      <td>Afghanistan (AFG)</td>\n",
       "      <td>15</td>\n",
       "      <td>0</td>\n",
       "      <td>0</td>\n",
       "      <td>2</td>\n",
       "      <td>2</td>\n",
       "      <td>0</td>\n",
       "      <td>0</td>\n",
       "      <td>0</td>\n",
       "      <td>0</td>\n",
       "      <td>0</td>\n",
       "      <td>15</td>\n",
       "      <td>0</td>\n",
       "      <td>0</td>\n",
       "      <td>2</td>\n",
       "      <td>2</td>\n",
       "    </tr>\n",
       "    <tr>\n",
       "      <th>1</th>\n",
       "      <td>Algeria (ALG)</td>\n",
       "      <td>14</td>\n",
       "      <td>5</td>\n",
       "      <td>4</td>\n",
       "      <td>8</td>\n",
       "      <td>17</td>\n",
       "      <td>3</td>\n",
       "      <td>0</td>\n",
       "      <td>0</td>\n",
       "      <td>0</td>\n",
       "      <td>0</td>\n",
       "      <td>17</td>\n",
       "      <td>5</td>\n",
       "      <td>4</td>\n",
       "      <td>8</td>\n",
       "      <td>17</td>\n",
       "    </tr>\n",
       "    <tr>\n",
       "      <th>2</th>\n",
       "      <td>Argentina (ARG)</td>\n",
       "      <td>25</td>\n",
       "      <td>21</td>\n",
       "      <td>26</td>\n",
       "      <td>30</td>\n",
       "      <td>77</td>\n",
       "      <td>19</td>\n",
       "      <td>0</td>\n",
       "      <td>0</td>\n",
       "      <td>0</td>\n",
       "      <td>0</td>\n",
       "      <td>44</td>\n",
       "      <td>21</td>\n",
       "      <td>26</td>\n",
       "      <td>30</td>\n",
       "      <td>77</td>\n",
       "    </tr>\n",
       "    <tr>\n",
       "      <th>3</th>\n",
       "      <td>Armenia (ARM)</td>\n",
       "      <td>7</td>\n",
       "      <td>2</td>\n",
       "      <td>8</td>\n",
       "      <td>8</td>\n",
       "      <td>18</td>\n",
       "      <td>7</td>\n",
       "      <td>0</td>\n",
       "      <td>0</td>\n",
       "      <td>0</td>\n",
       "      <td>0</td>\n",
       "      <td>14</td>\n",
       "      <td>2</td>\n",
       "      <td>8</td>\n",
       "      <td>8</td>\n",
       "      <td>18</td>\n",
       "    </tr>\n",
       "    <tr>\n",
       "      <th>4</th>\n",
       "      <td>Australasia (ANZ) [ANZ]</td>\n",
       "      <td>2</td>\n",
       "      <td>3</td>\n",
       "      <td>4</td>\n",
       "      <td>5</td>\n",
       "      <td>12</td>\n",
       "      <td>0</td>\n",
       "      <td>0</td>\n",
       "      <td>0</td>\n",
       "      <td>0</td>\n",
       "      <td>0</td>\n",
       "      <td>2</td>\n",
       "      <td>3</td>\n",
       "      <td>4</td>\n",
       "      <td>5</td>\n",
       "      <td>12</td>\n",
       "    </tr>\n",
       "    <tr>\n",
       "      <th>...</th>\n",
       "      <td>...</td>\n",
       "      <td>...</td>\n",
       "      <td>...</td>\n",
       "      <td>...</td>\n",
       "      <td>...</td>\n",
       "      <td>...</td>\n",
       "      <td>...</td>\n",
       "      <td>...</td>\n",
       "      <td>...</td>\n",
       "      <td>...</td>\n",
       "      <td>...</td>\n",
       "      <td>...</td>\n",
       "      <td>...</td>\n",
       "      <td>...</td>\n",
       "      <td>...</td>\n",
       "      <td>...</td>\n",
       "    </tr>\n",
       "    <tr>\n",
       "      <th>152</th>\n",
       "      <td>Zimbabwe (ZIM) [ZIM]</td>\n",
       "      <td>14</td>\n",
       "      <td>3</td>\n",
       "      <td>4</td>\n",
       "      <td>1</td>\n",
       "      <td>8</td>\n",
       "      <td>1</td>\n",
       "      <td>0</td>\n",
       "      <td>0</td>\n",
       "      <td>0</td>\n",
       "      <td>0</td>\n",
       "      <td>15</td>\n",
       "      <td>3</td>\n",
       "      <td>4</td>\n",
       "      <td>1</td>\n",
       "      <td>8</td>\n",
       "    </tr>\n",
       "    <tr>\n",
       "      <th>153</th>\n",
       "      <td>Independent Olympic Athletes (IOA) [IOA]</td>\n",
       "      <td>3</td>\n",
       "      <td>1</td>\n",
       "      <td>0</td>\n",
       "      <td>1</td>\n",
       "      <td>2</td>\n",
       "      <td>0</td>\n",
       "      <td>0</td>\n",
       "      <td>0</td>\n",
       "      <td>0</td>\n",
       "      <td>0</td>\n",
       "      <td>3</td>\n",
       "      <td>1</td>\n",
       "      <td>0</td>\n",
       "      <td>1</td>\n",
       "      <td>2</td>\n",
       "    </tr>\n",
       "    <tr>\n",
       "      <th>154</th>\n",
       "      <td>Independent Olympic Participants (IOP) [IOP]</td>\n",
       "      <td>1</td>\n",
       "      <td>0</td>\n",
       "      <td>1</td>\n",
       "      <td>2</td>\n",
       "      <td>3</td>\n",
       "      <td>0</td>\n",
       "      <td>0</td>\n",
       "      <td>0</td>\n",
       "      <td>0</td>\n",
       "      <td>0</td>\n",
       "      <td>1</td>\n",
       "      <td>0</td>\n",
       "      <td>1</td>\n",
       "      <td>2</td>\n",
       "      <td>3</td>\n",
       "    </tr>\n",
       "    <tr>\n",
       "      <th>155</th>\n",
       "      <td>Mixed team (ZZX) [ZZX]</td>\n",
       "      <td>3</td>\n",
       "      <td>11</td>\n",
       "      <td>6</td>\n",
       "      <td>8</td>\n",
       "      <td>25</td>\n",
       "      <td>0</td>\n",
       "      <td>0</td>\n",
       "      <td>0</td>\n",
       "      <td>0</td>\n",
       "      <td>0</td>\n",
       "      <td>3</td>\n",
       "      <td>11</td>\n",
       "      <td>6</td>\n",
       "      <td>8</td>\n",
       "      <td>25</td>\n",
       "    </tr>\n",
       "    <tr>\n",
       "      <th>156</th>\n",
       "      <td>Totals</td>\n",
       "      <td>32</td>\n",
       "      <td>5464</td>\n",
       "      <td>5427</td>\n",
       "      <td>5893</td>\n",
       "      <td>16784</td>\n",
       "      <td>23</td>\n",
       "      <td>1062</td>\n",
       "      <td>1059</td>\n",
       "      <td>1050</td>\n",
       "      <td>3171</td>\n",
       "      <td>55</td>\n",
       "      <td>6526</td>\n",
       "      <td>6486</td>\n",
       "      <td>6943</td>\n",
       "      <td>19955</td>\n",
       "    </tr>\n",
       "  </tbody>\n",
       "</table>\n",
       "<p>157 rows × 16 columns</p>\n",
       "</div>"
      ],
      "text/plain": [
       "                                             Team Summer Olympic Games  \\\n",
       "                                  Team (IOC code)                    №   \n",
       "0                               Afghanistan (AFG)                   15   \n",
       "1                                   Algeria (ALG)                   14   \n",
       "2                                 Argentina (ARG)                   25   \n",
       "3                                   Armenia (ARM)                    7   \n",
       "4                         Australasia (ANZ) [ANZ]                    2   \n",
       "..                                            ...                  ...   \n",
       "152                          Zimbabwe (ZIM) [ZIM]                   14   \n",
       "153      Independent Olympic Athletes (IOA) [IOA]                    3   \n",
       "154  Independent Olympic Participants (IOP) [IOP]                    1   \n",
       "155                        Mixed team (ZZX) [ZZX]                    3   \n",
       "156                                        Totals                   32   \n",
       "\n",
       "                                                                     \\\n",
       "    Unnamed: 2_level_1 Unnamed: 3_level_1 Unnamed: 4_level_1  Total   \n",
       "0                    0                  0                  2      2   \n",
       "1                    5                  4                  8     17   \n",
       "2                   21                 26                 30     77   \n",
       "3                    2                  8                  8     18   \n",
       "4                    3                  4                  5     12   \n",
       "..                 ...                ...                ...    ...   \n",
       "152                  3                  4                  1      8   \n",
       "153                  1                  0                  1      2   \n",
       "154                  0                  1                  2      3   \n",
       "155                 11                  6                  8     25   \n",
       "156               5464               5427               5893  16784   \n",
       "\n",
       "    Winter Olympic Games                                        \\\n",
       "                       № Unnamed: 7_level_1 Unnamed: 8_level_1   \n",
       "0                      0                  0                  0   \n",
       "1                      3                  0                  0   \n",
       "2                     19                  0                  0   \n",
       "3                      7                  0                  0   \n",
       "4                      0                  0                  0   \n",
       "..                   ...                ...                ...   \n",
       "152                    1                  0                  0   \n",
       "153                    0                  0                  0   \n",
       "154                    0                  0                  0   \n",
       "155                    0                  0                  0   \n",
       "156                   23               1062               1059   \n",
       "\n",
       "                             Combined total                      \\\n",
       "    Unnamed: 9_level_1 Total              № Unnamed: 12_level_1   \n",
       "0                    0     0             15                   0   \n",
       "1                    0     0             17                   5   \n",
       "2                    0     0             44                  21   \n",
       "3                    0     0             14                   2   \n",
       "4                    0     0              2                   3   \n",
       "..                 ...   ...            ...                 ...   \n",
       "152                  0     0             15                   3   \n",
       "153                  0     0              3                   1   \n",
       "154                  0     0              1                   0   \n",
       "155                  0     0              3                  11   \n",
       "156               1050  3171             55                6526   \n",
       "\n",
       "                                                    \n",
       "    Unnamed: 13_level_1 Unnamed: 14_level_1  Total  \n",
       "0                     0                   2      2  \n",
       "1                     4                   8     17  \n",
       "2                    26                  30     77  \n",
       "3                     8                   8     18  \n",
       "4                     4                   5     12  \n",
       "..                  ...                 ...    ...  \n",
       "152                   4                   1      8  \n",
       "153                   0                   1      2  \n",
       "154                   1                   2      3  \n",
       "155                   6                   8     25  \n",
       "156                6486                6943  19955  \n",
       "\n",
       "[157 rows x 16 columns]"
      ]
     },
     "execution_count": 8,
     "metadata": {},
     "output_type": "execute_result"
    }
   ],
   "source": [
    "import pandas as pd\n",
    "df = pd.read_html('https://en.wikipedia.org/wiki/All-time_Olympic_Games_medal_table')\n",
    "df[1]"
   ]
  },
  {
   "cell_type": "code",
   "execution_count": 12,
   "id": "c966c2be",
   "metadata": {},
   "outputs": [
    {
     "data": {
      "text/html": [
       "<div>\n",
       "<style scoped>\n",
       "    .dataframe tbody tr th:only-of-type {\n",
       "        vertical-align: middle;\n",
       "    }\n",
       "\n",
       "    .dataframe tbody tr th {\n",
       "        vertical-align: top;\n",
       "    }\n",
       "\n",
       "    .dataframe thead th {\n",
       "        text-align: right;\n",
       "    }\n",
       "</style>\n",
       "<table border=\"1\" class=\"dataframe\">\n",
       "  <thead>\n",
       "    <tr style=\"text-align: right;\">\n",
       "      <th></th>\n",
       "      <th>국가명</th>\n",
       "      <th>경기수</th>\n",
       "      <th>금</th>\n",
       "      <th>은</th>\n",
       "      <th>동</th>\n",
       "      <th>계</th>\n",
       "    </tr>\n",
       "  </thead>\n",
       "  <tbody>\n",
       "    <tr>\n",
       "      <th>0</th>\n",
       "      <td>Afghanistan (AFG)</td>\n",
       "      <td>15</td>\n",
       "      <td>0</td>\n",
       "      <td>0</td>\n",
       "      <td>2</td>\n",
       "      <td>2</td>\n",
       "    </tr>\n",
       "    <tr>\n",
       "      <th>1</th>\n",
       "      <td>Algeria (ALG)</td>\n",
       "      <td>14</td>\n",
       "      <td>5</td>\n",
       "      <td>4</td>\n",
       "      <td>8</td>\n",
       "      <td>17</td>\n",
       "    </tr>\n",
       "    <tr>\n",
       "      <th>2</th>\n",
       "      <td>Argentina (ARG)</td>\n",
       "      <td>25</td>\n",
       "      <td>21</td>\n",
       "      <td>26</td>\n",
       "      <td>30</td>\n",
       "      <td>77</td>\n",
       "    </tr>\n",
       "    <tr>\n",
       "      <th>3</th>\n",
       "      <td>Armenia (ARM)</td>\n",
       "      <td>7</td>\n",
       "      <td>2</td>\n",
       "      <td>8</td>\n",
       "      <td>8</td>\n",
       "      <td>18</td>\n",
       "    </tr>\n",
       "    <tr>\n",
       "      <th>4</th>\n",
       "      <td>Australasia (ANZ) [ANZ]</td>\n",
       "      <td>2</td>\n",
       "      <td>3</td>\n",
       "      <td>4</td>\n",
       "      <td>5</td>\n",
       "      <td>12</td>\n",
       "    </tr>\n",
       "    <tr>\n",
       "      <th>...</th>\n",
       "      <td>...</td>\n",
       "      <td>...</td>\n",
       "      <td>...</td>\n",
       "      <td>...</td>\n",
       "      <td>...</td>\n",
       "      <td>...</td>\n",
       "    </tr>\n",
       "    <tr>\n",
       "      <th>152</th>\n",
       "      <td>Zimbabwe (ZIM) [ZIM]</td>\n",
       "      <td>14</td>\n",
       "      <td>3</td>\n",
       "      <td>4</td>\n",
       "      <td>1</td>\n",
       "      <td>8</td>\n",
       "    </tr>\n",
       "    <tr>\n",
       "      <th>153</th>\n",
       "      <td>Independent Olympic Athletes (IOA) [IOA]</td>\n",
       "      <td>3</td>\n",
       "      <td>1</td>\n",
       "      <td>0</td>\n",
       "      <td>1</td>\n",
       "      <td>2</td>\n",
       "    </tr>\n",
       "    <tr>\n",
       "      <th>154</th>\n",
       "      <td>Independent Olympic Participants (IOP) [IOP]</td>\n",
       "      <td>1</td>\n",
       "      <td>0</td>\n",
       "      <td>1</td>\n",
       "      <td>2</td>\n",
       "      <td>3</td>\n",
       "    </tr>\n",
       "    <tr>\n",
       "      <th>155</th>\n",
       "      <td>Mixed team (ZZX) [ZZX]</td>\n",
       "      <td>3</td>\n",
       "      <td>11</td>\n",
       "      <td>6</td>\n",
       "      <td>8</td>\n",
       "      <td>25</td>\n",
       "    </tr>\n",
       "    <tr>\n",
       "      <th>156</th>\n",
       "      <td>Totals</td>\n",
       "      <td>32</td>\n",
       "      <td>5464</td>\n",
       "      <td>5427</td>\n",
       "      <td>5893</td>\n",
       "      <td>16784</td>\n",
       "    </tr>\n",
       "  </tbody>\n",
       "</table>\n",
       "<p>157 rows × 6 columns</p>\n",
       "</div>"
      ],
      "text/plain": [
       "                                              국가명  경기수     금     은     동  \\\n",
       "0                               Afghanistan (AFG)   15     0     0     2   \n",
       "1                                   Algeria (ALG)   14     5     4     8   \n",
       "2                                 Argentina (ARG)   25    21    26    30   \n",
       "3                                   Armenia (ARM)    7     2     8     8   \n",
       "4                         Australasia (ANZ) [ANZ]    2     3     4     5   \n",
       "..                                            ...  ...   ...   ...   ...   \n",
       "152                          Zimbabwe (ZIM) [ZIM]   14     3     4     1   \n",
       "153      Independent Olympic Athletes (IOA) [IOA]    3     1     0     1   \n",
       "154  Independent Olympic Participants (IOP) [IOP]    1     0     1     2   \n",
       "155                        Mixed team (ZZX) [ZZX]    3    11     6     8   \n",
       "156                                        Totals   32  5464  5427  5893   \n",
       "\n",
       "         계  \n",
       "0        2  \n",
       "1       17  \n",
       "2       77  \n",
       "3       18  \n",
       "4       12  \n",
       "..     ...  \n",
       "152      8  \n",
       "153      2  \n",
       "154      3  \n",
       "155     25  \n",
       "156  16784  \n",
       "\n",
       "[157 rows x 6 columns]"
      ]
     },
     "execution_count": 12,
     "metadata": {},
     "output_type": "execute_result"
    }
   ],
   "source": [
    "import pandas as pd\n",
    "df = pd.read_html('https://en.wikipedia.org/wiki/All-time_Olympic_Games_medal_table')\n",
    "summer = df[1].iloc[:, :6]\n",
    "summer.columns = ['국가명', '경기수', '금', '은', '동', '계']\n",
    "summer"
   ]
  },
  {
   "cell_type": "code",
   "execution_count": 13,
   "id": "346ed0a8",
   "metadata": {},
   "outputs": [],
   "source": [
    "summer.to_excel('하계올림픽 메달.xlsx')"
   ]
  },
  {
   "cell_type": "code",
   "execution_count": 17,
   "id": "1bbb8d39",
   "metadata": {},
   "outputs": [
    {
     "name": "stdout",
     "output_type": "stream",
     "text": [
      "경기수    1\n",
      "금      2\n",
      "은      3\n",
      "동      4\n",
      "계      5\n",
      "dtype: int64\n",
      "     0\n",
      "경기수  1\n",
      "금    2\n",
      "은    3\n",
      "동    4\n",
      "계    5\n"
     ]
    }
   ],
   "source": [
    "num_ser = pd.Series([1,2,3,4,5], index = ['경기수', '금', '은', '동', '계'])\n",
    "num_df = pd.DataFrame([1,2,3,4,5], index = ['경기수', '금', '은', '동', '계'])\n",
    "print(num_ser)\n",
    "print(num_df)"
   ]
  },
  {
   "cell_type": "code",
   "execution_count": 24,
   "id": "f35f5ced",
   "metadata": {},
   "outputs": [
    {
     "name": "stdout",
     "output_type": "stream",
     "text": [
      "2022-01-06    1\n",
      "2022-01-07    2\n",
      "2022-01-08    3\n",
      "2022-01-09    4\n",
      "2022-01-10    5\n",
      "Freq: D, dtype: int64\n"
     ]
    }
   ],
   "source": [
    "dates = pd.date_range('20220106', periods = 5)\n",
    "num_ser = pd.Series([1,2,3,4,5], index = dates)\n",
    "print(num_ser)"
   ]
  },
  {
   "cell_type": "code",
   "execution_count": 48,
   "id": "01d279a4",
   "metadata": {},
   "outputs": [
    {
     "name": "stdout",
     "output_type": "stream",
     "text": [
      "DatetimeIndex(['2022-01-06', '2022-01-07', '2022-01-08', '2022-01-09',\n",
      "               '2022-01-10', '2022-01-11', '2022-01-12', '2022-01-13'],\n",
      "              dtype='datetime64[ns]', freq='D')\n"
     ]
    }
   ],
   "source": [
    "dates = pd.date_range('20220106', periods = 8)\n",
    "print(dates)"
   ]
  },
  {
   "cell_type": "code",
   "execution_count": 61,
   "id": "712537df",
   "metadata": {},
   "outputs": [
    {
     "name": "stdout",
     "output_type": "stream",
     "text": [
      "                   A         B         C\n",
      "2022-01-06  0.696469  0.286139  0.226851\n",
      "2022-01-07  0.551315  0.719469  0.423106\n",
      "2022-01-08  0.980764  0.684830  0.480932\n",
      "2022-01-09  0.392118  0.343178  0.729050\n",
      "2022-01-10  0.438572  0.059678  0.398044\n",
      "2022-01-11  0.737995  0.182492  0.175452\n",
      "2022-01-12  0.531551  0.531828  0.634401\n",
      "2022-01-13  0.849432  0.724455  0.611024\n"
     ]
    }
   ],
   "source": [
    "import numpy as np\n",
    "np.random.seed(123)\n",
    "df = pd.DataFrame(np.random.rand(8,3), index = dates, columns = list('ABC'))\n",
    "print(df)"
   ]
  },
  {
   "cell_type": "code",
   "execution_count": 39,
   "id": "416164be",
   "metadata": {},
   "outputs": [
    {
     "name": "stdout",
     "output_type": "stream",
     "text": [
      "2022-01-06    0.961248\n",
      "2022-01-07    0.018393\n",
      "2022-01-08    0.790136\n",
      "2022-01-09    0.152519\n",
      "2022-01-10    0.504238\n",
      "2022-01-11    0.742573\n",
      "2022-01-12    0.820227\n",
      "2022-01-13    0.854337\n",
      "Freq: D, Name: B, dtype: float64\n"
     ]
    }
   ],
   "source": [
    "print(df['B'])"
   ]
  },
  {
   "cell_type": "code",
   "execution_count": 40,
   "id": "249e13bb",
   "metadata": {},
   "outputs": [
    {
     "name": "stdout",
     "output_type": "stream",
     "text": [
      "2022-01-06    0.961248\n",
      "2022-01-07    0.018393\n",
      "2022-01-08    0.790136\n",
      "2022-01-09    0.152519\n",
      "2022-01-10    0.504238\n",
      "2022-01-11    0.742573\n",
      "2022-01-12    0.820227\n",
      "2022-01-13    0.854337\n",
      "Freq: D, Name: B, dtype: float64\n"
     ]
    }
   ],
   "source": [
    "print(df.loc[:, 'B'])"
   ]
  },
  {
   "cell_type": "code",
   "execution_count": 41,
   "id": "4701d1cb",
   "metadata": {},
   "outputs": [
    {
     "name": "stdout",
     "output_type": "stream",
     "text": [
      "2022-01-06    0.961248\n",
      "2022-01-07    0.018393\n",
      "2022-01-08    0.790136\n",
      "2022-01-09    0.152519\n",
      "2022-01-10    0.504238\n",
      "2022-01-11    0.742573\n",
      "2022-01-12    0.820227\n",
      "2022-01-13    0.854337\n",
      "Freq: D, Name: B, dtype: float64\n"
     ]
    }
   ],
   "source": [
    "print(df.iloc[:, 1])"
   ]
  },
  {
   "cell_type": "code",
   "execution_count": 42,
   "id": "ad151a3a",
   "metadata": {},
   "outputs": [
    {
     "name": "stdout",
     "output_type": "stream",
     "text": [
      "                   A         B         C          D\n",
      "2022-01-06  0.280249  0.961248  0.352439   0.291547\n",
      "2022-01-07  0.573428  0.018393  0.494531  31.176017\n",
      "2022-01-08  0.786383  0.790136  0.712247   0.995249\n",
      "2022-01-09  0.040404  0.152519  0.463800   0.264909\n",
      "2022-01-10  0.696199  0.504238  0.690261   1.380697\n",
      "2022-01-11  0.450661  0.742573  0.490159   0.606891\n",
      "2022-01-12  0.824530  0.820227  0.468231   1.005246\n",
      "2022-01-13  0.346664  0.854337  0.890578   0.405769\n"
     ]
    }
   ],
   "source": [
    "df['D'] = df['A'] / df['B']\n",
    "print(df)"
   ]
  },
  {
   "cell_type": "code",
   "execution_count": 65,
   "id": "4f497959",
   "metadata": {},
   "outputs": [],
   "source": [
    "from jupyterthemes import jtplot\n",
    "jtplot.style(theme = 'monokai')\n",
    "from matplotlib import rc\n",
    "rc('font', family='AppleGothic')\n",
    "plt.rcParams['axes.unicode_minus'] = False"
   ]
  },
  {
   "cell_type": "code",
   "execution_count": 68,
   "id": "45202de1",
   "metadata": {},
   "outputs": [
    {
     "name": "stdout",
     "output_type": "stream",
     "text": [
      "2022-01-06    100\n",
      "2022-01-07     50\n",
      "2022-01-08    300\n",
      "2022-01-09    200\n",
      "2022-01-10    500\n",
      "Freq: D, dtype: int64\n"
     ]
    },
    {
     "data": {
      "image/png": "[encoded data removed]",
      "text/plain": [
       "<Figure size 460.8x403.2 with 1 Axes>"
      ]
     },
     "metadata": {},
     "output_type": "display_data"
    }
   ],
   "source": [
    "import matplotlib.pyplot as plt\n",
    "dates = pd.date_range('20220106', periods = 5)\n",
    "num_ser = pd.Series([100,50,300,200,500], index = dates)\n",
    "print(num_ser)\n",
    "\n",
    "plt.plot(num_ser)\n",
    "plt.xticks(rotation = 90)\n",
    "plt.show()"
   ]
  },
  {
   "cell_type": "code",
   "execution_count": 70,
   "id": "ecce3aa7",
   "metadata": {},
   "outputs": [
    {
     "data": {
      "image/png": "[encoded data removed]",
      "text/plain": [
       "<Figure size 460.8x403.2 with 1 Axes>"
      ]
     },
     "metadata": {},
     "output_type": "display_data"
    }
   ],
   "source": [
    "plt.bar(dates, num_ser)\n",
    "plt.xticks(rotation = 90)\n",
    "plt.show()"
   ]
  },
  {
   "cell_type": "code",
   "execution_count": 78,
   "id": "2525a72e",
   "metadata": {},
   "outputs": [
    {
     "name": "stdout",
     "output_type": "stream",
     "text": [
      "   col1  col2\n",
      "0     9     2\n",
      "1     7     4\n",
      "2     5     6\n",
      "3     3     8\n",
      "4     1    10\n"
     ]
    },
    {
     "data": {
      "image/png": "[encoded data removed]",
      "text/plain": [
       "<Figure size 460.8x403.2 with 1 Axes>"
      ]
     },
     "metadata": {},
     "output_type": "display_data"
    }
   ],
   "source": [
    "num_df = pd.DataFrame({'col1' : [9,7,5,3,1], 'col2' : [2,4,6,8,10]})\n",
    "print(num_df)\n",
    "\n",
    "num_df.plot()\n",
    "plt.show()"
   ]
  },
  {
   "cell_type": "code",
   "execution_count": 131,
   "id": "1fed70cc",
   "metadata": {},
   "outputs": [
    {
     "name": "stdout",
     "output_type": "stream",
     "text": [
      "   col1  col2\n",
      "0    10     2\n",
      "1     8     4\n",
      "2     6     6\n",
      "3     4     8\n",
      "4     2    10\n"
     ]
    },
    {
     "data": {
      "image/png": "[encoded data removed]",
      "text/plain": [
       "<Figure size 460.8x403.2 with 1 Axes>"
      ]
     },
     "metadata": {},
     "output_type": "display_data"
    }
   ],
   "source": [
    "num_df = pd.DataFrame({'col1' : range(10, 0, -2), 'col2' : [2,4,6,8,10]})\n",
    "print(num_df)\n",
    "\n",
    "num_df.plot(kind = 'bar', stacked = True)\n",
    "plt.show()"
   ]
  },
  {
   "cell_type": "code",
   "execution_count": 93,
   "id": "a8fa8ab5",
   "metadata": {},
   "outputs": [
    {
     "data": {
      "text/html": [
       "<div>\n",
       "<style scoped>\n",
       "    .dataframe tbody tr th:only-of-type {\n",
       "        vertical-align: middle;\n",
       "    }\n",
       "\n",
       "    .dataframe tbody tr th {\n",
       "        vertical-align: top;\n",
       "    }\n",
       "\n",
       "    .dataframe thead th {\n",
       "        text-align: right;\n",
       "    }\n",
       "</style>\n",
       "<table border=\"1\" class=\"dataframe\">\n",
       "  <thead>\n",
       "    <tr style=\"text-align: right;\">\n",
       "      <th></th>\n",
       "      <th>PassengerId</th>\n",
       "      <th>Survived</th>\n",
       "      <th>Pclass</th>\n",
       "      <th>Name</th>\n",
       "      <th>Sex</th>\n",
       "      <th>Age</th>\n",
       "      <th>SibSp</th>\n",
       "      <th>Parch</th>\n",
       "      <th>Ticket</th>\n",
       "      <th>Fare</th>\n",
       "      <th>Cabin</th>\n",
       "      <th>Embarked</th>\n",
       "    </tr>\n",
       "  </thead>\n",
       "  <tbody>\n",
       "    <tr>\n",
       "      <th>0</th>\n",
       "      <td>1</td>\n",
       "      <td>0</td>\n",
       "      <td>3</td>\n",
       "      <td>Braund, Mr. Owen Harris</td>\n",
       "      <td>male</td>\n",
       "      <td>22.0</td>\n",
       "      <td>1</td>\n",
       "      <td>0</td>\n",
       "      <td>A/5 21171</td>\n",
       "      <td>7.2500</td>\n",
       "      <td>NaN</td>\n",
       "      <td>S</td>\n",
       "    </tr>\n",
       "    <tr>\n",
       "      <th>1</th>\n",
       "      <td>2</td>\n",
       "      <td>1</td>\n",
       "      <td>1</td>\n",
       "      <td>Cumings, Mrs. John Bradley (Florence Briggs Th...</td>\n",
       "      <td>female</td>\n",
       "      <td>38.0</td>\n",
       "      <td>1</td>\n",
       "      <td>0</td>\n",
       "      <td>PC 17599</td>\n",
       "      <td>71.2833</td>\n",
       "      <td>C85</td>\n",
       "      <td>C</td>\n",
       "    </tr>\n",
       "    <tr>\n",
       "      <th>2</th>\n",
       "      <td>3</td>\n",
       "      <td>1</td>\n",
       "      <td>3</td>\n",
       "      <td>Heikkinen, Miss. Laina</td>\n",
       "      <td>female</td>\n",
       "      <td>26.0</td>\n",
       "      <td>0</td>\n",
       "      <td>0</td>\n",
       "      <td>STON/O2. 3101282</td>\n",
       "      <td>7.9250</td>\n",
       "      <td>NaN</td>\n",
       "      <td>S</td>\n",
       "    </tr>\n",
       "    <tr>\n",
       "      <th>3</th>\n",
       "      <td>4</td>\n",
       "      <td>1</td>\n",
       "      <td>1</td>\n",
       "      <td>Futrelle, Mrs. Jacques Heath (Lily May Peel)</td>\n",
       "      <td>female</td>\n",
       "      <td>35.0</td>\n",
       "      <td>1</td>\n",
       "      <td>0</td>\n",
       "      <td>113803</td>\n",
       "      <td>53.1000</td>\n",
       "      <td>C123</td>\n",
       "      <td>S</td>\n",
       "    </tr>\n",
       "    <tr>\n",
       "      <th>4</th>\n",
       "      <td>5</td>\n",
       "      <td>0</td>\n",
       "      <td>3</td>\n",
       "      <td>Allen, Mr. William Henry</td>\n",
       "      <td>male</td>\n",
       "      <td>35.0</td>\n",
       "      <td>0</td>\n",
       "      <td>0</td>\n",
       "      <td>373450</td>\n",
       "      <td>8.0500</td>\n",
       "      <td>NaN</td>\n",
       "      <td>S</td>\n",
       "    </tr>\n",
       "  </tbody>\n",
       "</table>\n",
       "</div>"
      ],
      "text/plain": [
       "   PassengerId  Survived  Pclass  \\\n",
       "0            1         0       3   \n",
       "1            2         1       1   \n",
       "2            3         1       3   \n",
       "3            4         1       1   \n",
       "4            5         0       3   \n",
       "\n",
       "                                                Name     Sex   Age  SibSp  \\\n",
       "0                            Braund, Mr. Owen Harris    male  22.0      1   \n",
       "1  Cumings, Mrs. John Bradley (Florence Briggs Th...  female  38.0      1   \n",
       "2                             Heikkinen, Miss. Laina  female  26.0      0   \n",
       "3       Futrelle, Mrs. Jacques Heath (Lily May Peel)  female  35.0      1   \n",
       "4                           Allen, Mr. William Henry    male  35.0      0   \n",
       "\n",
       "   Parch            Ticket     Fare Cabin Embarked  \n",
       "0      0         A/5 21171   7.2500   NaN        S  \n",
       "1      0          PC 17599  71.2833   C85        C  \n",
       "2      0  STON/O2. 3101282   7.9250   NaN        S  \n",
       "3      0            113803  53.1000  C123        S  \n",
       "4      0            373450   8.0500   NaN        S  "
      ]
     },
     "execution_count": 93,
     "metadata": {},
     "output_type": "execute_result"
    }
   ],
   "source": [
    "t_df = pd.read_csv('lab04_titanic/train.csv')\n",
    "t_df.head()"
   ]
  },
  {
   "cell_type": "code",
   "execution_count": 96,
   "id": "6709b7a5",
   "metadata": {},
   "outputs": [
    {
     "name": "stdout",
     "output_type": "stream",
     "text": [
      "<class 'pandas.core.frame.DataFrame'>\n",
      "RangeIndex: 891 entries, 0 to 890\n",
      "Data columns (total 12 columns):\n",
      " #   Column       Non-Null Count  Dtype  \n",
      "---  ------       --------------  -----  \n",
      " 0   PassengerId  891 non-null    int64  \n",
      " 1   Survived     891 non-null    int64  \n",
      " 2   Pclass       891 non-null    int64  \n",
      " 3   Name         891 non-null    object \n",
      " 4   Sex          891 non-null    object \n",
      " 5   Age          714 non-null    float64\n",
      " 6   SibSp        891 non-null    int64  \n",
      " 7   Parch        891 non-null    int64  \n",
      " 8   Ticket       891 non-null    object \n",
      " 9   Fare         891 non-null    float64\n",
      " 10  Cabin        204 non-null    object \n",
      " 11  Embarked     889 non-null    object \n",
      "dtypes: float64(2), int64(5), object(5)\n",
      "memory usage: 83.7+ KB\n",
      "None\n"
     ]
    }
   ],
   "source": [
    "print(t_df.info())"
   ]
  },
  {
   "cell_type": "code",
   "execution_count": 107,
   "id": "181ffba9",
   "metadata": {},
   "outputs": [
    {
     "name": "stdout",
     "output_type": "stream",
     "text": [
      "342\n"
     ]
    },
    {
     "data": {
      "text/html": [
       "<div>\n",
       "<style scoped>\n",
       "    .dataframe tbody tr th:only-of-type {\n",
       "        vertical-align: middle;\n",
       "    }\n",
       "\n",
       "    .dataframe tbody tr th {\n",
       "        vertical-align: top;\n",
       "    }\n",
       "\n",
       "    .dataframe thead th {\n",
       "        text-align: right;\n",
       "    }\n",
       "</style>\n",
       "<table border=\"1\" class=\"dataframe\">\n",
       "  <thead>\n",
       "    <tr style=\"text-align: right;\">\n",
       "      <th></th>\n",
       "      <th>PassengerId</th>\n",
       "      <th>Survived</th>\n",
       "      <th>Pclass</th>\n",
       "      <th>Name</th>\n",
       "      <th>Sex</th>\n",
       "      <th>Age</th>\n",
       "      <th>SibSp</th>\n",
       "      <th>Parch</th>\n",
       "      <th>Ticket</th>\n",
       "      <th>Fare</th>\n",
       "      <th>Cabin</th>\n",
       "      <th>Embarked</th>\n",
       "    </tr>\n",
       "  </thead>\n",
       "  <tbody>\n",
       "    <tr>\n",
       "      <th>1</th>\n",
       "      <td>2</td>\n",
       "      <td>1</td>\n",
       "      <td>1</td>\n",
       "      <td>Cumings, Mrs. John Bradley (Florence Briggs Th...</td>\n",
       "      <td>female</td>\n",
       "      <td>38.0</td>\n",
       "      <td>1</td>\n",
       "      <td>0</td>\n",
       "      <td>PC 17599</td>\n",
       "      <td>71.2833</td>\n",
       "      <td>C85</td>\n",
       "      <td>C</td>\n",
       "    </tr>\n",
       "    <tr>\n",
       "      <th>2</th>\n",
       "      <td>3</td>\n",
       "      <td>1</td>\n",
       "      <td>3</td>\n",
       "      <td>Heikkinen, Miss. Laina</td>\n",
       "      <td>female</td>\n",
       "      <td>26.0</td>\n",
       "      <td>0</td>\n",
       "      <td>0</td>\n",
       "      <td>STON/O2. 3101282</td>\n",
       "      <td>7.9250</td>\n",
       "      <td>NaN</td>\n",
       "      <td>S</td>\n",
       "    </tr>\n",
       "    <tr>\n",
       "      <th>3</th>\n",
       "      <td>4</td>\n",
       "      <td>1</td>\n",
       "      <td>1</td>\n",
       "      <td>Futrelle, Mrs. Jacques Heath (Lily May Peel)</td>\n",
       "      <td>female</td>\n",
       "      <td>35.0</td>\n",
       "      <td>1</td>\n",
       "      <td>0</td>\n",
       "      <td>113803</td>\n",
       "      <td>53.1000</td>\n",
       "      <td>C123</td>\n",
       "      <td>S</td>\n",
       "    </tr>\n",
       "    <tr>\n",
       "      <th>8</th>\n",
       "      <td>9</td>\n",
       "      <td>1</td>\n",
       "      <td>3</td>\n",
       "      <td>Johnson, Mrs. Oscar W (Elisabeth Vilhelmina Berg)</td>\n",
       "      <td>female</td>\n",
       "      <td>27.0</td>\n",
       "      <td>0</td>\n",
       "      <td>2</td>\n",
       "      <td>347742</td>\n",
       "      <td>11.1333</td>\n",
       "      <td>NaN</td>\n",
       "      <td>S</td>\n",
       "    </tr>\n",
       "    <tr>\n",
       "      <th>9</th>\n",
       "      <td>10</td>\n",
       "      <td>1</td>\n",
       "      <td>2</td>\n",
       "      <td>Nasser, Mrs. Nicholas (Adele Achem)</td>\n",
       "      <td>female</td>\n",
       "      <td>14.0</td>\n",
       "      <td>1</td>\n",
       "      <td>0</td>\n",
       "      <td>237736</td>\n",
       "      <td>30.0708</td>\n",
       "      <td>NaN</td>\n",
       "      <td>C</td>\n",
       "    </tr>\n",
       "  </tbody>\n",
       "</table>\n",
       "</div>"
      ],
      "text/plain": [
       "   PassengerId  Survived  Pclass  \\\n",
       "1            2         1       1   \n",
       "2            3         1       3   \n",
       "3            4         1       1   \n",
       "8            9         1       3   \n",
       "9           10         1       2   \n",
       "\n",
       "                                                Name     Sex   Age  SibSp  \\\n",
       "1  Cumings, Mrs. John Bradley (Florence Briggs Th...  female  38.0      1   \n",
       "2                             Heikkinen, Miss. Laina  female  26.0      0   \n",
       "3       Futrelle, Mrs. Jacques Heath (Lily May Peel)  female  35.0      1   \n",
       "8  Johnson, Mrs. Oscar W (Elisabeth Vilhelmina Berg)  female  27.0      0   \n",
       "9                Nasser, Mrs. Nicholas (Adele Achem)  female  14.0      1   \n",
       "\n",
       "   Parch            Ticket     Fare Cabin Embarked  \n",
       "1      0          PC 17599  71.2833   C85        C  \n",
       "2      0  STON/O2. 3101282   7.9250   NaN        S  \n",
       "3      0            113803  53.1000  C123        S  \n",
       "8      2            347742  11.1333   NaN        S  \n",
       "9      0            237736  30.0708   NaN        C  "
      ]
     },
     "execution_count": 107,
     "metadata": {},
     "output_type": "execute_result"
    }
   ],
   "source": [
    "alive = t_df[t_df['Survived'] == 1]\n",
    "dead = t_df[t_df['Survived'] == 0]\n",
    "print(len(alive))\n",
    "alive.head()"
   ]
  },
  {
   "cell_type": "code",
   "execution_count": 106,
   "id": "80f40b88",
   "metadata": {},
   "outputs": [
    {
     "name": "stdout",
     "output_type": "stream",
     "text": [
      "549\n"
     ]
    },
    {
     "data": {
      "text/html": [
       "<div>\n",
       "<style scoped>\n",
       "    .dataframe tbody tr th:only-of-type {\n",
       "        vertical-align: middle;\n",
       "    }\n",
       "\n",
       "    .dataframe tbody tr th {\n",
       "        vertical-align: top;\n",
       "    }\n",
       "\n",
       "    .dataframe thead th {\n",
       "        text-align: right;\n",
       "    }\n",
       "</style>\n",
       "<table border=\"1\" class=\"dataframe\">\n",
       "  <thead>\n",
       "    <tr style=\"text-align: right;\">\n",
       "      <th></th>\n",
       "      <th>PassengerId</th>\n",
       "      <th>Survived</th>\n",
       "      <th>Pclass</th>\n",
       "      <th>Name</th>\n",
       "      <th>Sex</th>\n",
       "      <th>Age</th>\n",
       "      <th>SibSp</th>\n",
       "      <th>Parch</th>\n",
       "      <th>Ticket</th>\n",
       "      <th>Fare</th>\n",
       "      <th>Cabin</th>\n",
       "      <th>Embarked</th>\n",
       "    </tr>\n",
       "  </thead>\n",
       "  <tbody>\n",
       "    <tr>\n",
       "      <th>0</th>\n",
       "      <td>1</td>\n",
       "      <td>0</td>\n",
       "      <td>3</td>\n",
       "      <td>Braund, Mr. Owen Harris</td>\n",
       "      <td>male</td>\n",
       "      <td>22.0</td>\n",
       "      <td>1</td>\n",
       "      <td>0</td>\n",
       "      <td>A/5 21171</td>\n",
       "      <td>7.2500</td>\n",
       "      <td>NaN</td>\n",
       "      <td>S</td>\n",
       "    </tr>\n",
       "    <tr>\n",
       "      <th>4</th>\n",
       "      <td>5</td>\n",
       "      <td>0</td>\n",
       "      <td>3</td>\n",
       "      <td>Allen, Mr. William Henry</td>\n",
       "      <td>male</td>\n",
       "      <td>35.0</td>\n",
       "      <td>0</td>\n",
       "      <td>0</td>\n",
       "      <td>373450</td>\n",
       "      <td>8.0500</td>\n",
       "      <td>NaN</td>\n",
       "      <td>S</td>\n",
       "    </tr>\n",
       "    <tr>\n",
       "      <th>5</th>\n",
       "      <td>6</td>\n",
       "      <td>0</td>\n",
       "      <td>3</td>\n",
       "      <td>Moran, Mr. James</td>\n",
       "      <td>male</td>\n",
       "      <td>NaN</td>\n",
       "      <td>0</td>\n",
       "      <td>0</td>\n",
       "      <td>330877</td>\n",
       "      <td>8.4583</td>\n",
       "      <td>NaN</td>\n",
       "      <td>Q</td>\n",
       "    </tr>\n",
       "    <tr>\n",
       "      <th>6</th>\n",
       "      <td>7</td>\n",
       "      <td>0</td>\n",
       "      <td>1</td>\n",
       "      <td>McCarthy, Mr. Timothy J</td>\n",
       "      <td>male</td>\n",
       "      <td>54.0</td>\n",
       "      <td>0</td>\n",
       "      <td>0</td>\n",
       "      <td>17463</td>\n",
       "      <td>51.8625</td>\n",
       "      <td>E46</td>\n",
       "      <td>S</td>\n",
       "    </tr>\n",
       "    <tr>\n",
       "      <th>7</th>\n",
       "      <td>8</td>\n",
       "      <td>0</td>\n",
       "      <td>3</td>\n",
       "      <td>Palsson, Master. Gosta Leonard</td>\n",
       "      <td>male</td>\n",
       "      <td>2.0</td>\n",
       "      <td>3</td>\n",
       "      <td>1</td>\n",
       "      <td>349909</td>\n",
       "      <td>21.0750</td>\n",
       "      <td>NaN</td>\n",
       "      <td>S</td>\n",
       "    </tr>\n",
       "  </tbody>\n",
       "</table>\n",
       "</div>"
      ],
      "text/plain": [
       "   PassengerId  Survived  Pclass                            Name   Sex   Age  \\\n",
       "0            1         0       3         Braund, Mr. Owen Harris  male  22.0   \n",
       "4            5         0       3        Allen, Mr. William Henry  male  35.0   \n",
       "5            6         0       3                Moran, Mr. James  male   NaN   \n",
       "6            7         0       1         McCarthy, Mr. Timothy J  male  54.0   \n",
       "7            8         0       3  Palsson, Master. Gosta Leonard  male   2.0   \n",
       "\n",
       "   SibSp  Parch     Ticket     Fare Cabin Embarked  \n",
       "0      1      0  A/5 21171   7.2500   NaN        S  \n",
       "4      0      0     373450   8.0500   NaN        S  \n",
       "5      0      0     330877   8.4583   NaN        Q  \n",
       "6      0      0      17463  51.8625   E46        S  \n",
       "7      3      1     349909  21.0750   NaN        S  "
      ]
     },
     "execution_count": 106,
     "metadata": {},
     "output_type": "execute_result"
    }
   ],
   "source": [
    "print(len(dead))\n",
    "dead.head()\n"
   ]
  },
  {
   "cell_type": "code",
   "execution_count": 127,
   "id": "b6e370f2",
   "metadata": {},
   "outputs": [
    {
     "name": "stdout",
     "output_type": "stream",
     "text": [
      "0.6812865497076024\n",
      "0.31871345029239767\n"
     ]
    }
   ],
   "source": [
    "al_fe = (alive['Sex'] == 'female').sum() / len(alive)\n",
    "al_ma = (alive['Sex'] == 'male').sum() / len(alive)\n",
    "print(al_fe)\n",
    "print(al_ma)"
   ]
  },
  {
   "cell_type": "code",
   "execution_count": 126,
   "id": "389056e5",
   "metadata": {},
   "outputs": [
    {
     "name": "stdout",
     "output_type": "stream",
     "text": [
      "0.8524590163934426\n",
      "0.14754098360655737\n"
     ]
    }
   ],
   "source": [
    "de_ma = (dead['Sex'] == 'male').sum() / len(dead)\n",
    "de_fe = (dead['Sex'] == 'female').sum() / len(dead)\n",
    "print(de_ma)\n",
    "print(de_fe)"
   ]
  },
  {
   "cell_type": "code",
   "execution_count": 112,
   "id": "a95e614a",
   "metadata": {},
   "outputs": [
    {
     "data": {
      "image/png": "[encoded data removed]",
      "text/plain": [
       "<Figure size 460.8x403.2 with 1 Axes>"
      ]
     },
     "metadata": {},
     "output_type": "display_data"
    }
   ],
   "source": [
    "import matplotlib.pyplot as plt\n",
    "\n",
    "plt.bar(['alive', 'dead'], height = [len(alive), len(dead)])\n",
    "plt.show()"
   ]
  },
  {
   "cell_type": "code",
   "execution_count": 125,
   "id": "b1aca8b5",
   "metadata": {},
   "outputs": [
    {
     "data": {
      "image/png": "[encoded data removed]",
      "text/plain": [
       "<Figure size 460.8x403.2 with 1 Axes>"
      ]
     },
     "metadata": {},
     "output_type": "display_data"
    }
   ],
   "source": [
    "plt.title('타이타닉 사망자 중 남녀 비율')\n",
    "plt.pie([de_ma, de_fe], labels = ['male', 'female'], autopct = '%0.1f%%') \n",
    "plt.legend()\n",
    "plt.show()"
   ]
  },
  {
   "cell_type": "code",
   "execution_count": 129,
   "id": "ae757261",
   "metadata": {},
   "outputs": [
    {
     "data": {
      "image/png": "[encoded data removed]",
      "text/plain": [
       "<Figure size 460.8x403.2 with 1 Axes>"
      ]
     },
     "metadata": {},
     "output_type": "display_data"
    }
   ],
   "source": [
    "plt.title('타이타닉 생존자 중 남녀 비율')\n",
    "plt.pie([al_ma, al_fe], labels = ['male', 'female'], autopct = '%0.3f%%') \n",
    "plt.legend()\n",
    "plt.show()"
   ]
  },
  {
   "cell_type": "code",
   "execution_count": 132,
   "id": "0305c2f7",
   "metadata": {},
   "outputs": [
    {
     "data": {
      "text/plain": [
       "512.3292"
      ]
     },
     "execution_count": 132,
     "metadata": {},
     "output_type": "execute_result"
    }
   ],
   "source": [
    "alive['Fare'].max()"
   ]
  },
  {
   "cell_type": "code",
   "execution_count": 133,
   "id": "0e83df14",
   "metadata": {},
   "outputs": [
    {
     "data": {
      "text/plain": [
       "0.0"
      ]
     },
     "execution_count": 133,
     "metadata": {},
     "output_type": "execute_result"
    }
   ],
   "source": [
    "alive['Fare'].min()"
   ]
  },
  {
   "cell_type": "code",
   "execution_count": 171,
   "id": "72725ae8",
   "metadata": {},
   "outputs": [
    {
     "data": {
      "image/png": "[encoded data removed]",
      "text/plain": [
       "<Figure size 1440x360 with 2 Axes>"
      ]
     },
     "metadata": {},
     "output_type": "display_data"
    }
   ],
   "source": [
    "plt.figure(figsize = [20, 5])\n",
    "plt.subplot(1,2,1)\n",
    "plt.scatter(alive['PassengerId'], alive['Fare'], color = 'blue', alpha = 0.5)\n",
    "plt.ylim(10, 100)\n",
    "plt.subplot(1,2,2)\n",
    "plt.scatter(dead['PassengerId'], dead['Fare'], color = 'red', alpha = 0.5)\n",
    "plt.ylim(10, 100)\n",
    "\n",
    "\n",
    "plt.xlabel('PassengerId')\n",
    "plt.ylabel('Fare')\n",
    "plt.show()"
   ]
  },
  {
   "cell_type": "code",
   "execution_count": 166,
   "id": "5c9b7ffd",
   "metadata": {},
   "outputs": [
    {
     "data": {
      "image/png": "[encoded data removed]",
      "text/plain": [
       "<Figure size 1440x360 with 1 Axes>"
      ]
     },
     "metadata": {},
     "output_type": "display_data"
    }
   ],
   "source": [
    "plt.figure(figsize = [20, 5])\n",
    "plt.scatter(alive['PassengerId'], alive['Fare'], color = 'blue', alpha = 0.5)\n",
    "plt.scatter(dead['PassengerId'], dead['Fare'], color = 'red', alpha = 0.5)\n",
    "plt.xlabel('PassengerId')\n",
    "plt.ylabel('Fare')\n",
    "plt.ylim(10, 100)\n",
    "plt.show()"
   ]
  },
  {
   "cell_type": "code",
   "execution_count": 177,
   "id": "90a95ea3",
   "metadata": {},
   "outputs": [
    {
     "name": "stdout",
     "output_type": "stream",
     "text": [
      "18.07 %\n",
      "81.93 %\n"
     ]
    }
   ],
   "source": [
    "ov_50 = t_df[t_df['Fare'] >= 50]\n",
    "un_50 = t_df[t_df['Fare'] < 50]\n",
    "print(round(len(ov_50) / len(t_df) * 100, 2), '%')\n",
    "print(round(len(un_50) / len(t_df) * 100, 2), '%')"
   ]
  },
  {
   "cell_type": "code",
   "execution_count": 183,
   "id": "035e3d0f",
   "metadata": {},
   "outputs": [
    {
     "name": "stdout",
     "output_type": "stream",
     "text": [
      "50달러 이상 결제한 사람 중 생존자 비율 :  0.677\n",
      "50달러 미만 결제한 사람 중 생존자 비율 :  0.319\n"
     ]
    }
   ],
   "source": [
    "al_ov_50 = ov_50[ov_50['Survived'] == 1]\n",
    "al_un_50 = un_50[un_50['Survived'] == 1]\n",
    "print('50달러 이상 결제한 사람 중 생존자 비율 : ', round(len(al_ov_50) / len(ov_50) ,3))\n",
    "print('50달러 미만 결제한 사람 중 생존자 비율 : ', round(len(al_un_50) / len(un_50), 3))"
   ]
  },
  {
   "cell_type": "code",
   "execution_count": 184,
   "id": "277e552d",
   "metadata": {},
   "outputs": [
    {
     "data": {
      "text/plain": [
       "14.4542"
      ]
     },
     "execution_count": 184,
     "metadata": {},
     "output_type": "execute_result"
    }
   ],
   "source": [
    "t_df['Fare'].median()"
   ]
  },
  {
   "cell_type": "code",
   "execution_count": 185,
   "id": "19498582",
   "metadata": {},
   "outputs": [
    {
     "data": {
      "text/plain": [
       "32.204207968574636"
      ]
     },
     "execution_count": 185,
     "metadata": {},
     "output_type": "execute_result"
    }
   ],
   "source": [
    "t_df['Fare'].mean()"
   ]
  },
  {
   "cell_type": "code",
   "execution_count": null,
   "id": "9c8f0fe2",
   "metadata": {},
   "outputs": [],
   "source": []
  }
 ],
 "metadata": {
  "kernelspec": {
   "display_name": "Python 3 (ipykernel)",
   "language": "python",
   "name": "python3"
  },
  "language_info": {
   "codemirror_mode": {
    "name": "ipython",
    "version": 3
   },
   "file_extension": ".py",
   "mimetype": "text/x-python",
   "name": "python",
   "nbconvert_exporter": "python",
   "pygments_lexer": "ipython3",
   "version": "3.8.8"
  }
 },
 "nbformat": 4,
 "nbformat_minor": 5
}
