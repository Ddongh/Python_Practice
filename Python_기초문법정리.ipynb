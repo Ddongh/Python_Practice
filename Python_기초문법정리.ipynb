{
 "cells": [
  {
   "cell_type": "code",
   "execution_count": null,
   "id": "93f37171",
   "metadata": {},
   "outputs": [],
   "source": [
    "import os\n",
    "print(os.getcwd()) # 작업경로 확인\n",
    "os.chdir(\"/Users/parkdonghyeok/Desktop/Python\") # 작업경로 변경"
   ]
  },
  {
   "cell_type": "code",
   "execution_count": null,
   "id": "b6c6d8de",
   "metadata": {},
   "outputs": [],
   "source": [
    "a = 1\n",
    "print(a)\n",
    "del(a) # 변수 삭제\n",
    "print(a)"
   ]
  },
  {
   "cell_type": "code",
   "execution_count": null,
   "id": "c3f86d16",
   "metadata": {},
   "outputs": [],
   "source": [
    "%reset # 모든 변수 삭제"
   ]
  },
  {
   "cell_type": "code",
   "execution_count": null,
   "id": "27dccb0c",
   "metadata": {},
   "outputs": [],
   "source": [
    "%autosave 60 # 60초 마다 자동저장"
   ]
  },
  {
   "cell_type": "code",
   "execution_count": 49,
   "id": "7778a7d5",
   "metadata": {
    "scrolled": true
   },
   "outputs": [
    {
     "name": "stdout",
     "output_type": "stream",
     "text": [
      "Requirement already satisfied: pandas in /Users/parkdonghyeok/opt/anaconda3/lib/python3.8/site-packages (1.3.4)\n",
      "Requirement already satisfied: python-dateutil>=2.7.3 in /Users/parkdonghyeok/opt/anaconda3/lib/python3.8/site-packages (from pandas) (2.8.2)\n",
      "Requirement already satisfied: numpy>=1.17.3 in /Users/parkdonghyeok/opt/anaconda3/lib/python3.8/site-packages (from pandas) (1.21.3)\n",
      "Requirement already satisfied: pytz>=2017.3 in /Users/parkdonghyeok/opt/anaconda3/lib/python3.8/site-packages (from pandas) (2021.3)\n",
      "Requirement already satisfied: six>=1.5 in /Users/parkdonghyeok/opt/anaconda3/lib/python3.8/site-packages (from python-dateutil>=2.7.3->pandas) (1.16.0)\n",
      "Note: you may need to restart the kernel to use updated packages.\n"
     ]
    }
   ],
   "source": [
    "%pip install --user pandas #library 설치"
   ]
  },
  {
   "cell_type": "code",
   "execution_count": 6,
   "id": "4dc0353d",
   "metadata": {},
   "outputs": [
    {
     "name": "stdout",
     "output_type": "stream",
     "text": [
      "1.3.4\n"
     ]
    }
   ],
   "source": [
    "import pandas as pd\n",
    "print(pd.__version__)"
   ]
  },
  {
   "cell_type": "markdown",
   "id": "0b2fff1a",
   "metadata": {},
   "source": [
    "# 문자열"
   ]
  },
  {
   "cell_type": "code",
   "execution_count": null,
   "id": "b0b3d47b",
   "metadata": {},
   "outputs": [],
   "source": [
    "print(type(100)) # 자료 타입 확인\n",
    "print(type(\"Hello\"))\n",
    "print(type(3.14))"
   ]
  },
  {
   "cell_type": "code",
   "execution_count": null,
   "id": "1fdf4075",
   "metadata": {},
   "outputs": [],
   "source": [
    "width = 10  # print\n",
    "height = 20\n",
    "print('사각형의 넓이는 ', width * height, '이다')\n",
    "print('사각형의 넓이는 %d 이다' % (width * height))"
   ]
  },
  {
   "cell_type": "code",
   "execution_count": null,
   "id": "533e01cc",
   "metadata": {},
   "outputs": [],
   "source": [
    "import numpy as np\n",
    "radius = 5\n",
    "area = radius ** 2 * np.pi\n",
    "print('원의 넓이는', round(area, 2))"
   ]
  },
  {
   "cell_type": "code",
   "execution_count": null,
   "id": "d0fa8205",
   "metadata": {},
   "outputs": [],
   "source": [
    "print('A')\n",
    "print('B')\n",
    "print(ord('A')) # 문자의 아스키코드\n",
    "print(ord('B'))\n",
    "print(chr(65))  # 아스키코드에 해당하는 문자\n",
    "print(chr(66))\n",
    "print(chr(67))\n",
    "print(chr(68))"
   ]
  },
  {
   "cell_type": "code",
   "execution_count": null,
   "id": "81be3c3c",
   "metadata": {},
   "outputs": [],
   "source": [
    "print('개행문자 사용하지 않은 경우') # 개행문자\n",
    "print('죽는 날까지 하늘을 우러러 한 점 부끄럼 없기를 잎새에 이는 바람에도 나는 괴로웠다')\n",
    "print('개행문자 사용한 경우')\n",
    "print('죽는 날까지 하늘을 우러러 \\n한 점 부끄럼 없기를 \\n잎새에 이는 바람에도 나는 괴로웠다')"
   ]
  },
  {
   "cell_type": "code",
   "execution_count": null,
   "id": "b87fe335",
   "metadata": {},
   "outputs": [],
   "source": [
    "strVAL = 'I\\'m a boy' # 문자로써 '' 쓰기\n",
    "print(strVAL)"
   ]
  },
  {
   "cell_type": "code",
   "execution_count": null,
   "id": "16156bd4",
   "metadata": {},
   "outputs": [],
   "source": [
    "strVAL = input('') # 자료 입력(input) \n",
    "print(strVAL) # 문자형\n",
    "print(type(strVAL))"
   ]
  },
  {
   "cell_type": "code",
   "execution_count": null,
   "id": "3908e76e",
   "metadata": {},
   "outputs": [],
   "source": [
    "strVAL = int(input('')) # 자료 입력(input) \n",
    "print(strVAL) # 정수형\n",
    "print(type(strVAL))"
   ]
  },
  {
   "cell_type": "code",
   "execution_count": null,
   "id": "ca326466",
   "metadata": {},
   "outputs": [],
   "source": [
    "# ctrl + / : 주석으로 변경\n",
    "# code #\n",
    "'''code'''\n",
    "\"\"\"code\"\"\"\n",
    "\n",
    "# 주석 관련 파이썬 예제\n",
    "fruit1 = '수박'\n",
    "fruit2 = '포도'\n",
    "fruit3 = '키위'\n",
    "myfavorite = '' # 좋아하는 과일의 목록\n",
    "\n",
    "myfavorite += fruit1\n",
    "myfavorite += fruit2\n",
    "myfavorite += fruit3\n",
    "\n",
    "print(myfavorite)"
   ]
  },
  {
   "cell_type": "code",
   "execution_count": 1,
   "id": "0814873b",
   "metadata": {},
   "outputs": [
    {
     "name": "stdout",
     "output_type": "stream",
     "text": [
      "['hello', 'world']\n"
     ]
    }
   ],
   "source": [
    "s = 'hello world'\n",
    "print(s.split()) # split"
   ]
  },
  {
   "cell_type": "code",
   "execution_count": 15,
   "id": "5d978a2a",
   "metadata": {},
   "outputs": [
    {
     "name": "stdout",
     "output_type": "stream",
     "text": [
      "k : 10,000\n",
      "k.replace(\",\", \"\") : 10000\n"
     ]
    }
   ],
   "source": [
    "k = \"10,000\"\n",
    "print(\"k :\", k) # 특정 문자 제거 또는 변경\n",
    "print(\"k.replace(\\\",\\\", \\\"\\\") :\", k.replace(\",\", \"\"))"
   ]
  },
  {
   "cell_type": "markdown",
   "id": "fd43ae56",
   "metadata": {},
   "source": [
    "# 수학 연산자"
   ]
  },
  {
   "cell_type": "code",
   "execution_count": null,
   "id": "13f6cca2",
   "metadata": {},
   "outputs": [],
   "source": [
    "a = 5\n",
    "b = 3\n",
    "\n",
    "print(a + b)\n",
    "print(a / b)\n",
    "print(a // b)\n",
    "print(a % b)\n",
    "print(a * b)\n",
    "print(a ** b)\n"
   ]
  },
  {
   "cell_type": "code",
   "execution_count": null,
   "id": "5e1e49e2",
   "metadata": {},
   "outputs": [],
   "source": [
    "a = 5\n",
    "b = 3\n",
    "a += b\n",
    "print(a)\n",
    "\n",
    "a = 5\n",
    "b = 3\n",
    "a -= b\n",
    "print(a)\n",
    "\n",
    "a = 5\n",
    "b = 3\n",
    "a *= b\n",
    "print(a)\n",
    "\n",
    "a = 5\n",
    "b = 3\n",
    "a /= b\n",
    "print(a)\n",
    "\n",
    "a = 5\n",
    "b = 3\n",
    "a //= b\n",
    "print(a)\n",
    "\n",
    "a = 5\n",
    "b = 3\n",
    "a %= b\n",
    "print(a)\n",
    "\n",
    "a = 5\n",
    "b = 3\n",
    "a **= b\n",
    "print(a)"
   ]
  },
  {
   "cell_type": "markdown",
   "id": "cd5a284a",
   "metadata": {},
   "source": [
    "# 논리 연산자"
   ]
  },
  {
   "cell_type": "code",
   "execution_count": null,
   "id": "776ecc6f",
   "metadata": {},
   "outputs": [],
   "source": [
    "a = 10\n",
    "b = 11\n",
    "c = 12\n",
    "d = 10\n",
    "\n",
    "print('a == b : ', a == b)\n",
    "print('a < b : ', a < b)\n",
    "print('a >= c : ', a >= c)\n",
    "print('a == d : ', a == d)"
   ]
  },
  {
   "cell_type": "code",
   "execution_count": null,
   "id": "c2299cfb",
   "metadata": {},
   "outputs": [],
   "source": [
    "print('a == b : ', a == b)\n",
    "print('not(a == b) : ', not(a == b))\n",
    "print('(a == b) and (a == d) : ', (a == b) and (a == d))\n",
    "print('(a == b) or (a == d) : ', (a == b) or (a == d))"
   ]
  },
  {
   "cell_type": "code",
   "execution_count": 43,
   "id": "558af9d5",
   "metadata": {},
   "outputs": [
    {
     "name": "stdout",
     "output_type": "stream",
     "text": [
      "True\n",
      "False\n",
      "False\n"
     ]
    }
   ],
   "source": [
    "a = [1,2,3]\n",
    "print(1 in a)\n",
    "print(1 not in a)\n",
    "print(4 in a)"
   ]
  },
  {
   "cell_type": "code",
   "execution_count": 41,
   "id": "fa170f49",
   "metadata": {},
   "outputs": [
    {
     "name": "stdout",
     "output_type": "stream",
     "text": [
      "True\n",
      "False\n",
      "False\n"
     ]
    }
   ],
   "source": [
    "p = {'컵라면' : 800, '삼각김밥' : 1000, '소세지' : 1500}\n",
    "print('컵라면' in p) # 해당 key값이 딕셔너리에 있는가\n",
    "print('컵라면' not in p) # 해당 key값이 딕셔너리에 없는가\n",
    "print('치킨' in p) # 해당 key값이 딕셔너리에 있는가"
   ]
  },
  {
   "cell_type": "code",
   "execution_count": null,
   "id": "e3927a85",
   "metadata": {},
   "outputs": [],
   "source": []
  },
  {
   "cell_type": "code",
   "execution_count": null,
   "id": "6fcc5891",
   "metadata": {},
   "outputs": [],
   "source": [
    "a = ()"
   ]
  },
  {
   "cell_type": "markdown",
   "id": "591430d3",
   "metadata": {},
   "source": [
    "# If문"
   ]
  },
  {
   "cell_type": "code",
   "execution_count": null,
   "id": "c5604fc7",
   "metadata": {},
   "outputs": [],
   "source": [
    "a = int(input('정수 입력'))\n",
    "\n",
    "if (a < 0):\n",
    "    print('a는 0보다 작다.')\n",
    "elif (a > 0):\n",
    "    print('a는 0보다 크다.')\n",
    "else:\n",
    "    print('a는 0이다')\n",
    "    "
   ]
  },
  {
   "cell_type": "markdown",
   "id": "b05603d6",
   "metadata": {},
   "source": [
    "# 반복문(for)"
   ]
  },
  {
   "cell_type": "code",
   "execution_count": null,
   "id": "922f7ffa",
   "metadata": {},
   "outputs": [],
   "source": [
    "for i in range(5):\n",
    "    print(i)"
   ]
  },
  {
   "cell_type": "code",
   "execution_count": null,
   "id": "93a2a068",
   "metadata": {},
   "outputs": [],
   "source": [
    "for i in range(5):\n",
    "    print(i, end = \"\") # 가로로 붙혀서 print"
   ]
  },
  {
   "cell_type": "code",
   "execution_count": null,
   "id": "62674682",
   "metadata": {},
   "outputs": [],
   "source": [
    "for i in range(2,5):\n",
    "    print(i)"
   ]
  },
  {
   "cell_type": "code",
   "execution_count": null,
   "id": "b99e7b5b",
   "metadata": {},
   "outputs": [],
   "source": [
    "i = float(i)\n",
    "for i in range(0, 20, 3):\n",
    "    print(i)"
   ]
  },
  {
   "cell_type": "markdown",
   "id": "3bd91702",
   "metadata": {},
   "source": [
    "# 반복문(while)"
   ]
  },
  {
   "cell_type": "code",
   "execution_count": null,
   "id": "619c2352",
   "metadata": {},
   "outputs": [],
   "source": [
    "i = 0\n",
    "while (i < 5):\n",
    "    print('Programming')\n",
    "    i += 1"
   ]
  },
  {
   "cell_type": "code",
   "execution_count": 6,
   "id": "befd790a",
   "metadata": {},
   "outputs": [
    {
     "name": "stdout",
     "output_type": "stream",
     "text": [
      "55\n"
     ]
    }
   ],
   "source": [
    "i = 1\n",
    "sum_ = 0\n",
    "while (i < 11):\n",
    "    sum_ += i\n",
    "    i += 1\n",
    "print(sum_)"
   ]
  },
  {
   "cell_type": "code",
   "execution_count": null,
   "id": "773229da",
   "metadata": {},
   "outputs": [],
   "source": [
    "j = 2\n",
    "while (j < 10):\n",
    "    i = 1\n",
    "    while (i < 10):\n",
    "        print('%d * %d = %d' %(j, i, j * i))\n",
    "        i += 1\n",
    "    print()\n",
    "    j += 1"
   ]
  },
  {
   "cell_type": "code",
   "execution_count": null,
   "id": "8e7384ef",
   "metadata": {},
   "outputs": [],
   "source": [
    "a = 0\n",
    "\n",
    "while (True):\n",
    "    if (a > 100):\n",
    "        break\n",
    "    print('a의 값은 %d' %(a))\n",
    "    a += 1\n",
    "print('a는 100 보다 크다.')"
   ]
  },
  {
   "cell_type": "code",
   "execution_count": null,
   "id": "3cd87997",
   "metadata": {},
   "outputs": [],
   "source": [
    "a = 0\n",
    "\n",
    "while (a < 20):\n",
    "    a += 1\n",
    "    if ((a > 8) and (a < 12)):\n",
    "        continue\n",
    "    print('a의 값은 : %d' %(a))"
   ]
  },
  {
   "cell_type": "markdown",
   "id": "3c4f0bb6",
   "metadata": {},
   "source": [
    "# 사용자 지정함수"
   ]
  },
  {
   "cell_type": "code",
   "execution_count": null,
   "id": "892f6640",
   "metadata": {},
   "outputs": [],
   "source": [
    "def plus(a, b):\n",
    "    return a + b\n",
    "def minus(a, b):\n",
    "    return a - b\n",
    "def multiple(a, b):\n",
    "    return a * b\n",
    "def devide(a, b):\n",
    "    return a / b\n",
    "\n",
    "i = int(input())\n",
    "j = int(input())\n",
    "print()\n",
    "print(plus(i, j))\n",
    "print(minus(i, j))\n",
    "print(multiple(i, j))\n",
    "print(devide(i, j))"
   ]
  },
  {
   "cell_type": "code",
   "execution_count": null,
   "id": "35704128",
   "metadata": {},
   "outputs": [],
   "source": [
    "def f():\n",
    "    a = input()\n",
    "    print(a)\n",
    "    f()\n",
    "f()"
   ]
  },
  {
   "cell_type": "markdown",
   "id": "d61b7759",
   "metadata": {},
   "source": [
    "# 스택 메모리"
   ]
  },
  {
   "cell_type": "code",
   "execution_count": 1,
   "id": "5bbed384",
   "metadata": {},
   "outputs": [
    {
     "name": "stdout",
     "output_type": "stream",
     "text": [
      "1. k() 함수를 호출하였습니다.\n",
      "2. lee = 10 변수를 메모리에 적재합니다.\n",
      "3. j() 함수를 호출하였습니다.\n",
      "4. lee = 20 변수를 메모리에 적재합니다.\n",
      "5. lee = 20 변수를 메로리에 소멸합니다.\n",
      "6. lee = 10변수를 메모리에서 소멸합니다.\n"
     ]
    }
   ],
   "source": [
    "def k():\n",
    "    print('2. lee = 10 변수를 메모리에 적재합니다.')\n",
    "    lee = 10\n",
    "    print('3. j() 함수를 호출하였습니다.')\n",
    "    j()\n",
    "    print('6. lee = 10변수를 메모리에서 소멸합니다.')\n",
    "    \n",
    "def j():\n",
    "    print('4. lee = 20 변수를 메모리에 적재합니다.')\n",
    "    lee = 20\n",
    "    print('5. lee = 20 변수를 메로리에 소멸합니다.')\n",
    "    \n",
    "print('1. k() 함수를 호출하였습니다.')\n",
    "k()"
   ]
  },
  {
   "cell_type": "markdown",
   "id": "ca3b8133",
   "metadata": {},
   "source": [
    "# 지역변수 / 전역변수"
   ]
  },
  {
   "cell_type": "code",
   "execution_count": 7,
   "id": "1927773f",
   "metadata": {},
   "outputs": [
    {
     "name": "stdout",
     "output_type": "stream",
     "text": [
      "h 출력 : 30\n",
      "h 출력 : 100\n"
     ]
    }
   ],
   "source": [
    "h = 100 # 전역변수\n",
    "\n",
    "def sum_(value):\n",
    "    h = 20 # 지역변수\n",
    "    h += value\n",
    "    print('h 출력 : %d' %(h))\n",
    "    \n",
    "sum_(10)\n",
    "print('h 출력 : %d' %(h))"
   ]
  },
  {
   "cell_type": "code",
   "execution_count": 8,
   "id": "fbcc8a1d",
   "metadata": {},
   "outputs": [
    {
     "name": "stdout",
     "output_type": "stream",
     "text": [
      "h 출력 : 110\n",
      "h 출력 : 110\n"
     ]
    }
   ],
   "source": [
    "h = 100\n",
    "\n",
    "def sum_(value):\n",
    "    global h # 전역변수 사용하기\n",
    "    h += value\n",
    "    print('h 출력 : %d' %(h))\n",
    "    \n",
    "sum_(10)\n",
    "print('h 출력 : %d' %(h))"
   ]
  },
  {
   "cell_type": "markdown",
   "id": "0950b098",
   "metadata": {},
   "source": [
    "# List"
   ]
  },
  {
   "cell_type": "code",
   "execution_count": null,
   "id": "fffb587a",
   "metadata": {},
   "outputs": [],
   "source": [
    "a = []\n",
    "a.append(1) # 리스트에 요소 추가(정수)\n",
    "print(a)\n",
    "a.append(2)\n",
    "print(a)"
   ]
  },
  {
   "cell_type": "code",
   "execution_count": null,
   "id": "453a6a7c",
   "metadata": {},
   "outputs": [],
   "source": [
    "a = []\n",
    "a.extend(\"1\") # 리스트에 요소 추가(문자)\n",
    "print(a)\n",
    "a.append(\"2\")\n",
    "print(a)"
   ]
  },
  {
   "cell_type": "code",
   "execution_count": 9,
   "id": "6b8f5b65",
   "metadata": {},
   "outputs": [
    {
     "name": "stdout",
     "output_type": "stream",
     "text": [
      "6\n"
     ]
    }
   ],
   "source": [
    "k = [1, 2, 3]\n",
    "sum_ = k[0] + k[1] + k[2]\n",
    "print(sum_)"
   ]
  },
  {
   "cell_type": "code",
   "execution_count": 10,
   "id": "b33ea722",
   "metadata": {},
   "outputs": [
    {
     "name": "stdout",
     "output_type": "stream",
     "text": [
      "55\n"
     ]
    }
   ],
   "source": [
    "k = [1, 2, 3, 4, 5, 6, 7, 8, 9, 10]\n",
    "sum_ = 0\n",
    "for i in range(10):\n",
    "    sum_ += k[i] \n",
    "print(sum_)"
   ]
  },
  {
   "cell_type": "code",
   "execution_count": null,
   "id": "66f201a5",
   "metadata": {},
   "outputs": [],
   "source": [
    "k = [1, 2, 3, 4, 5, 6, 7]\n",
    "print(k[0 : 2]) # 리스트 분할\n",
    "print(k[0 : 5])\n",
    "print(k[0 : 6])"
   ]
  },
  {
   "cell_type": "code",
   "execution_count": 12,
   "id": "9a1300ae",
   "metadata": {},
   "outputs": [
    {
     "name": "stdout",
     "output_type": "stream",
     "text": [
      "[10, 20, 30, 40, 50, 60]\n",
      "[10, 20, 30, 10, 20, 30, 10, 20, 30]\n"
     ]
    }
   ],
   "source": [
    "k = [10, 20, 30] # 리스트 연산\n",
    "t = [40, 50, 60]\n",
    "\n",
    "print(k + t)\n",
    "print(k * 3)"
   ]
  },
  {
   "cell_type": "code",
   "execution_count": 13,
   "id": "3f7a4fea",
   "metadata": {},
   "outputs": [
    {
     "name": "stdout",
     "output_type": "stream",
     "text": [
      "[10, 2, 30, 4]\n"
     ]
    }
   ],
   "source": [
    "k = [1, 2, 3, 4]\n",
    "k[0] = 10 # 리스트 요소 변경\n",
    "k[2] = 30\n",
    "print(k)"
   ]
  },
  {
   "cell_type": "code",
   "execution_count": 14,
   "id": "3c75bd6d",
   "metadata": {},
   "outputs": [
    {
     "name": "stdout",
     "output_type": "stream",
     "text": [
      "[1, 2, 30, 31, 32]\n"
     ]
    }
   ],
   "source": [
    "k = [1, 2, 3, 4] \n",
    "k[2:] = [30, 31, 32] # 리스트 요소 변경 & 추가\n",
    "print(k)"
   ]
  },
  {
   "cell_type": "code",
   "execution_count": 15,
   "id": "36d88760",
   "metadata": {},
   "outputs": [
    {
     "name": "stdout",
     "output_type": "stream",
     "text": [
      "[1, 2, 4]\n"
     ]
    }
   ],
   "source": [
    "k = [1, 2, 3, 4] # 리스트 요소 삭제\n",
    "del(k[2])\n",
    "print(k)"
   ]
  },
  {
   "cell_type": "code",
   "execution_count": 16,
   "id": "097431b1",
   "metadata": {},
   "outputs": [
    {
     "name": "stdout",
     "output_type": "stream",
     "text": [
      "[1, 4]\n"
     ]
    }
   ],
   "source": [
    "k = [1, 2, 3, 4] # 리스트 요소 삭제\n",
    "k[1:3] = []\n",
    "print(k)"
   ]
  },
  {
   "cell_type": "code",
   "execution_count": 17,
   "id": "acd0453b",
   "metadata": {},
   "outputs": [
    {
     "name": "stdout",
     "output_type": "stream",
     "text": [
      "[1, 4]\n"
     ]
    }
   ],
   "source": [
    "k = [1, 2, 3, 4] # 리스트 요소 삭제\n",
    "del(k[1:3])\n",
    "print(k)"
   ]
  },
  {
   "cell_type": "code",
   "execution_count": 7,
   "id": "6d7bfa1b",
   "metadata": {},
   "outputs": [
    {
     "name": "stdout",
     "output_type": "stream",
     "text": [
      "k :  [1, 2, 3, 4, 5, 6]\n",
      "\n",
      "append(50) :  [1, 2, 3, 4, 5, 6, 50]\n",
      "\n",
      "pop() :  [1, 2, 3, 4, 5, 6]\n",
      "\n",
      "reverse() :  [6, 5, 4, 3, 2, 1]\n",
      "\n",
      "k.sort() :  [1, 2, 3, 4, 5, 6]\n",
      "\n",
      "k.remove(2) :  [1, 3, 4, 5, 6]\n",
      "\n",
      "del(k[2]) :  [1, 3, 5, 6]\n",
      "\n",
      "k.insert(1, 3) :  [1, 3, 3, 5, 6]\n",
      "\n",
      "k.extend(a) :  [1, 3, 3, 5, 6, 1000, 2000]\n",
      "\n",
      "k.count(3) :  2\n",
      "\n",
      "len(k) :  7\n",
      "\n",
      "index(5) :  3\n",
      "\n"
     ]
    }
   ],
   "source": [
    "k = [1, 2, 3, 4, 5, 6]\n",
    "a = [1000, 2000]\n",
    "print('k : ', k)\n",
    "print()\n",
    "\n",
    "k.append(50) # 항목추가\n",
    "print('append(50) : ', k)\n",
    "print()\n",
    "\n",
    "k.pop() # 끝 항목 삭제\n",
    "print('pop() : ', k)\n",
    "print()\n",
    "\n",
    "k.reverse() # 역순정렬\n",
    "print('reverse() : ', k)\n",
    "print()\n",
    "\n",
    "k.sort() # 오름차순 정렬\n",
    "print('k.sort() : ', k)\n",
    "print()\n",
    "\n",
    "k.remove(2) # 요소 삭제(요소로 접근)\n",
    "print('k.remove(2) : ', k)\n",
    "print()\n",
    "\n",
    "del(k[2]) # 요소 삭제(인덱스로 접근)\n",
    "print('del(k[2]) : ', k)\n",
    "print()\n",
    "\n",
    "k.insert(1, 3) # 지정한 위치에 값 삽입\n",
    "print('k.insert(1, 3) : ', k)\n",
    "print()\n",
    "\n",
    "k.extend(a) # 리스트와 리스트 더하기\n",
    "print('k.extend(a) : ', k)\n",
    "print()\n",
    "\n",
    "k.count(3) # 특정 값의 개수\n",
    "print('k.count(3) : ', k.count(3))\n",
    "print()\n",
    "\n",
    "len(k) # 리스트 길이\n",
    "print('len(k) : ', len(k))\n",
    "print()\n",
    "\n",
    "k.index(5) # 특정 값의 인덱스\n",
    "print('index(5) : ', k.index(5))\n",
    "print()\n",
    "\n",
    "\n",
    "\n"
   ]
  },
  {
   "cell_type": "markdown",
   "id": "327cca52",
   "metadata": {},
   "source": [
    "# 튜플"
   ]
  },
  {
   "cell_type": "code",
   "execution_count": 26,
   "id": "fcd74c99",
   "metadata": {},
   "outputs": [
    {
     "name": "stdout",
     "output_type": "stream",
     "text": [
      "(1, 2, 3, 4) <class 'tuple'>\n",
      "(1, 2, 3, 4) <class 'tuple'>\n",
      "(10,) <class 'tuple'>\n",
      "10 <class 'int'>\n",
      "(10,) <class 'tuple'>\n"
     ]
    }
   ],
   "source": [
    "tp1 = (1, 2, 3, 4) # 튜플 생성\n",
    "tp2 = 1, 2, 3, 4\n",
    "print(tp1, type(tp1))\n",
    "print(tp2, type(tp2))\n",
    "\n",
    "tp3 = (10,)\n",
    "tp4 = (10) # 튜플이 아니라 정수\n",
    "tp5 = 10,\n",
    "print(tp3, type(tp3))\n",
    "print(tp4, type(tp4))\n",
    "print(tp5, type(tp5))"
   ]
  },
  {
   "cell_type": "code",
   "execution_count": 27,
   "id": "557917a9",
   "metadata": {},
   "outputs": [
    {
     "name": "stdout",
     "output_type": "stream",
     "text": [
      "tp[1] :  2\n",
      "tp[3] :  4\n",
      "sum_ :  10\n"
     ]
    }
   ],
   "source": [
    "tp = (1, 2, 3, 4)\n",
    "print('tp[1] : ', tp[1]) # 튜플 원소 출력\n",
    "print('tp[3] : ', tp[3])\n",
    "\n",
    "sum_ = tp[0] + tp[1] + tp[2] + tp[3] # 튜플 원소 더하기\n",
    "print('sum_ : ', sum_ )"
   ]
  },
  {
   "cell_type": "code",
   "execution_count": null,
   "id": "f453aec0",
   "metadata": {},
   "outputs": [],
   "source": [
    "tp = (1, 2, 3, 4) # 튜플 분할\n",
    "print(tp[1:3])\n",
    "print(tp[1:])\n",
    "print(tp[:3])"
   ]
  },
  {
   "cell_type": "code",
   "execution_count": null,
   "id": "2bbbc8b3",
   "metadata": {},
   "outputs": [],
   "source": [
    "tp1 = (1, 2)\n",
    "tp2 = ('짝',)\n",
    "print(tp1 + tp2) # 튜플 연산\n",
    "print(tp2 * 3)"
   ]
  },
  {
   "cell_type": "code",
   "execution_count": 18,
   "id": "2c73dd67",
   "metadata": {},
   "outputs": [
    {
     "name": "stdout",
     "output_type": "stream",
     "text": [
      "mytp :  ('나 혼자', '파이썬')\n",
      "type(mytp) :  <class 'tuple'>\n",
      "\n",
      "mylist :  ['나 혼자', '파이썬']\n",
      "type(mylist) <class 'list'>\n",
      "\n",
      "mylist[0] = \"다 함께\" 변경 후 :  ['다 함께', '파이썬']\n",
      "\n",
      "mytp :  ('다 함께', '파이썬')\n",
      "type(mytp) :  <class 'tuple'>\n"
     ]
    }
   ],
   "source": [
    "mytp = ('나 혼자', '파이썬')\n",
    "print('mytp : ',mytp)\n",
    "print('type(mytp) : ',type(mytp))\n",
    "print()\n",
    "\n",
    "mylist = list(mytp) # 튜플 -> 리스트 변환\n",
    "print('mylist : ', mylist)\n",
    "print('type(mylist)', type(mylist))\n",
    "print()\n",
    "\n",
    "mylist[0] = '다 함께'\n",
    "print('mylist[0] = \"다 함께\" 변경 후 : ', mylist)\n",
    "print()\n",
    "\n",
    "mytp = tuple(mylist) # 리스트 -> 튜플 변환\n",
    "print('mytp : ', mytp)\n",
    "print('type(mytp) : ',type(mytp))"
   ]
  },
  {
   "cell_type": "markdown",
   "id": "face9e97",
   "metadata": {},
   "source": [
    "# Dictionary"
   ]
  },
  {
   "cell_type": "code",
   "execution_count": 28,
   "id": "8da47cbf",
   "metadata": {},
   "outputs": [
    {
     "name": "stdout",
     "output_type": "stream",
     "text": [
      "{'컵라면': 800, '삼각김밥': 1000, '소세지': 1500}\n",
      "{'boy': '소년', 'girl': '소녀', 'family': '가족'}\n"
     ]
    }
   ],
   "source": [
    "p = {'컵라면' : 800, '삼각김밥' : 1000, '소세지' : 1500} # 딕셔너리 생성\n",
    "w = {'boy' : '소년', 'girl' : '소녀', 'family' : '가족'} \n",
    "\n",
    "print(p)\n",
    "print(w)"
   ]
  },
  {
   "cell_type": "code",
   "execution_count": 29,
   "id": "56575d24",
   "metadata": {},
   "outputs": [
    {
     "name": "stdout",
     "output_type": "stream",
     "text": [
      "{'컵라면': 800, '삼각김밥': 1000, '소세지': 1500, '오뎅': 2000, '닭다리': 3000, '아이스크림': 1000}\n"
     ]
    }
   ],
   "source": [
    "p = {'컵라면' : 800, '삼각김밥' : 1000, '소세지' : 1500}\n",
    "\n",
    "p['오뎅'] = 2000 # 딕셔너리 원소 추가\n",
    "p['닭다리'] = 3000\n",
    "p['아이스크림'] = 1000\n",
    "print(p)"
   ]
  },
  {
   "cell_type": "code",
   "execution_count": null,
   "id": "3fc9d15a",
   "metadata": {},
   "outputs": [],
   "source": [
    "p = {'컵라면' : 800, '삼각김밥' : 1000, '소세지' : 1500}\n",
    "\n",
    "del(p['컵라면']) # 딕셔너리 원소 삭제\n",
    "del(p['소세지'])\n",
    "\n",
    "print(p)"
   ]
  },
  {
   "cell_type": "code",
   "execution_count": 30,
   "id": "6da04618",
   "metadata": {},
   "outputs": [
    {
     "name": "stdout",
     "output_type": "stream",
     "text": [
      "1000\n",
      "dict_keys(['컵라면', '삼각김밥', '소세지'])\n",
      "dict_values([800, 1000, 1500])\n"
     ]
    }
   ],
   "source": [
    "p = {'컵라면' : 800, '삼각김밥' : 1000, '소세지' : 1500}\n",
    "print(p.get('삼각김밥')) # key값에 해당하는 value\n",
    "print(p.keys()) # key값 출력\n",
    "print(p.values()) # value값 출력"
   ]
  },
  {
   "cell_type": "code",
   "execution_count": 32,
   "id": "f26d1f59",
   "metadata": {},
   "outputs": [
    {
     "name": "stdout",
     "output_type": "stream",
     "text": [
      "['컵라면', '삼각김밥', '소세지']\n",
      "[800, 1000, 1500]\n"
     ]
    }
   ],
   "source": [
    "p = {'컵라면' : 800, '삼각김밥' : 1000, '소세지' : 1500}\n",
    "p_k = list(p.keys()) # key값을 리스트화\n",
    "print(p_k)\n",
    "p_v = list(p.values()) # value값을 리스트화\n",
    "print(p_v)"
   ]
  },
  {
   "cell_type": "code",
   "execution_count": 33,
   "id": "368d170a",
   "metadata": {
    "scrolled": true
   },
   "outputs": [
    {
     "data": {
      "text/plain": [
       "True"
      ]
     },
     "execution_count": 33,
     "metadata": {},
     "output_type": "execute_result"
    }
   ],
   "source": [
    "'컵라면' in p # 해당 key값이 딕셔너리에 있는가"
   ]
  },
  {
   "cell_type": "code",
   "execution_count": 34,
   "id": "4e4f62b9",
   "metadata": {},
   "outputs": [
    {
     "data": {
      "text/plain": [
       "False"
      ]
     },
     "execution_count": 34,
     "metadata": {},
     "output_type": "execute_result"
    }
   ],
   "source": [
    "'컵라면' not in p # 해당 key값이 딕셔너리에 없는가"
   ]
  },
  {
   "cell_type": "code",
   "execution_count": null,
   "id": "d532a044",
   "metadata": {},
   "outputs": [],
   "source": [
    "'치킨' in p # 해당 key값이 딕셔너리에 있는가"
   ]
  },
  {
   "cell_type": "code",
   "execution_count": null,
   "id": "ea64f796",
   "metadata": {},
   "outputs": [],
   "source": [
    "arr_list = [1, 2, 3, 4, 5]\n",
    "if (9 not in arr_list):\n",
    "    print('9가 없다.')\n",
    "else:\n",
    "    print('9가 있다.')"
   ]
  },
  {
   "cell_type": "code",
   "execution_count": null,
   "id": "fae2875d",
   "metadata": {},
   "outputs": [],
   "source": [
    "str_ = 'Hello'\n",
    "if ('a' not in str_):\n",
    "    print('a가 문자열 안에 없다.')\n",
    "else:\n",
    "    print('a가 문자열 안에 있다.')"
   ]
  },
  {
   "cell_type": "code",
   "execution_count": null,
   "id": "6826f43a",
   "metadata": {},
   "outputs": [],
   "source": [
    "df_list = ['kim_a', 'kim_b', 'kim_c', 'seo_a', 'seo_b', 'seo_c']\n",
    "for col in df_list:\n",
    "    if ('kim' not in col):\n",
    "        print(col)"
   ]
  },
  {
   "cell_type": "code",
   "execution_count": null,
   "id": "41dec3d8",
   "metadata": {},
   "outputs": [],
   "source": [
    "capital = {'네팔' : '카트만두',\n",
    "          '대한민국' : '서울',\n",
    "          '일본' : '도쿄',\n",
    "          '중국' : '베이징',\n",
    "          '이탈리아' : '로마',\n",
    "          '러시아' : '모스크바',\n",
    "          '독일' : '베를린',\n",
    "          '미국' : '워싱턴',\n",
    "          '프랑스' : '파리',\n",
    "          '영국' : '런던'}\n",
    "while (True):\n",
    "    contry = input(str(list(capital.keys())) + \"나라의 수도는 무엇일까요? \")\n",
    "    if (contry in capital):\n",
    "        print(contry, '의 수도는', capital.get(contry), '입니다.')\n",
    "    elif (contry == \"exit\"):\n",
    "        break\n",
    "    else:\n",
    "        print('그런 나라 없습니다.')"
   ]
  },
  {
   "cell_type": "code",
   "execution_count": null,
   "id": "e2aaf010",
   "metadata": {},
   "outputs": [],
   "source": [
    "df_list = ['kim_a', 'kim_b', 'kim_c', 'seo_a', 'seo_b', 'seo_c']\n",
    "unselect_list = ['kim_a', 'seo_a']\n",
    "\n",
    "for col in df_list:\n",
    "    if (col not in unselect_list):\n",
    "        print(col)\n",
    "        "
   ]
  },
  {
   "cell_type": "code",
   "execution_count": null,
   "id": "45ef2e5a",
   "metadata": {},
   "outputs": [],
   "source": [
    "df_list = ['c programming', 'python programming', 'mysql', 'jquery']\n",
    "\n",
    "for col in df_list:\n",
    "    if ('pro' not in col):\n",
    "        print(col)"
   ]
  },
  {
   "cell_type": "code",
   "execution_count": null,
   "id": "b1857143",
   "metadata": {},
   "outputs": [],
   "source": [
    "print('i' + ' love' + ' you')\n",
    "\n",
    "str1 = 'i'\n",
    "str2 = ' love'\n",
    "str3 = ' you'\n",
    "print(str1 + str2 + str3)"
   ]
  },
  {
   "cell_type": "code",
   "execution_count": null,
   "id": "a0f86578",
   "metadata": {},
   "outputs": [],
   "source": [
    "print('-' * 30)\n",
    "print('i ' + 'love ' * 3 + 'you')\n",
    "print('-' * 30)"
   ]
  },
  {
   "cell_type": "code",
   "execution_count": null,
   "id": "3f922001",
   "metadata": {},
   "outputs": [],
   "source": [
    "str = '답은 정해져 있어 너는 대답만 해'\n",
    "print(str[0], end = '')\n",
    "print(str[3], end = '')\n",
    "print(str[10], end = '')"
   ]
  },
  {
   "cell_type": "code",
   "execution_count": null,
   "id": "317be477",
   "metadata": {},
   "outputs": [],
   "source": [
    "str1 = '다시 합창 합시다'\n",
    "print(str1)\n",
    "str2 = ''\n",
    "\n",
    "count = len(str1)\n",
    "\n",
    "for i in range(0, count):\n",
    "    str2 += str1[count - (i + 1)]\n",
    "print('str1 : ', str1)\n",
    "print('str2 : ', str2)"
   ]
  },
  {
   "cell_type": "code",
   "execution_count": null,
   "id": "a7c88c1d",
   "metadata": {},
   "outputs": [],
   "source": [
    "str = 'To be or not to be'\n",
    "\n",
    "print(str[0] + str[1] + str[2] + str[3] +str[4])\n",
    "print(str[0:5])\n",
    "print(str[6:8])\n",
    "print(str[9:16])"
   ]
  },
  {
   "cell_type": "code",
   "execution_count": null,
   "id": "7012d158",
   "metadata": {},
   "outputs": [],
   "source": [
    "str = 'To be or not to be'\n",
    "\n",
    "print(str[0:])\n",
    "print(str[:8])\n",
    "print(str[:])"
   ]
  },
  {
   "cell_type": "code",
   "execution_count": null,
   "id": "967ed89f",
   "metadata": {},
   "outputs": [],
   "source": [
    "value = int(input('정수값을 입력하세요. : '))\n",
    "print('현재 시간은 %d시 입니다.' % (value))\n",
    "\n",
    "value = float(input('실수값을 입력하세요. : '))\n",
    "print('현재 체온은 %.1f도 입니다.' % (value))\n",
    "\n",
    "value = input('문자열을 입력하세요. : ')\n",
    "print('나는 %s에 살고 있습니다.' % (value))\n",
    "\n"
   ]
  },
  {
   "cell_type": "code",
   "execution_count": null,
   "id": "f9ba13f5",
   "metadata": {},
   "outputs": [],
   "source": [
    "print('강수 확률은 %d%%입니다.' % 60)"
   ]
  },
  {
   "cell_type": "code",
   "execution_count": null,
   "id": "5f4f0616",
   "metadata": {},
   "outputs": [],
   "source": [
    "'현재 시간은 {0}시 입니다.' .format(3)"
   ]
  },
  {
   "cell_type": "code",
   "execution_count": null,
   "id": "0af35486",
   "metadata": {},
   "outputs": [],
   "source": [
    "'나는 {0}에 살고 있습니다.' .format('수원')"
   ]
  },
  {
   "cell_type": "code",
   "execution_count": null,
   "id": "683c44b8",
   "metadata": {},
   "outputs": [],
   "source": [
    "'현재 시간은 {0}시 {1}분 입니다.' .format(12, 30)"
   ]
  },
  {
   "cell_type": "code",
   "execution_count": null,
   "id": "adcb991c",
   "metadata": {},
   "outputs": [],
   "source": [
    "print('현재 시간은 {0}시 {1}분 입니다.' .format(12, 30))"
   ]
  },
  {
   "cell_type": "code",
   "execution_count": null,
   "id": "c0ae67e5",
   "metadata": {},
   "outputs": [],
   "source": [
    "print('현재 기온은 %d' %(40))"
   ]
  },
  {
   "cell_type": "code",
   "execution_count": null,
   "id": "02af8883",
   "metadata": {},
   "outputs": [],
   "source": [
    "'현재 기온은 %d' %(40)"
   ]
  },
  {
   "cell_type": "code",
   "execution_count": null,
   "id": "0cab323f",
   "metadata": {},
   "outputs": [],
   "source": [
    "value = int(input('정수값을 입력하세요. : '))\n",
    "print('현재 시간은 {0}시 입니다.' .format(value))\n",
    "\n",
    "value = input('문자열을 입력하세요. : ')\n",
    "print('나는 {0}에 살고 있습니다.' .format(value))\n",
    "      \n",
    "value1 = int(input('첫 번째정수값을 입력하세요. : '))\n",
    "value2 = int(input('두 번째정수값을 입력하세요. : '))\n",
    "print('현재 시간은 {0}시 {1}분 입니다' .format(12, 30))\n",
    "      \n",
    "\n",
    "\n"
   ]
  },
  {
   "cell_type": "code",
   "execution_count": null,
   "id": "9c977e68",
   "metadata": {},
   "outputs": [],
   "source": [
    "str1 = '간장 공장 공장장은 강 공장장이고 된장 공장 공장장은 공 공장장이다.'\n",
    "\n",
    "chr1 = str1.count('공')\n",
    "chr2 = str1.count('장')\n",
    "\n",
    "print('\"공\"의 개수 : %d' % chr1)\n",
    "print('\"장\"의 개수 : %d' % chr2)\n",
    "\n",
    "str2 = '내가 그린 기린 그림은 잘 그린 기린 그림이고 네가 그린 기린 그림은 잘 못 그린 기린 그림이다.'\n",
    "\n",
    "str2_1 = str2.count('그린')\n",
    "str2_2 = str2.count('기린')\n",
    "str2_3 = str2.count('그림')\n",
    "\n",
    "print('\"그린\"의 개수 : %d' % (str2_1))\n",
    "print('\"기린\"의 개수 : %d' % (str2_2))\n",
    "print('\"그림\"의 개수 : %d' % (str2_3))\n"
   ]
  },
  {
   "cell_type": "code",
   "execution_count": null,
   "id": "515b4fa7",
   "metadata": {},
   "outputs": [],
   "source": [
    "str1 = '간장 공장 공장장은 강 공장장이고 된장 공장 공장장은 공 공장장이다.'\n",
    "\n",
    "chr1 = str1.find('공')\n",
    "chr2 = str1.index('장')\n",
    "\n",
    "print('\"공\"의 위치 : %d' % (chr1))\n",
    "print('\"장\"의 위치 : %d' % (chr2))\n",
    "\n",
    "str2 = '내가 그린 기린 그림은 잘 그린 기린 그림이고 네가 그린 기린 그림은 잘 못 그린 기린 그림이다.'\n",
    "\n",
    "str2_1 = str2.find('그린')\n",
    "str2_2 = str2.index('기린')\n",
    "str2_3 = str2.find('음악')\n",
    "\n",
    "print('\"그린\"의 위치 : %d' % (str2_1))\n",
    "print('\"기린\"의 위치 : %d' % (str2_2))\n",
    "print('\"음악\"의 위치 : %d' % (str2_3))"
   ]
  },
  {
   "cell_type": "code",
   "execution_count": null,
   "id": "b48f7634",
   "metadata": {},
   "outputs": [],
   "source": [
    "train_str = '칙칙폭폭'\n",
    "num_str = '123456789'\n",
    "\n",
    "div_str1 = '-'.join(train_str)\n",
    "div_str2 = ':'.join(num_str)\n",
    "\n",
    "print(div_str1)\n",
    "print(div_str2)"
   ]
  },
  {
   "cell_type": "code",
   "execution_count": null,
   "id": "ffdba219",
   "metadata": {},
   "outputs": [],
   "source": [
    "ani_list = ['강아지', '고양이', '원숭이', '코끼리']\n",
    "time_list = ['12', '30', '55']\n",
    "\n",
    "ani_str = '+'.join(ani_list)\n",
    "time_str = ':'.join(time_list)\n",
    "\n",
    "print(ani_str)\n",
    "print(time_str)"
   ]
  },
  {
   "cell_type": "code",
   "execution_count": null,
   "id": "73236165",
   "metadata": {},
   "outputs": [],
   "source": [
    "planet_str = '수성-금성-지구-화성-목성-토성-천왕성-해왕성'\n",
    "time_str = '12시:30분:55초'\n",
    "\n",
    "planet_list = planet_str.split('-')\n",
    "time_list = time_str.split(':')\n",
    "\n",
    "print(planet_list)\n",
    "print(time_list)"
   ]
  },
  {
   "cell_type": "code",
   "execution_count": null,
   "id": "c03cefce",
   "metadata": {},
   "outputs": [],
   "source": [
    "eng_str = input('영문자를 입력하세요. : ')\n",
    "\n",
    "upper_str = eng_str.upper()\n",
    "lower_str = eng_str.lower()\n",
    "\n",
    "print('대문자로 변환 : %s' % (upper_str))\n",
    "print('소문자로 변환 : %s' % (lower_str))"
   ]
  },
  {
   "cell_type": "code",
   "execution_count": null,
   "id": "83e87e63",
   "metadata": {},
   "outputs": [],
   "source": [
    "str1 = ' 죽는 날까지 하늘을 우러러'\n",
    "str2 = '한점 부끄럼이 없기를 '\n",
    "str3 = ' 잎새에 이는 바람에도 '\n",
    "\n",
    "lstrip_str = str1.lstrip()\n",
    "rstrip_str = str1.rstrip()\n",
    "strip_str = str1.strip()\n",
    "\n",
    "print('str1 : %s' % (str1))\n",
    "print('str2 : %s' % (str2))\n",
    "print('str3 : %s' % (str3))\n",
    "\n",
    "print()\n",
    "print('왼쪽 공백 없애기 : %s' %(lstrip_str))\n",
    "print('오른쪽 공백 없애기 : %s' %(rstrip_str))\n",
    "print('양쪽 공백 없애기 : %s' %(strip_str))\n",
    "\n"
   ]
  },
  {
   "cell_type": "code",
   "execution_count": null,
   "id": "a8aa4f02",
   "metadata": {},
   "outputs": [],
   "source": [
    "while (True):\n",
    "    str_ = input('문자열을 입력하세요. :')\n",
    "    \n",
    "    if (str_.isdigit()):  # 숫자로 구성되어 있는가\n",
    "        print('문자열은 숫자로 구성되어 있습니다.')\n",
    "    elif (str_.isalpha()): # 문자로 구성되어 있는가 \n",
    "        print('문자열은 글자로 구성되어 있습니다.')\n",
    "        if (str_.isupper()): # 대문자로 구성되어 있는가\n",
    "            print('문자열은 대문자로 구성되어 있습니다.')\n",
    "        elif (str_.islower()): # 소문자로 구성되어 있는가\n",
    "            print('문자열은 소문자로 구성되어 있습니다.')\n",
    "    elif (str_.isspace()): # 공백으로 구성되어 있는가\n",
    "        print('문자열은 공백으로 구성되어 있습니다.')\n",
    "        break\n",
    "    else:\n",
    "        print('모르겠습니다.')"
   ]
  },
  {
   "cell_type": "code",
   "execution_count": null,
   "id": "596b4cba",
   "metadata": {},
   "outputs": [],
   "source": [
    "a = list(range(1, 26, 1))\n",
    "print(a)\n",
    "\n",
    "print(a[12])\n",
    "print(a[-13])"
   ]
  },
  {
   "cell_type": "code",
   "execution_count": null,
   "id": "06185768",
   "metadata": {},
   "outputs": [],
   "source": [
    "import os\n",
    "os.getcwd()"
   ]
  },
  {
   "cell_type": "code",
   "execution_count": null,
   "id": "4aeec983",
   "metadata": {},
   "outputs": [],
   "source": [
    "fName = 'poem.txt'\n",
    "fp = open(fName, \"rt\")\n",
    "print(fp.read())\n",
    "fp.close()"
   ]
  },
  {
   "cell_type": "code",
   "execution_count": null,
   "id": "599120f6",
   "metadata": {},
   "outputs": [],
   "source": [
    "fName = 'poem.txt'\n",
    "fp = open(fName, \"rt\")\n",
    "\n",
    "strline = fp.readline()\n",
    "print(strline)\n",
    "\n",
    "strline = fp.readline()\n",
    "print(strline)\n",
    "\n",
    "strline = fp.readline()\n",
    "print(strline)\n",
    "\n",
    "strline = fp.readline()\n",
    "print(strline)\n",
    "\n",
    "\n",
    "\n",
    "fp.close()"
   ]
  },
  {
   "cell_type": "code",
   "execution_count": null,
   "id": "6736d22a",
   "metadata": {},
   "outputs": [],
   "source": [
    "fName = 'poem.txt'\n",
    "fp = open(fName, \"rt\")\n",
    "\n",
    "while (True):\n",
    "    strline = fp.readline()\n",
    "    if (strline ==''):\n",
    "        break\n",
    "    print(strline)\n",
    "\n",
    "\n",
    "\n",
    "fp.close()"
   ]
  },
  {
   "cell_type": "code",
   "execution_count": null,
   "id": "88a4eff0",
   "metadata": {},
   "outputs": [],
   "source": [
    "fName = 'poem.txt'\n",
    "fp = open(fName, \"rt\")\n",
    "\n",
    "strline = fp.readlines()\n",
    "print(strline)\n",
    "\n",
    "fp.close()"
   ]
  },
  {
   "cell_type": "code",
   "execution_count": null,
   "id": "bef4f359",
   "metadata": {},
   "outputs": [],
   "source": [
    "fName = 'poem.txt'\n",
    "fp = open(fName, \"rt\")\n",
    "\n",
    "strline = fp.readlines()\n",
    "\n",
    "for strlist in strline:\n",
    "    print(strlist)\n",
    "\n",
    "fp.close()"
   ]
  },
  {
   "cell_type": "code",
   "execution_count": null,
   "id": "ac20aff3",
   "metadata": {},
   "outputs": [],
   "source": [
    "import os\n",
    "fName = input('파일명을 입력하세요. : ')\n",
    "print()\n",
    "\n",
    "if (os.path.exists(fName)):\n",
    "    with open(fName, \"r\") as fp:\n",
    "        strline = fp.readlines()\n",
    "        for strlist in strline:\n",
    "            print(strlist)\n",
    "else:\n",
    "    print('%s 파일은 존재하지 않습니다.' % (fName))"
   ]
  },
  {
   "cell_type": "code",
   "execution_count": null,
   "id": "37ca0947",
   "metadata": {},
   "outputs": [],
   "source": [
    "fName = 'file.txt'\n",
    "\n",
    "with open(fName, 'w') as fp:\n",
    "    while (True):\n",
    "        instr = input('데이터 입력 : ')\n",
    "        \n",
    "        if (instr == '\\q'):\n",
    "            break\n",
    "        fp.writelines(instr + '\\n')\n",
    "with open(fName, 'r') as fp:\n",
    "    strline = fp.readlines()\n",
    "    print()\n",
    "    print('<출력>')\n",
    "    for strlist in strline:\n",
    "        print(strlist)\n",
    "    "
   ]
  },
  {
   "cell_type": "code",
   "execution_count": null,
   "id": "ab1397c3",
   "metadata": {},
   "outputs": [],
   "source": [
    "srcfile = 'file.txt'\n",
    "destfile = 'destFile.txt'\n",
    "\n",
    "sfp = open(srcfile, 'r')\n",
    "dfp = open(destfile, 'w')\n",
    "\n",
    "slist = sfp.readlines()\n",
    "for instr in slist:\n",
    "    dfp.writelines(instr)\n",
    "    \n",
    "sfp.close()\n",
    "dfp.close()\n",
    "\n",
    "print('file.text 파일에서 destfile.txt로 복사하였습니다.')"
   ]
  },
  {
   "cell_type": "code",
   "execution_count": null,
   "id": "1dfcfb95",
   "metadata": {},
   "outputs": [],
   "source": [
    "srcfile = 'sea.jpg'\n",
    "destfile = 'seacpy.jpg'\n",
    "\n",
    "sfp = open(srcfile, 'rb')\n",
    "dfp = open(destfile, 'wb')\n",
    "\n",
    "while (True):\n",
    "    sbyte = sfp.read()\n",
    "    if (not sbyte):\n",
    "        break\n",
    "    dfp.write(sbyte)\n",
    "    \n",
    "sfp.close()\n",
    "dfp.close()\n",
    "\n",
    "print('sea.jpg 파일에서 seacpy.jpg로 복사하였습니다.')"
   ]
  },
  {
   "cell_type": "code",
   "execution_count": null,
   "id": "2842a185",
   "metadata": {},
   "outputs": [],
   "source": [
    "import os \n",
    "\n",
    "srcfile = 'SleepAway.mp3'\n",
    "\n",
    "if (os.path.exists(srcfile)):\n",
    "    sfp = open(srcfile, 'rb')\n",
    "    \n",
    "    sfp.seek(-128, 2)\n",
    "    tdata = sfp.read(128)\n",
    "    \n",
    "    title = tdata[3:33].decode()\n",
    "    print('제목 : ', title)\n",
    "    \n",
    "    artist = tdata[33:63].decode()\n",
    "    print('가수 : ', artist)\n",
    "    \n",
    "    mdate = tdata[93:97].decode()\n",
    "    print('출시년도 : ', mdate)\n",
    "    \n",
    "    etc = tdata[97:127].decode()\n",
    "    print('기타정보 : ', etc)\n",
    "    \n",
    "    sfp.close()\n",
    "    print('\\n 음악 파일 정보를 정상적으로 출력하였습니다.')"
   ]
  },
  {
   "cell_type": "markdown",
   "id": "3b795d67",
   "metadata": {},
   "source": [
    "# DataBase"
   ]
  },
  {
   "cell_type": "code",
   "execution_count": null,
   "id": "6779d758",
   "metadata": {},
   "outputs": [],
   "source": [
    "import sqlite3\n",
    "conn = sqlite3.connect('bookStoreDB')\n",
    "print('1. DB연결성공')"
   ]
  },
  {
   "cell_type": "code",
   "execution_count": null,
   "id": "15a6dc6b",
   "metadata": {},
   "outputs": [],
   "source": [
    "cur = conn.cursor()\n",
    "print('2. 커서 생성 성공')"
   ]
  },
  {
   "cell_type": "code",
   "execution_count": null,
   "id": "5e4b54eb",
   "metadata": {},
   "outputs": [],
   "source": [
    "cur.execute('create table if not exists bookItem (item char(100), author char(50), publisher char(50), stock int)')\n",
    "print('3. 테이블 생성')"
   ]
  },
  {
   "cell_type": "code",
   "execution_count": null,
   "id": "6656b7d4",
   "metadata": {},
   "outputs": [],
   "source": [
    "# cur.execute(\"delete from bookItem\")\n",
    "# conn.commit()"
   ]
  },
  {
   "cell_type": "code",
   "execution_count": null,
   "id": "6729607a",
   "metadata": {},
   "outputs": [],
   "source": [
    "cur.execute(\"insert into bookItem values('C programming', 'lee', 'digitalbooks', '100')\")\n",
    "cur.execute(\"insert into bookItem values('Python', 'lee', 'digitalbooks', '50')\")\n",
    "cur.execute(\"insert into bookItem values('Javascript', 'lee', 'hyejiwon', '300')\")\n",
    "cur.execute(\"insert into bookItem values('Django', 'kim', 'hyejiwon', '30')\")\n",
    "print('4. 데이터 입력')"
   ]
  },
  {
   "cell_type": "code",
   "execution_count": null,
   "id": "9f28cd78",
   "metadata": {},
   "outputs": [],
   "source": [
    "conn.commit()\n",
    "print('5.데이터 저장')"
   ]
  },
  {
   "cell_type": "code",
   "execution_count": null,
   "id": "52ae0808",
   "metadata": {
    "scrolled": true
   },
   "outputs": [],
   "source": [
    "cur.execute(\"select * from bookItem;\")\n",
    "print('6. 데이터 조회')"
   ]
  },
  {
   "cell_type": "code",
   "execution_count": null,
   "id": "9988e56d",
   "metadata": {},
   "outputs": [],
   "source": [
    "# row = cur.fetchall()\n",
    "# print(row)\n",
    "# print('\\n7. 데이터 출력')"
   ]
  },
  {
   "cell_type": "code",
   "execution_count": null,
   "id": "af581e3d",
   "metadata": {},
   "outputs": [],
   "source": [
    "# row = cur.fetchmany(5)\n",
    "# print(row)\n",
    "# print('\\n7. 데이터 출력')"
   ]
  },
  {
   "cell_type": "code",
   "execution_count": null,
   "id": "2fd41e58",
   "metadata": {},
   "outputs": [],
   "source": [
    "while (True):\n",
    "    row = cur.fetchone()\n",
    "    if (row == None):\n",
    "        break\n",
    "    print(row)\n",
    "print('\\n7. 데이터 출력')"
   ]
  },
  {
   "cell_type": "code",
   "execution_count": null,
   "id": "74f97bb4",
   "metadata": {},
   "outputs": [],
   "source": [
    "conn.close()\n",
    "print('8. DB연결 종료')"
   ]
  },
  {
   "cell_type": "markdown",
   "id": "72986388",
   "metadata": {},
   "source": [
    "# Class"
   ]
  },
  {
   "cell_type": "code",
   "execution_count": null,
   "id": "02e84087",
   "metadata": {},
   "outputs": [],
   "source": [
    "class Car:\n",
    "    # 자동차의 멤버 변수\n",
    "    __color = \"\"\n",
    "    __speed = 0\n",
    "    __direction = \"\"\n",
    "    \n",
    "    # 자동차의 메소드\n",
    "    def set_Speed(self, s_value):\n",
    "        self.__speed = s_value\n",
    "        \n",
    "    def set_Direction(self, d_value):\n",
    "        self.__direction = d_value\n",
    "    \n",
    "    def set_Color(self, c_value):\n",
    "        self.__color = c_value\n",
    "        \n",
    "    def get_Speed(self):\n",
    "        return self.__speed\n",
    "        \n",
    "    def get_Direction(self):\n",
    "        return self.__direction\n",
    "    \n",
    "    def get_Color(self):\n",
    "        return self.__color\n",
    "        \n",
    "mycar1 = Car()\n",
    "mycar2 = Car()\n",
    "mycar3 = Car()\n",
    "\n",
    "mycar1.set_Color(\"초록색\")\n",
    "mycar1.set_Speed(30)\n",
    "mycar1.set_Direction(\"전진\")\n",
    "\n",
    "# mycar2.__color = \"빨강색\"\n",
    "# mycar2.__speed = 60\n",
    "# mycar2.__direction = \"후진\"\n",
    "\n",
    "# mycar3.__color = \"노랑색\"\n",
    "# mycar3.__speed = 100\n",
    "# mycar3.__direction = \"전진\"\n",
    "\n",
    "print('자동차1의 정보 : ', mycar1.get_Color(), mycar1.get_Speed(), mycar1.get_Direction())\n",
    "        "
   ]
  },
  {
   "cell_type": "code",
   "execution_count": null,
   "id": "43fd46ee",
   "metadata": {},
   "outputs": [],
   "source": [
    "%reset"
   ]
  },
  {
   "cell_type": "code",
   "execution_count": null,
   "id": "fa9baeec",
   "metadata": {},
   "outputs": [],
   "source": [
    "del(Car)"
   ]
  },
  {
   "cell_type": "code",
   "execution_count": null,
   "id": "fbc6eb56",
   "metadata": {},
   "outputs": [],
   "source": []
  }
 ],
 "metadata": {
  "kernelspec": {
   "display_name": "Python 3 (ipykernel)",
   "language": "python",
   "name": "python3"
  },
  "language_info": {
   "codemirror_mode": {
    "name": "ipython",
    "version": 3
   },
   "file_extension": ".py",
   "mimetype": "text/x-python",
   "name": "python",
   "nbconvert_exporter": "python",
   "pygments_lexer": "ipython3",
   "version": "3.8.8"
  }
 },
 "nbformat": 4,
 "nbformat_minor": 5
}
